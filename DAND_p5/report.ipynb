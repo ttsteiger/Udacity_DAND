{
 "cells": [
  {
   "cell_type": "code",
   "execution_count": 1,
   "metadata": {
    "collapsed": false,
    "deletable": true,
    "editable": true,
    "hideCode": false,
    "hidePrompt": false
   },
   "outputs": [
    {
     "data": {
      "text/html": [
       "<!-- left align tables -->\n",
       "<style>\n",
       "table {margin-left: 0 !important;}\n",
       "</style>"
      ],
      "text/plain": [
       "<IPython.core.display.HTML object>"
      ]
     },
     "metadata": {},
     "output_type": "display_data"
    }
   ],
   "source": [
    "%%html\n",
    "<!-- left align tables -->\n",
    "<style>\n",
    "table {margin-left: 0 !important;}\n",
    "</style>"
   ]
  },
  {
   "cell_type": "markdown",
   "metadata": {
    "deletable": true,
    "editable": true,
    "hideCode": false,
    "hidePrompt": false
   },
   "source": [
    "# Identify Persons of Interest in the Enron Corpus Dataset\n",
    "\n",
    "## Introduction\n",
    "\n",
    "\n",
    "## Data Exploration\n",
    "\n",
    "### Dataset Description\n",
    "\n",
    "email\n",
    "https://www.cs.cmu.edu/~./enron/\n",
    "\n",
    "finance\n",
    "http://news.findlaw.com/hdocs/docs/enron/enron61702insiderpay.pdf"
   ]
  },
  {
   "cell_type": "code",
   "execution_count": 2,
   "metadata": {
    "collapsed": false,
    "deletable": true,
    "editable": true,
    "hideCode": false,
    "hideOutput": true,
    "hidePrompt": false
   },
   "outputs": [],
   "source": [
    "# import packages\n",
    "import warnings\n",
    "warnings.filterwarnings(\"ignore\")\n",
    "\n",
    "import matplotlib.pyplot as plt\n",
    "%matplotlib inline\n",
    "import numpy as np\n",
    "import os\n",
    "import pandas as pd\n",
    "import pickle\n",
    "import re\n",
    "import seaborn as sns\n",
    "\n",
    "from sklearn.feature_selection import SelectKBest\n",
    "from sklearn.model_selection import StratifiedKFold\n",
    "from sklearn.model_selection import train_test_split\n",
    "from sklearn.preprocessing import MinMaxScaler\n",
    "\n",
    "from sklearn.tree import DecisionTreeClassifier\n",
    "from sklearn.ensemble import RandomForestClassifier, AdaBoostClassifier\n",
    "from sklearn.naive_bayes import GaussianNB\n",
    "from sklearn.linear_model import LogisticRegression\n",
    "from sklearn.neighbors import KNeighborsClassifier\n",
    "from sklearn.svm import SVC\n",
    "\n",
    "from sklearn.metrics import precision_score\n",
    "from sklearn.metrics import recall_score\n",
    "from sklearn.model_selection import StratifiedShuffleSplit\n",
    "from sklearn.model_selection import GridSearchCV\n",
    "from sklearn.decomposition import PCA\n",
    "\n",
    "from helper_functions import convert_dict_to_df, scatter_plot, print_score_table, best_parameter_search"
   ]
  },
  {
   "cell_type": "code",
   "execution_count": 3,
   "metadata": {
    "collapsed": false,
    "deletable": true,
    "editable": true,
    "hideCode": false,
    "hidePrompt": false
   },
   "outputs": [
    {
     "name": "stdout",
     "output_type": "stream",
     "text": [
      "(146, 22)\n",
      "22\n",
      "18\n"
     ]
    }
   ],
   "source": [
    "# load dictionary containing the dataset\n",
    "with open(\"enron_dataset.pkl\", \"rb\") as data_file:\n",
    "    data_dict = pickle.load(data_file)\n",
    "\n",
    "# feature list\n",
    "features = ['poi', 'bonus', 'deferral_payments', 'deferred_income', \n",
    "            'director_fees', 'exercised_stock_options', 'expenses', \n",
    "            'loan_advances', 'long_term_incentive', 'other', 'restricted_stock', \n",
    "            'restricted_stock_deferred', 'salary', 'total_payments', \n",
    "            'total_stock_value', 'email_address', 'from_messages', \n",
    "            'from_poi_to_this_person', 'from_this_person_to_poi', \n",
    "            'shared_receipt_with_poi', 'to_messages']\n",
    "\n",
    "# convert specified features to data frame\n",
    "data_df = convert_dict_to_df(data_dict, features, remove_NaN=False, \n",
    "                        remove_all_zeroes=True, remove_any_zeroes=False, \n",
    "                        sort_keys=True)\n",
    "\n",
    "print(data_df.shape)\n",
    "print(len(list(data_df.columns.values)))\n",
    "print(data_df['poi'].sum())"
   ]
  },
  {
   "cell_type": "markdown",
   "metadata": {
    "deletable": true,
    "editable": true,
    "hideCode": false,
    "hidePrompt": false
   },
   "source": [
    "The underlying dataset for this project is a combination of Enron email and financial data. The data is present in the `enron_dataset.pkl` file where it is stored in a dictionary structure. Each key-value pair in the dictionary corresponds to one person. The dictionary key is the person's name, and the value is another dictionary, which contains the names of all the features and their values for that person. \n",
    "\n",
    "The data contains three major feature categories: POI labels, financial features and email features. The 21 feature names and their type are described in the table below.\n",
    "\n",
    "| Feature                   | Type        |\n",
    "|-------------------------- | ----------- |\n",
    "| poi                       | categorical |\n",
    "| bonus                     | numerical   |\n",
    "| deferral_payments         | numerical   |\n",
    "| deferred_income           | numerical   |\n",
    "| director_fees             | numerical   |\n",
    "| exercised_stock_options   | numerical   |\n",
    "| expenses                  | numerical   |\n",
    "| loan_advances             | numerical   |\n",
    "| long_term_incentive       | numerical   |\n",
    "| other                     | numerical   |\n",
    "| restricted_stock          | numerical   |\n",
    "| restricted_stock_deferred | numerical   |\n",
    "| salary                    | numerical   |\n",
    "| total_payments            | numerical   |\n",
    "| total_stock_value         | numerical   |\n",
    "| email_address             | text        |\n",
    "| from_messages             | numerical   |\n",
    "| from_poi_to_this_person   | numerical   |\n",
    "| from_this_person_to_poi   | numerical   |\n",
    "| shared_receipt_with_poi   | numerical   |\n",
    "| to_messages               | numerical   |\n",
    "\n",
    "The dataset contains information about 146 different data points. Of those, 18 are marked as POI.\n",
    "\n",
    "Missing values..."
   ]
  },
  {
   "cell_type": "code",
   "execution_count": 4,
   "metadata": {
    "collapsed": false,
    "deletable": true,
    "editable": true,
    "hideCode": false,
    "hidePrompt": false
   },
   "outputs": [
    {
     "name": "stdout",
     "output_type": "stream",
     "text": [
      "Number of NaN values in each columns:\n",
      "-------------------------------------\n",
      "name                           0\n",
      "poi                            0\n",
      "bonus                         64\n",
      "deferral_payments            107\n",
      "deferred_income               97\n",
      "director_fees                129\n",
      "exercised_stock_options       44\n",
      "expenses                      51\n",
      "loan_advances                142\n",
      "long_term_incentive           80\n",
      "other                         53\n",
      "restricted_stock              36\n",
      "restricted_stock_deferred    128\n",
      "salary                        51\n",
      "total_payments                21\n",
      "total_stock_value             20\n",
      "email_address                 35\n",
      "from_messages                 60\n",
      "from_poi_to_this_person       60\n",
      "from_this_person_to_poi       60\n",
      "shared_receipt_with_poi       60\n",
      "to_messages                   60\n",
      "dtype: int64\n"
     ]
    }
   ],
   "source": [
    "# count number of NaN values in each column\n",
    "print(\"Number of NaN values in each columns:\")\n",
    "print(\"-------------------------------------\")\n",
    "print(data_df.isnull().sum())"
   ]
  },
  {
   "cell_type": "markdown",
   "metadata": {
    "deletable": true,
    "editable": true,
    "hideCode": false,
    "hidePrompt": false
   },
   "source": [
    "The dataset contains a lot of features with missing values. One can see that it is based on the finacial data and that only for 86 point a connection to the email dataset could be made (60 data points without email data). For the features 'deferral_payments', 'director_fees', 'loan_advances' and 'restricted_stock_deferred' the fewest amount of  data is available."
   ]
  },
  {
   "cell_type": "markdown",
   "metadata": {
    "deletable": true,
    "editable": true,
    "hideCode": false,
    "hidePrompt": false
   },
   "source": [
    "### Outliers\n",
    "\n",
    "In the financial data a strange outlier was found. This data point had the largest values for all the different financial feature and was identified as the total column from the spreadsheet. Futhermore, I discovered the key 'THE TRAVEL AGENCY IN THE PARK' which is not the name of a person as well as the data point of 'LOCKHART EUGENE E' that consists of all zero values. These lines were dropped and not considered further."
   ]
  },
  {
   "cell_type": "code",
   "execution_count": 5,
   "metadata": {
    "collapsed": false,
    "deletable": true,
    "editable": true,
    "hideCode": false,
    "hideOutput": true,
    "hidePrompt": false
   },
   "outputs": [
    {
     "name": "stdout",
     "output_type": "stream",
     "text": [
      "(143, 22)\n"
     ]
    }
   ],
   "source": [
    "# drop outlier rows\n",
    "for n in ['TOTAL', 'THE TRAVEL AGENCY IN THE PARK', 'LOCKHART EUGENE E']:\n",
    "    data_df = data_df[data_df['name'] != n]\n",
    "\n",
    "print(data_df.shape)"
   ]
  },
  {
   "cell_type": "markdown",
   "metadata": {
    "deletable": true,
    "editable": true,
    "hideCode": false,
    "hidePrompt": false
   },
   "source": [
    "log scaling of skewed distributions???\n",
    "\n",
    "### Feature Engineering\n",
    "\n",
    "Before selecting the features that influence 'poi' labelling the most I created two new features. First of all, I thought about looking at the ratio between 'restricted_stock' and 'total_stock_value'. As POIs in general had higher stock options maybe they also tried to prevent those from being restricted leading to low values for the 'poi_email_fraction'. Secondly, I created a new variable comparing the number of emails received from and sent to POIs with the total number of email received and sent by each pearson. I would expect POIs to communicate more frequently with other POIs and thus having higher 'poi_email_fraction' values."
   ]
  },
  {
   "cell_type": "code",
   "execution_count": 6,
   "metadata": {
    "collapsed": false,
    "deletable": true,
    "editable": true,
    "hideCode": false,
    "hidePrompt": false
   },
   "outputs": [
    {
     "data": {
      "image/png": "[encoded data removed]",
      "text/plain": [
       "<matplotlib.figure.Figure at 0x1e22ea9438>"
      ]
     },
     "metadata": {},
     "output_type": "display_data"
    }
   ],
   "source": [
    "# poi fraction\n",
    "data_df['restricted_stock_fraction'] = data_df['restricted_stock'] / data_df['total_stock_value']\n",
    "data_df['poi_email_fraction'] = (data_df['from_poi_to_this_person'] + data_df['from_this_person_to_poi']) / (data_df['from_messages'] + data_df['to_messages'])\n",
    "\n",
    "# visualization\n",
    "scatter_plot(data_df, 'restricted_stock_fraction', 'poi_email_fraction')"
   ]
  },
  {
   "cell_type": "markdown",
   "metadata": {
    "collapsed": true,
    "deletable": true,
    "editable": true,
    "hideCode": false,
    "hidePrompt": false
   },
   "source": [
    "By visualizing these new featuers one can see that all but one POI have a 'poi_email_fraction' larger than 0.2. The point that breaks ranks occurs as there is no email data for that person available. Most POIs have 'restricted_stock_fractions' between 0.2 and 0.7 but there are three data points that have all their stocks restircted.\n",
    "\n",
    "### Feature Selection\n",
    "\n",
    "\n",
    "\n",
    "SelectKBest\n",
    "\n",
    "scales features for meaningful comparison"
   ]
  },
  {
   "cell_type": "code",
   "execution_count": 7,
   "metadata": {
    "collapsed": false,
    "deletable": true,
    "editable": true,
    "hideCode": false,
    "hidePrompt": false
   },
   "outputs": [
    {
     "name": "stdout",
     "output_type": "stream",
     "text": [
      "Feature                   Score     \n",
      "-------------------------------\n",
      "exercised_stock_options   24.82\n",
      "total_stock_value         24.18\n",
      "bonus                     20.79\n",
      "salary                    18.29\n",
      "deferred_income           11.46\n",
      "long_term_incentive       9.92\n",
      "restricted_stock          9.21\n",
      "total_payments            8.77\n",
      "shared_receipt_with_poi   8.59\n",
      "loan_advances             7.18\n",
      "expenses                  6.09\n",
      "poi_email_fraction        5.4\n",
      "from_poi_to_this_person   5.24\n",
      "other                     4.19\n",
      "from_this_person_to_poi   2.38\n",
      "director_fees             2.13\n",
      "to_messages               1.65\n",
      "restricted_stock_fraction 1.09\n",
      "deferral_payments         0.22\n",
      "from_messages             0.17\n",
      "restricted_stock_deferred 0.07\n"
     ]
    }
   ],
   "source": [
    "X = data_df.fillna(value=0).select_dtypes(include=[np.number])\n",
    "y = data_df['poi']\n",
    "\n",
    "selector = SelectKBest(k=X.shape[1])\n",
    "selector.fit(X, y)\n",
    "\n",
    "features = X[selector.get_support(indices=True)].columns.values\n",
    "scores = selector.scores_\n",
    "score_list = sorted([(f, s) for f, s in zip(features, scores)], key=lambda tup: tup[1], reverse=True)\n",
    "\n",
    "print(\"{:<25} {:<10}\".format(\"Feature\", \"Score\"))\n",
    "print(\"-------------------------------\")\n",
    "for tup in score_list:\n",
    "    print(\"{:<25} {}\".format(tup[0], round(tup[1], 2)))"
   ]
  },
  {
   "cell_type": "markdown",
   "metadata": {
    "hideCode": false,
    "hidePrompt": false
   },
   "source": [
    "For the rest of project we will focus on the ten features with the highest scores. Nine of these come from the financial data and only 'shared_receipt_with_poi' comes from the emails. Below, one can see the top five features visualized in a scatter matrix."
   ]
  },
  {
   "cell_type": "code",
   "execution_count": 8,
   "metadata": {
    "collapsed": false,
    "hideCode": false,
    "hidePrompt": false
   },
   "outputs": [
    {
     "data": {
      "image/png": "[encoded data removed]",
      "text/plain": [
       "<matplotlib.figure.Figure at 0x1e25d8c710>"
      ]
     },
     "metadata": {},
     "output_type": "display_data"
    }
   ],
   "source": [
    "# create scatter matrix of the top 5 features\n",
    "top_5_features = [f for (f, s) in list(score_list)[:5]]\n",
    "\n",
    "# add 'poi' to include this feature in the plotting dataframe\n",
    "plot_features = top_5_features\n",
    "plot_features.append('poi')\n",
    "\n",
    "# create dataframe copy with the desired columns for plotting\n",
    "data_df_plot = data_df.loc[:, plot_features].fillna(value=0)\n",
    "\n",
    "# scale all features except for 'poi'\n",
    "scaler = MinMaxScaler()\n",
    "data_df_plot[top_5_features[:-1]] = scaler.fit_transform(data_df_plot[top_5_features[:-1]])\n",
    "\n",
    "# create 'label' feature as 'hue' input for sns.pairplot() \n",
    "data_df_plot['label'] = 0\n",
    "data_df_plot.loc[data_df_plot['poi'] == True, 'label'] = 'poi'\n",
    "data_df_plot.loc[data_df_plot['poi'] == False, 'label'] = 'non poi'\n",
    "\n",
    "# remove 'poi' feature\n",
    "data_df_plot.drop(['poi'], axis=1, inplace=True)\n",
    "\n",
    "# create pairplot\n",
    "fig = sns.pairplot(data_df_plot, hue=\"label\", diag_kind=\"hist\")  \n",
    "\n",
    "# format axes\n",
    "for i, axes in enumerate(fig.axes):\n",
    "    for j, ax in enumerate(axes):\n",
    "        ax.set(xlim=[-0.05, 1.05], ylim=[-0.05, 1.05])\n",
    "        ax.set_xticklabels([0, 1])\n",
    "        ax.set_xticks([0, 1])\n",
    "        ax.set_yticklabels([0, 1])\n",
    "        ax.set_yticks([0, 1])\n",
    "\n",
    "plt.show()"
   ]
  },
  {
   "cell_type": "markdown",
   "metadata": {
    "hideCode": false,
    "hidePrompt": false
   },
   "source": [
    "interpretation scatter matrix\n",
    "\n",
    "\n",
    "only use 'exercised_stock_options' or 'total_stock_value', strong correlation between these two features as expected\n",
    "\n",
    "deferred_income is negative -> most values around 1\n",
    "\n",
    "'loan_advances' contains only 3 non zero values \n",
    "\n",
    "\n",
    "replacement with 'expenses' and 'poi_email_fraction'"
   ]
  },
  {
   "cell_type": "code",
   "execution_count": 9,
   "metadata": {
    "collapsed": false,
    "hideCode": false,
    "hidePrompt": false
   },
   "outputs": [],
   "source": [
    "# store top 10 features in a list\n",
    "top_10_features = [f for (f, s) in list(score_list)[:10]]\n",
    "top_10_features.extend(['expenses', 'poi_email_fraction'])\n",
    "top_10_features = [i for i in top_10_features if i not in ['total_stock_value', 'loan_advances']]"
   ]
  },
  {
   "cell_type": "markdown",
   "metadata": {
    "deletable": true,
    "editable": true,
    "hideCode": false,
    "hidePrompt": false
   },
   "source": [
    "## Algorithm Selection\n",
    "\n",
    "\n",
    "Random Forest Classifer, Support Vector Machine & Logistic Regression\n",
    "\n",
    "`StratifiedShuffleSplit` because data is imbalanced and sensitive to input so we use kfold crossvalidation\n",
    "\n",
    "still very  sensitive results, vary strongly each run\n",
    "\n",
    "\n"
   ]
  },
  {
   "cell_type": "code",
   "execution_count": 10,
   "metadata": {
    "collapsed": false,
    "hideCode": false,
    "hidePrompt": false
   },
   "outputs": [
    {
     "name": "stdout",
     "output_type": "stream",
     "text": [
      "Classifier                Accuracy   Precision  Recall\n",
      "------------------------------------------------------\n",
      "Logistic Regression       0.87       0.22       0.05\n",
      "Gaussian Naive Bayes      0.84       0.38       0.34\n",
      "Support Vector Classifier 0.88       0.0        0.0\n",
      "KNeighbors Classifier     0.86       0.11       0.03\n",
      "Decision Tree Classifier  0.81       0.28       0.3\n",
      "Random Forest Classifier  0.87       0.29       0.12\n",
      "AdaBoost Classifier       0.84       0.3        0.23\n"
     ]
    }
   ],
   "source": [
    "# data preparation\n",
    "X = data_df.loc[:, top_10_features]\n",
    "scaler = MinMaxScaler()\n",
    "X[top_10_features] = scaler.fit_transform(X[top_10_features].fillna(value=0))\n",
    "X = X.values\n",
    "\n",
    "y = data_df['poi'].astype(int).values\n",
    "\n",
    "# classifier names and objects    \n",
    "names = ['Logistic Regression', 'Gaussian Naive Bayes', 'Support Vector Classifier', 'KNeighbors Classifier', \n",
    "         'Decision Tree Classifier', 'Random Forest Classifier', 'AdaBoost Classifier']\n",
    "classifiers =[LogisticRegression(random_state=42),\n",
    "              GaussianNB(),\n",
    "              SVC(random_state=42),\n",
    "              KNeighborsClassifier(),\n",
    "              DecisionTreeClassifier(random_state=42),\n",
    "              RandomForestClassifier(random_state=42),\n",
    "              AdaBoostClassifier(random_state=42)]\n",
    "\n",
    "print_score_table(names, classifiers, X, y, random_state=42)"
   ]
  },
  {
   "cell_type": "markdown",
   "metadata": {
    "deletable": true,
    "editable": true,
    "hideCode": false,
    "hidePrompt": false
   },
   "source": [
    "three different metrics, accuracy is generally high because of the imbalace in the data und thus all models predict a large amount of non-POI correctly. Precision... . Recall... .\n",
    "warning because classifier predicted no POI in the test set correctly"
   ]
  },
  {
   "cell_type": "markdown",
   "metadata": {
    "hideCode": false,
    "hidePrompt": false
   },
   "source": [
    "vary number of input features, from 1 to 10 based on feature selection ranking\n",
    "\n",
    "'Stratified"
   ]
  },
  {
   "cell_type": "code",
   "execution_count": 11,
   "metadata": {
    "collapsed": false
   },
   "outputs": [],
   "source": [
    "# data preparation\n",
    "X = data_df.loc[:, top_10_features]\n",
    "scaler = MinMaxScaler()\n",
    "X[top_10_features] = scaler.fit_transform(X[top_10_features].fillna(value=0))\n",
    "\n",
    "y = data_df['poi'].astype(int)\n",
    "\n",
    "# dictionary to store all results\n",
    "clf_results = {} \n",
    "for n in names:\n",
    "    clf_results[n] = {}\n",
    "    for i in range(1, len(top_10_features) + 1):\n",
    "        clf_results[n][i] = {'accuracy': [], 'precision': [], 'recall': []}\n",
    "\n",
    "# loop trough features\n",
    "for i in range(1, len(top_10_features) + 1):\n",
    "    features = top_10_features[:i]\n",
    "    X_i = X.loc[:, features]\n",
    "    \n",
    "    # training and test set split\n",
    "    sss = StratifiedShuffleSplit(n_splits=100, test_size=0.33, random_state=42)\n",
    "    for train_ixs, test_ixs in sss.split(X_i, y):\n",
    "        X_i_train, X_i_test = X_i.iloc[train_ixs].values, X_i.iloc[test_ixs].values\n",
    "        y_train, y_test = y.iloc[train_ixs].values, y.iloc[test_ixs].values\n",
    "\n",
    "        for n, clf in zip(names, classifiers):\n",
    "            clf.fit(X_i_train, y_train)\n",
    "            pred = clf.predict(X_i_test)\n",
    "            \n",
    "            accuracy = clf.score(X_i_test, y_test)\n",
    "            precision = precision_score(y_test, pred)\n",
    "            recall = recall_score(y_test, pred)\n",
    "            \n",
    "            clf_results[n][i]['accuracy'].append(accuracy)\n",
    "            clf_results[n][i]['precision'].append(precision)\n",
    "            clf_results[n][i]['recall'].append(recall)\n",
    "\n",
    "# reformat results dictionary for easier plotting\n",
    "clf_results_plot = {}\n",
    "for n in names:\n",
    "    clf_results_plot[n] = {\"accuracy\": [], 'precision': [], 'recall': []}\n",
    "    \n",
    "    for i in range(1, len(top_10_features) + 1):\n",
    "        accuracy_cv = np.mean(clf_results[n][i]['accuracy'])\n",
    "        precision_cv = np.mean(clf_results[n][i]['precision'])\n",
    "        recall_cv = np.mean(clf_results[n][i]['recall'])\n",
    "        \n",
    "        clf_results_plot[n]['accuracy'].append(accuracy_cv)\n",
    "        clf_results_plot[n]['precision'].append(precision_cv)\n",
    "        clf_results_plot[n]['recall'].append(recall_cv)"
   ]
  },
  {
   "cell_type": "code",
   "execution_count": 12,
   "metadata": {
    "collapsed": false
   },
   "outputs": [
    {
     "data": {
      "image/png": "[encoded data removed]",
      "text/plain": [
       "<matplotlib.figure.Figure at 0x1e2aad6d68>"
      ]
     },
     "metadata": {},
     "output_type": "display_data"
    }
   ],
   "source": [
    "# visualize metrics for all algorithms\n",
    "fig, axs = plt.subplots(1, len(names), figsize=(15, 6))\n",
    "n_features = np.arange(1, len(top_10_features) + 1)\n",
    "\n",
    "for ax, title in zip(axs, names):\n",
    "    for m in clf_results_plot[title].keys():\n",
    "        ax.plot(n_features, clf_results_plot[title][m], label=m, marker='o', alpha=0.5)\n",
    "        ax.set(xlim=[0.5, 10.5], xticks=n_features, ylim=[0.0, 1.0], yticks=np.arange(0, 1, 0.25))\n",
    "        ax.set_xlabel(\"Number of Features\", fontsize=10)\n",
    "        ax.set_title(title, fontsize=10)\n",
    "        ax.tick_params(axis='both', which='major', labelsize=8, direction='in', pad=1)\n",
    "\n",
    "plt.legend(loc='upper right', bbox_to_anchor=(1.9, 0.6))\n",
    "plt.show()"
   ]
  },
  {
   "cell_type": "markdown",
   "metadata": {
    "hideCode": false,
    "hidePrompt": false
   },
   "source": [
    "consolidate two qualifier metrics from results above\n",
    "\n",
    "GaussianNB, Decision Tree, Random Forest and AdaBoost seem to perform the best, focus on these four for the remaining analysis, no major influence of feature number on performance visible, stick with top 10"
   ]
  },
  {
   "cell_type": "markdown",
   "metadata": {},
   "source": [
    "next step\n",
    "\n",
    "GridSeachCV for parameter optimization\n",
    "\n",
    "GaussianNB: -\n",
    "\n",
    "\n",
    "Decision Tree: criterion -> 'gini', 'entropy', min_samples_split -> 2, 5, 10\n",
    "\n",
    "\n",
    "Random Forest: n_estimators -> 5, 10, 15, 20, criterion -> 'gini', 'entropy', min_samples_split -> 2, 5, 10\n",
    "\n",
    "\n",
    "AdaBoost: n_estimators -> 20, 50, 100\n"
   ]
  },
  {
   "cell_type": "code",
   "execution_count": 13,
   "metadata": {
    "collapsed": false,
    "hideCode": false,
    "hidePrompt": false
   },
   "outputs": [
    {
     "name": "stdout",
     "output_type": "stream",
     "text": [
      "Classifier                Precision  Parameters\n",
      "------------------------------------------------\n",
      "Logistic Regression       0.35       {'C': 10}\n",
      "Gaussian Naive Bayes      0.38       {}\n",
      "Support Vector Classifier 0.24       {'C': 100}\n",
      "KNeighbors Classifier     0.31       {'algorithm': 'ball_tree', 'n_neighbors': 1}\n",
      "Decision Tree Classifier  0.3        {'min_samples_split': 5, 'criterion': 'gini'}\n",
      "Random Forest Classifier  0.36       {'min_samples_split': 5, 'criterion': 'gini', 'n_estimators': 20}\n",
      "AdaBoost Classifier       0.34       {'n_estimators': 2}\n",
      "\n",
      "Classifier                Recall     Parameters\n",
      "------------------------------------------------\n",
      "Logistic Regression       0.15       {'C': 1000}\n",
      "Gaussian Naive Bayes      0.34       {}\n",
      "Support Vector Classifier 0.09       {'C': 1000}\n",
      "KNeighbors Classifier     0.26       {'algorithm': 'ball_tree', 'n_neighbors': 1}\n",
      "Decision Tree Classifier  0.3        {'min_samples_split': 2, 'criterion': 'gini'}\n",
      "Random Forest Classifier  0.27       {'min_samples_split': 2, 'criterion': 'entropy', 'n_estimators': 1}\n",
      "AdaBoost Classifier       0.24       {'n_estimators': 20}\n"
     ]
    }
   ],
   "source": [
    "# data preparation\n",
    "X = data_df.loc[:, top_10_features]\n",
    "scaler = MinMaxScaler()\n",
    "X[top_10_features] = scaler.fit_transform(X[top_10_features].fillna(value=0))\n",
    "X = X.values\n",
    "\n",
    "y = data_df['poi'].astype(int).values\n",
    "        \n",
    "# parameter tuning\n",
    "param_grid = {'Logistic Regression': {'C': [0.001, 0.01, 0.1, 1, 10, 100, 1000]},\n",
    "              'Gaussian Naive Bayes': {}, # GaussianNB has no parameters\n",
    "              'Support Vector Classifier': {'C': [0.001, 0.01, 0.1, 1, 10, 100, 1000]}, # 'kernel': ['linear', 'poly', 'rbf', 'sigmoid', 'precomputed']\n",
    "              'KNeighbors Classifier': {'n_neighbors': [1, 2, 5, 10, 20],\n",
    "                                        'algorithm': ['ball_tree', 'kd_tree', 'brute']},\n",
    "              'Decision Tree Classifier': {'criterion': ['gini', 'entropy'], \n",
    "                                           'min_samples_split': [2, 5, 10, 20]},\n",
    "              'Random Forest Classifier': {'n_estimators': [1, 2, 5, 10, 20], \n",
    "                                           'criterion': ['gini', 'entropy'], \n",
    "                                           'min_samples_split': [2, 5, 10, 20]},\n",
    "              'AdaBoost Classifier': {'n_estimators': [1, 2, 5, 10, 20]}}\n",
    "\n",
    "best_parameter_search(names, classifiers, X, y, param_grid, score='precision', random_state=42)\n",
    "print()\n",
    "best_parameter_search(names, classifiers, X, y, param_grid, score='recall', random_state=42)"
   ]
  },
  {
   "cell_type": "markdown",
   "metadata": {},
   "source": [
    "select best algorithms based on results above\n",
    "\n",
    "tune parameters and number of features together for best algorithms\n",
    "-> probably different best number of features for each algorithm\n",
    "\n",
    "cross-validation for train/test split -> stratifiedkfold"
   ]
  },
  {
   "cell_type": "code",
   "execution_count": 19,
   "metadata": {
    "collapsed": false
   },
   "outputs": [
    {
     "name": "stdout",
     "output_type": "stream",
     "text": [
      "1\n",
      "Classifier                Precision  Parameters\n",
      "------------------------------------------------\n",
      "Gaussian Naive Bayes      0.5        {}\n",
      "Decision Tree Classifier  0.4        {'min_samples_split': 20, 'criterion': 'gini'}\n",
      "Random Forest Classifier  0.57       {'min_samples_split': 20, 'criterion': 'gini', 'n_estimators': 20}\n",
      "AdaBoost Classifier       0.59       {'n_estimators': 1}\n",
      "\n",
      "Classifier                Recall     Parameters\n",
      "------------------------------------------------\n",
      "Gaussian Naive Bayes      0.28       {}\n",
      "Decision Tree Classifier  0.19       {'min_samples_split': 10, 'criterion': 'gini'}\n",
      "Random Forest Classifier  0.2        {'min_samples_split': 5, 'criterion': 'gini', 'n_estimators': 10}\n",
      "AdaBoost Classifier       0.19       {'n_estimators': 1}\n",
      "2\n",
      "Classifier                Precision  Parameters\n",
      "------------------------------------------------\n",
      "Gaussian Naive Bayes      0.5        {}\n",
      "Decision Tree Classifier  0.36       {'min_samples_split': 5, 'criterion': 'entropy'}\n",
      "Random Forest Classifier  0.62       {'min_samples_split': 5, 'criterion': 'gini', 'n_estimators': 10}\n",
      "AdaBoost Classifier       0.46       {'n_estimators': 2}\n",
      "\n",
      "Classifier                Recall     Parameters\n",
      "------------------------------------------------\n",
      "Gaussian Naive Bayes      0.32       {}\n",
      "Decision Tree Classifier  0.39       {'min_samples_split': 2, 'criterion': 'gini'}\n",
      "Random Forest Classifier  0.39       {'min_samples_split': 2, 'criterion': 'entropy', 'n_estimators': 20}\n",
      "AdaBoost Classifier       0.27       {'n_estimators': 20}\n",
      "3\n",
      "Classifier                Precision  Parameters\n",
      "------------------------------------------------\n",
      "Gaussian Naive Bayes      0.47       {}\n",
      "Decision Tree Classifier  0.28       {'min_samples_split': 10, 'criterion': 'gini'}\n",
      "Random Forest Classifier  0.48       {'min_samples_split': 5, 'criterion': 'entropy', 'n_estimators': 20}\n",
      "AdaBoost Classifier       0.4        {'n_estimators': 2}\n",
      "\n",
      "Classifier                Recall     Parameters\n",
      "------------------------------------------------\n",
      "Gaussian Naive Bayes      0.3        {}\n",
      "Decision Tree Classifier  0.32       {'min_samples_split': 2, 'criterion': 'gini'}\n",
      "Random Forest Classifier  0.32       {'min_samples_split': 5, 'criterion': 'gini', 'n_estimators': 1}\n",
      "AdaBoost Classifier       0.23       {'n_estimators': 10}\n",
      "4\n",
      "Classifier                Precision  Parameters\n",
      "------------------------------------------------\n",
      "Gaussian Naive Bayes      0.53       {}\n",
      "Decision Tree Classifier  0.31       {'min_samples_split': 10, 'criterion': 'gini'}\n",
      "Random Forest Classifier  0.5        {'min_samples_split': 5, 'criterion': 'entropy', 'n_estimators': 10}\n",
      "AdaBoost Classifier       0.38       {'n_estimators': 2}\n",
      "\n",
      "Classifier                Recall     Parameters\n",
      "------------------------------------------------\n",
      "Gaussian Naive Bayes      0.38       {}\n",
      "Decision Tree Classifier  0.29       {'min_samples_split': 2, 'criterion': 'gini'}\n",
      "Random Forest Classifier  0.3        {'min_samples_split': 2, 'criterion': 'gini', 'n_estimators': 1}\n",
      "AdaBoost Classifier       0.22       {'n_estimators': 20}\n",
      "5\n",
      "Classifier                Precision  Parameters\n",
      "------------------------------------------------\n",
      "Gaussian Naive Bayes      0.48       {}\n",
      "Decision Tree Classifier  0.29       {'min_samples_split': 10, 'criterion': 'gini'}\n",
      "Random Forest Classifier  0.5        {'min_samples_split': 10, 'criterion': 'gini', 'n_estimators': 10}\n",
      "AdaBoost Classifier       0.37       {'n_estimators': 2}\n",
      "\n",
      "Classifier                Recall     Parameters\n",
      "------------------------------------------------\n",
      "Gaussian Naive Bayes      0.41       {}\n",
      "Decision Tree Classifier  0.27       {'min_samples_split': 2, 'criterion': 'gini'}\n",
      "Random Forest Classifier  0.27       {'min_samples_split': 10, 'criterion': 'gini', 'n_estimators': 1}\n",
      "AdaBoost Classifier       0.2        {'n_estimators': 20}\n",
      "6\n",
      "Classifier                Precision  Parameters\n",
      "------------------------------------------------\n",
      "Gaussian Naive Bayes      0.45       {}\n",
      "Decision Tree Classifier  0.29       {'min_samples_split': 10, 'criterion': 'gini'}\n",
      "Random Forest Classifier  0.45       {'min_samples_split': 20, 'criterion': 'gini', 'n_estimators': 10}\n",
      "AdaBoost Classifier       0.39       {'n_estimators': 2}\n",
      "\n",
      "Classifier                Recall     Parameters\n",
      "------------------------------------------------\n",
      "Gaussian Naive Bayes      0.4        {}\n",
      "Decision Tree Classifier  0.28       {'min_samples_split': 2, 'criterion': 'gini'}\n",
      "Random Forest Classifier  0.3        {'min_samples_split': 2, 'criterion': 'gini', 'n_estimators': 1}\n",
      "AdaBoost Classifier       0.2        {'n_estimators': 2}\n",
      "7\n",
      "Classifier                Precision  Parameters\n",
      "------------------------------------------------\n",
      "Gaussian Naive Bayes      0.41       {}\n",
      "Decision Tree Classifier  0.3        {'min_samples_split': 10, 'criterion': 'gini'}\n",
      "Random Forest Classifier  0.45       {'min_samples_split': 5, 'criterion': 'entropy', 'n_estimators': 20}\n",
      "AdaBoost Classifier       0.38       {'n_estimators': 5}\n",
      "\n",
      "Classifier                Recall     Parameters\n",
      "------------------------------------------------\n",
      "Gaussian Naive Bayes      0.33       {}\n",
      "Decision Tree Classifier  0.3        {'min_samples_split': 2, 'criterion': 'gini'}\n",
      "Random Forest Classifier  0.26       {'min_samples_split': 2, 'criterion': 'gini', 'n_estimators': 1}\n",
      "AdaBoost Classifier       0.21       {'n_estimators': 2}\n",
      "8\n",
      "Classifier                Precision  Parameters\n",
      "------------------------------------------------\n",
      "Gaussian Naive Bayes      0.37       {}\n",
      "Decision Tree Classifier  0.29       {'min_samples_split': 10, 'criterion': 'entropy'}\n",
      "Random Forest Classifier  0.42       {'min_samples_split': 5, 'criterion': 'gini', 'n_estimators': 20}\n",
      "AdaBoost Classifier       0.38       {'n_estimators': 2}\n",
      "\n",
      "Classifier                Recall     Parameters\n",
      "------------------------------------------------\n",
      "Gaussian Naive Bayes      0.33       {}\n",
      "Decision Tree Classifier  0.28       {'min_samples_split': 2, 'criterion': 'gini'}\n",
      "Random Forest Classifier  0.24       {'min_samples_split': 5, 'criterion': 'entropy', 'n_estimators': 1}\n",
      "AdaBoost Classifier       0.21       {'n_estimators': 20}\n",
      "9\n",
      "Classifier                Precision  Parameters\n",
      "------------------------------------------------\n",
      "Gaussian Naive Bayes      0.38       {}\n",
      "Decision Tree Classifier  0.3        {'min_samples_split': 5, 'criterion': 'gini'}\n",
      "Random Forest Classifier  0.38       {'min_samples_split': 5, 'criterion': 'gini', 'n_estimators': 20}\n",
      "AdaBoost Classifier       0.36       {'n_estimators': 5}\n",
      "\n",
      "Classifier                Recall     Parameters\n",
      "------------------------------------------------\n",
      "Gaussian Naive Bayes      0.34       {}\n",
      "Decision Tree Classifier  0.31       {'min_samples_split': 2, 'criterion': 'gini'}\n",
      "Random Forest Classifier  0.28       {'min_samples_split': 2, 'criterion': 'gini', 'n_estimators': 1}\n",
      "AdaBoost Classifier       0.24       {'n_estimators': 20}\n",
      "10\n",
      "Classifier                Precision  Parameters\n",
      "------------------------------------------------\n",
      "Gaussian Naive Bayes      0.38       {}\n",
      "Decision Tree Classifier  0.3        {'min_samples_split': 5, 'criterion': 'gini'}\n",
      "Random Forest Classifier  0.36       {'min_samples_split': 5, 'criterion': 'gini', 'n_estimators': 20}\n",
      "AdaBoost Classifier       0.34       {'n_estimators': 2}\n",
      "\n",
      "Classifier                Recall     Parameters\n",
      "------------------------------------------------\n",
      "Gaussian Naive Bayes      0.34       {}\n",
      "Decision Tree Classifier  0.3        {'min_samples_split': 2, 'criterion': 'gini'}\n",
      "Random Forest Classifier  0.27       {'min_samples_split': 2, 'criterion': 'entropy', 'n_estimators': 1}\n",
      "AdaBoost Classifier       0.24       {'n_estimators': 20}\n"
     ]
    }
   ],
   "source": [
    "# selection of best classifiers\n",
    "top_ixs = [1, 4, 5, 6]\n",
    "names_top = [n for i, n in enumerate(names) if i in top_ixs]\n",
    "classifiers_top = [clf for i, clf in enumerate(classifiers) if i in top_ixs]\n",
    "\n",
    "param_grid_top = {k: v for k, v in param_grid.items() if k not in ['Logistic Regression', 'Support Vector Classifier', \n",
    "                                                                   'KNeighbors Classifier']}\n",
    "\n",
    "# data preparation\n",
    "X = data_df.loc[:, top_10_features]\n",
    "scaler = MinMaxScaler()\n",
    "X[top_10_features] = scaler.fit_transform(X[top_10_features].fillna(value=0))\n",
    "\n",
    "y = data_df['poi'].astype(int).values\n",
    "\n",
    "# loop through features\n",
    "for i in range(1, len(top_10_features) + 1):\n",
    "    features = top_10_features[:i]\n",
    "    X_i = X.loc[:, features].values\n",
    "    \n",
    "    print(i)\n",
    "    best_parameter_search(names_top, classifiers_top, X_i, y, param_grid_top, score='precision', random_state=42)\n",
    "    print()\n",
    "    best_parameter_search(names_top, classifiers_top, X_i, y, param_grid_top, score='recall', random_state=42)"
   ]
  },
  {
   "cell_type": "markdown",
   "metadata": {},
   "source": [
    "\n",
    "    "
   ]
  },
  {
   "cell_type": "code",
   "execution_count": 23,
   "metadata": {
    "collapsed": false
   },
   "outputs": [
    {
     "name": "stdout",
     "output_type": "stream",
     "text": [
      "{'AdaBoost Classifier': {'precision': 0.33832287157287161, 'parameters': {'n_estimators': 2}}, 'Gaussian Naive Bayes': {'precision': 0.37832145632145636, 'parameters': {}}, 'Decision Tree Classifier': {'precision': 0.30346572871572869, 'parameters': {'min_samples_split': 5, 'criterion': 'gini'}}, 'Random Forest Classifier': {'precision': 0.35499999999999998, 'parameters': {'min_samples_split': 5, 'criterion': 'gini', 'n_estimators': 20}}}\n"
     ]
    }
   ],
   "source": [
    "def find_best_parameters(names, classifiers, X, y, param_grid, score='accuracy', random_state=None):\n",
    "    \"\"\"\n",
    "    Exhaustive search over specified parameter values for passed classifiers. Prints out a table \n",
    "    displaying the results.\n",
    "    \n",
    "    Args:\n",
    "        names:\n",
    "        classifiers:\n",
    "        X:\n",
    "        y:\n",
    "        param_grid:\n",
    "        score:\n",
    "        random_state:\n",
    "\n",
    "    Returns:\n",
    "\n",
    "    \"\"\"\n",
    "    clf_scores = {}\n",
    "\n",
    "    for n, clf in zip(names, classifiers):\n",
    "        clf_scores[n] = {}\n",
    "\n",
    "        cv = StratifiedShuffleSplit(n_splits=100, test_size=0.33, random_state=random_state)\n",
    "        clf = GridSearchCV(clf, param_grid[n], cv=cv, scoring=score) #'{}_macro'.format(\n",
    "        clf.fit(X, y)\n",
    "        \n",
    "        clf_scores[n][score] = clf.best_score_\n",
    "        clf_scores[n]['parameters'] = clf.best_params_\n",
    "    \n",
    "    return clf_scores\n",
    "\n",
    "\n",
    "def print_score_parameter_table():\n",
    "    \"\"\"\n",
    "    ....\n",
    "    \n",
    "    Args:\n",
    "    \n",
    "    \"\"\"\n",
    "    pass\n",
    "    \n",
    "    \n",
    "\n",
    "# data preparation\n",
    "X = data_df.loc[:, top_10_features]\n",
    "scaler = MinMaxScaler()\n",
    "X[top_10_features] = scaler.fit_transform(X[top_10_features].fillna(value=0))\n",
    "\n",
    "y = data_df['poi'].astype(int).values\n",
    "\n",
    "scores = find_best_parameters(names_top, classifiers_top, X, y, param_grid_top, score='precision', random_state=42)\n",
    "\n",
    "print(scores)"
   ]
  },
  {
   "cell_type": "markdown",
   "metadata": {
    "hideCode": false,
    "hidePrompt": false
   },
   "source": [
    "## PCA Approach\n",
    "\n",
    "Instead of selecting the features that influence target labels the most one can use principal component analysis (PCA) to condense all..."
   ]
  },
  {
   "cell_type": "code",
   "execution_count": 14,
   "metadata": {
    "collapsed": false
   },
   "outputs": [
    {
     "name": "stdout",
     "output_type": "stream",
     "text": [
      "Classifier                Accuracy   Precision  Recall\n",
      "------------------------------------------------------\n",
      "Logistic Regression       0.82       0.28       0.26\n",
      "Gaussian Naive Bayes      0.87       0.54       0.26\n",
      "Support Vector Classifier 0.88       0.0        0.0\n",
      "KNeighbors Classifier     0.86       0.29       0.08\n",
      "Decision Tree Classifier  0.8        0.23       0.25\n",
      "Random Forest Classifier  0.84       0.2        0.09\n",
      "AdaBoost Classifier       0.82       0.24       0.22\n"
     ]
    }
   ],
   "source": [
    "# data preparation\n",
    "X = data_df.fillna(value=0).select_dtypes(include=[np.number])\n",
    "y = data_df['poi'].astype(int).values\n",
    "\n",
    "# pca\n",
    "pca = PCA(n_components=3)\n",
    "X_pca = pca.fit_transform(X.values)\n",
    "\n",
    "print_score_table(names, classifiers, X_pca, y, random_state=42)"
   ]
  },
  {
   "cell_type": "code",
   "execution_count": 15,
   "metadata": {
    "collapsed": false
   },
   "outputs": [
    {
     "name": "stdout",
     "output_type": "stream",
     "text": [
      "Classifier                Precision  Parameters\n",
      "------------------------------------------------\n",
      "Logistic Regression       0.18       {'C': 10}\n",
      "Gaussian Naive Bayes      0.25       {}\n",
      "Support Vector Classifier 0.0        {'C': 0.001}\n",
      "KNeighbors Classifier     0.35       {'algorithm': 'ball_tree', 'n_neighbors': 5}\n",
      "Decision Tree Classifier  0.27       {'min_samples_split': 5, 'criterion': 'gini'}\n",
      "Random Forest Classifier  0.32       {'min_samples_split': 2, 'criterion': 'gini', 'n_estimators': 5}\n",
      "AdaBoost Classifier       0.34       {'n_estimators': 2}\n",
      "\n",
      "Classifier                Recall     Parameters\n",
      "------------------------------------------------\n",
      "Logistic Regression       0.2        {'C': 1}\n",
      "Gaussian Naive Bayes      0.52       {}\n",
      "Support Vector Classifier 0.0        {'C': 0.001}\n",
      "KNeighbors Classifier     0.21       {'algorithm': 'ball_tree', 'n_neighbors': 1}\n",
      "Decision Tree Classifier  0.26       {'min_samples_split': 2, 'criterion': 'gini'}\n",
      "Random Forest Classifier  0.27       {'min_samples_split': 2, 'criterion': 'gini', 'n_estimators': 1}\n",
      "AdaBoost Classifier       0.25       {'n_estimators': 20}\n"
     ]
    }
   ],
   "source": [
    "# parameter tuning\n",
    "best_parameter_search(names, classifiers, X, y, param_grid, score='precision', random_state=42)\n",
    "print()\n",
    "best_parameter_search(names, classifiers, X, y, param_grid, score='recall', random_state=42)"
   ]
  },
  {
   "cell_type": "markdown",
   "metadata": {
    "deletable": true,
    "editable": true,
    "hideCode": false,
    "hidePrompt": false
   },
   "source": [
    "## Conclusion\n",
    "\n",
    "best model...\n"
   ]
  },
  {
   "cell_type": "markdown",
   "metadata": {
    "deletable": true,
    "editable": true,
    "hideCode": false,
    "hidePrompt": false
   },
   "source": []
  }
 ],
 "metadata": {
  "anaconda-cloud": {},
  "celltoolbar": "Hide code",
  "hide_code_all_hidden": false,
  "kernelspec": {
   "display_name": "Python [Root]",
   "language": "python",
   "name": "Python [Root]"
  },
  "language_info": {
   "codemirror_mode": {
    "name": "ipython",
    "version": 3
   },
   "file_extension": ".py",
   "mimetype": "text/x-python",
   "name": "python",
   "nbconvert_exporter": "python",
   "pygments_lexer": "ipython3",
   "version": "3.5.2"
  }
 },
 "nbformat": 4,
 "nbformat_minor": 0
}
