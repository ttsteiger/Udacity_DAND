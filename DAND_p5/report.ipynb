{
 "cells": [
  {
   "cell_type": "code",
   "execution_count": 1,
   "metadata": {
    "collapsed": false,
    "deletable": true,
    "editable": true,
    "hideCode": false,
    "hidePrompt": false
   },
   "outputs": [
    {
     "data": {
      "text/html": [
       "<!-- left align tables -->\n",
       "<style>\n",
       "table {margin-left: 0 !important;}\n",
       "</style>"
      ],
      "text/plain": [
       "<IPython.core.display.HTML object>"
      ]
     },
     "metadata": {},
     "output_type": "display_data"
    }
   ],
   "source": [
    "%%html\n",
    "<!-- left align tables -->\n",
    "<style>\n",
    "table {margin-left: 0 !important;}\n",
    "</style>"
   ]
  },
  {
   "cell_type": "markdown",
   "metadata": {
    "deletable": true,
    "editable": true,
    "hideCode": false,
    "hidePrompt": false
   },
   "source": [
    "# Identify Persons of Interest in the Enron Corpus Dataset\n",
    "\n",
    "## Introduction\n",
    "\n",
    "....\n",
    "\n",
    "\n",
    "## Data Exploration\n",
    "\n",
    "### Dataset Description\n",
    "\n",
    ".....\n",
    "\n",
    "email\n",
    "https://www.cs.cmu.edu/~./enron/\n",
    "\n",
    "finance\n",
    "http://news.findlaw.com/hdocs/docs/enron/enron61702insiderpay.pdf"
   ]
  },
  {
   "cell_type": "code",
   "execution_count": 2,
   "metadata": {
    "collapsed": false,
    "deletable": true,
    "editable": true,
    "hideCode": false,
    "hideOutput": true,
    "hidePrompt": false
   },
   "outputs": [],
   "source": [
    "# import packages\n",
    "import warnings\n",
    "warnings.filterwarnings(\"ignore\")\n",
    "\n",
    "import matplotlib.pyplot as plt\n",
    "%matplotlib inline\n",
    "import numpy as np\n",
    "import os\n",
    "import pandas as pd\n",
    "import pickle\n",
    "import re\n",
    "import seaborn as sns\n",
    "\n",
    "from sklearn.feature_selection import SelectKBest\n",
    "from sklearn.model_selection import StratifiedKFold\n",
    "from sklearn.model_selection import train_test_split\n",
    "from sklearn.preprocessing import MinMaxScaler\n",
    "\n",
    "from sklearn.tree import DecisionTreeClassifier\n",
    "from sklearn.ensemble import RandomForestClassifier, AdaBoostClassifier\n",
    "from sklearn.naive_bayes import GaussianNB\n",
    "from sklearn.linear_model import LogisticRegression\n",
    "from sklearn.neighbors import KNeighborsClassifier\n",
    "from sklearn.svm import SVC\n",
    "\n",
    "from sklearn.metrics import precision_score\n",
    "from sklearn.metrics import recall_score\n",
    "from sklearn.model_selection import StratifiedShuffleSplit\n",
    "from sklearn.model_selection import GridSearchCV\n",
    "from sklearn.decomposition import PCA\n",
    "\n",
    "from helper_functions import convert_dict_to_df, scatter_plot, print_score_table, best_parameter_search, find_best_parameters, print_score_parameter_table"
   ]
  },
  {
   "cell_type": "code",
   "execution_count": 3,
   "metadata": {
    "collapsed": false,
    "deletable": true,
    "editable": true,
    "hideCode": false,
    "hidePrompt": false
   },
   "outputs": [
    {
     "name": "stdout",
     "output_type": "stream",
     "text": [
      "(146, 22)\n",
      "22\n",
      "18\n"
     ]
    }
   ],
   "source": [
    "# load dictionary containing the dataset\n",
    "with open(\"enron_dataset.pkl\", \"rb\") as data_file:\n",
    "    data_dict = pickle.load(data_file)\n",
    "\n",
    "# feature list\n",
    "features = ['poi', 'bonus', 'deferral_payments', 'deferred_income', \n",
    "            'director_fees', 'exercised_stock_options', 'expenses', \n",
    "            'loan_advances', 'long_term_incentive', 'other', 'restricted_stock', \n",
    "            'restricted_stock_deferred', 'salary', 'total_payments', \n",
    "            'total_stock_value', 'email_address', 'from_messages', \n",
    "            'from_poi_to_this_person', 'from_this_person_to_poi', \n",
    "            'shared_receipt_with_poi', 'to_messages']\n",
    "\n",
    "# convert specified features to data frame\n",
    "data_df = convert_dict_to_df(data_dict, features, remove_NaN=False, \n",
    "                        remove_all_zeroes=True, remove_any_zeroes=False, \n",
    "                        sort_keys=True)\n",
    "\n",
    "print(data_df.shape)\n",
    "print(len(list(data_df.columns.values)))\n",
    "print(data_df['poi'].sum())"
   ]
  },
  {
   "cell_type": "markdown",
   "metadata": {
    "deletable": true,
    "editable": true,
    "hideCode": false,
    "hidePrompt": false
   },
   "source": [
    "The underlying dataset for this project is a combination of Enron email and financial data. The data is present in the `enron_dataset.pkl` file where it is stored in a dictionary structure. Each key-value pair in the dictionary corresponds to one person. The dictionary key is the person's name, and the value is another dictionary, which contains the names of all the features and their values for that person. \n",
    "\n",
    "The data contains three major feature categories: POI labels, financial features and email features. The 21 feature names and their type are described in the table below.\n",
    "\n",
    "| Feature                   | Type        |\n",
    "|-------------------------- | ----------- |\n",
    "| poi                       | categorical |\n",
    "| bonus                     | numerical   |\n",
    "| deferral_payments         | numerical   |\n",
    "| deferred_income           | numerical   |\n",
    "| director_fees             | numerical   |\n",
    "| exercised_stock_options   | numerical   |\n",
    "| expenses                  | numerical   |\n",
    "| loan_advances             | numerical   |\n",
    "| long_term_incentive       | numerical   |\n",
    "| other                     | numerical   |\n",
    "| restricted_stock          | numerical   |\n",
    "| restricted_stock_deferred | numerical   |\n",
    "| salary                    | numerical   |\n",
    "| total_payments            | numerical   |\n",
    "| total_stock_value         | numerical   |\n",
    "| email_address             | text        |\n",
    "| from_messages             | numerical   |\n",
    "| from_poi_to_this_person   | numerical   |\n",
    "| from_this_person_to_poi   | numerical   |\n",
    "| shared_receipt_with_poi   | numerical   |\n",
    "| to_messages               | numerical   |\n",
    "\n",
    "The dataset contains information about 146 different data points. Of those, 18 are marked as POI.\n",
    "\n",
    "Missing values..."
   ]
  },
  {
   "cell_type": "code",
   "execution_count": 4,
   "metadata": {
    "collapsed": false,
    "deletable": true,
    "editable": true,
    "hideCode": false,
    "hidePrompt": false
   },
   "outputs": [
    {
     "name": "stdout",
     "output_type": "stream",
     "text": [
      "Number of NaN values in each columns:\n",
      "-------------------------------------\n",
      "name                           0\n",
      "poi                            0\n",
      "bonus                         64\n",
      "deferral_payments            107\n",
      "deferred_income               97\n",
      "director_fees                129\n",
      "exercised_stock_options       44\n",
      "expenses                      51\n",
      "loan_advances                142\n",
      "long_term_incentive           80\n",
      "other                         53\n",
      "restricted_stock              36\n",
      "restricted_stock_deferred    128\n",
      "salary                        51\n",
      "total_payments                21\n",
      "total_stock_value             20\n",
      "email_address                 35\n",
      "from_messages                 60\n",
      "from_poi_to_this_person       60\n",
      "from_this_person_to_poi       60\n",
      "shared_receipt_with_poi       60\n",
      "to_messages                   60\n",
      "dtype: int64\n"
     ]
    }
   ],
   "source": [
    "# count number of NaN values in each column\n",
    "print(\"Number of NaN values in each columns:\")\n",
    "print(\"-------------------------------------\")\n",
    "print(data_df.isnull().sum())"
   ]
  },
  {
   "cell_type": "markdown",
   "metadata": {
    "deletable": true,
    "editable": true,
    "hideCode": false,
    "hidePrompt": false
   },
   "source": [
    "The dataset contains a lot of features with missing values. One can see that it is based on the finacial data and that only for 86 point a connection to the email dataset could be made (60 data points without email data). For the features 'deferral_payments', 'director_fees', 'loan_advances' and 'restricted_stock_deferred' the fewest amount of  data is available."
   ]
  },
  {
   "cell_type": "markdown",
   "metadata": {
    "deletable": true,
    "editable": true,
    "hideCode": false,
    "hidePrompt": false
   },
   "source": [
    "### Outliers\n",
    "\n",
    "In the financial data a strange outlier was found. This data point had the largest values for all the different financial feature and was identified as the 'TOTAL' column from the spreadsheet. Futhermore, I discovered the key 'THE TRAVEL AGENCY IN THE PARK' which is not the name of a person as well as the data point of 'LOCKHART EUGENE E' that consists of all zero values. These lines were dropped and not considered further."
   ]
  },
  {
   "cell_type": "code",
   "execution_count": 5,
   "metadata": {
    "collapsed": false,
    "deletable": true,
    "editable": true,
    "hideCode": true,
    "hideOutput": true,
    "hidePrompt": true
   },
   "outputs": [
    {
     "name": "stdout",
     "output_type": "stream",
     "text": [
      "(143, 22)\n"
     ]
    }
   ],
   "source": [
    "# drop outlier rows\n",
    "for n in ['TOTAL', 'THE TRAVEL AGENCY IN THE PARK', 'LOCKHART EUGENE E']:\n",
    "    data_df = data_df[data_df['name'] != n]\n",
    "\n",
    "print(data_df.shape)"
   ]
  },
  {
   "cell_type": "markdown",
   "metadata": {
    "deletable": true,
    "editable": true,
    "hideCode": false,
    "hidePrompt": false
   },
   "source": [
    "log scaling of skewed distributions???\n",
    "\n",
    "### Feature Engineering\n",
    "\n",
    "Before selecting the features that influence 'poi' labelling the most I created two new features. First of all, I thought about looking at the ratio between 'restricted_stock' and 'total_stock_value'. As POIs in general had higher stock options maybe they also tried to prevent those from being restricted leading to low values for the 'poi_email_fraction'. Secondly, I created a new variable comparing the number of emails received from and sent to POIs with the total number of email received and sent by each pearson. I would expect POIs to communicate more frequently with other POIs and thus having higher 'poi_email_fraction' values."
   ]
  },
  {
   "cell_type": "code",
   "execution_count": 6,
   "metadata": {
    "collapsed": false,
    "deletable": true,
    "editable": true,
    "hideCode": false,
    "hidePrompt": false
   },
   "outputs": [
    {
     "data": {
      "image/png": "[encoded data removed]",
      "text/plain": [
       "<matplotlib.figure.Figure at 0x2908b87470>"
      ]
     },
     "metadata": {},
     "output_type": "display_data"
    }
   ],
   "source": [
    "# poi fraction\n",
    "data_df['restricted_stock_fraction'] = data_df['restricted_stock'] / data_df['total_stock_value']\n",
    "data_df['poi_email_fraction'] = (data_df['from_poi_to_this_person'] + data_df['from_this_person_to_poi']) / (data_df['from_messages'] + data_df['to_messages'])\n",
    "\n",
    "# visualization\n",
    "scatter_plot(data_df, 'restricted_stock_fraction', 'poi_email_fraction')"
   ]
  },
  {
   "cell_type": "markdown",
   "metadata": {
    "collapsed": true,
    "deletable": true,
    "editable": true,
    "hideCode": false,
    "hidePrompt": false
   },
   "source": [
    "By visualizing these new featuers one can see that all but one POI have a 'poi_email_fraction' larger than 0.2. The point that breaks ranks occurs as there is no email data for that person available. Most POIs have 'restricted_stock_fractions' between 0.2 and 0.7 but there are three data points that have all their stocks restricted.\n",
    "\n",
    "### Feature Selection\n",
    "\n",
    "To find the features who correlate the most with the `poi` label, I used the `SelectKBest()` method from the `sklearn` package. The results from this approach can be seen in the table below:\n",
    "\n",
    "<font size=\"5\" color=\"red\">...expand on SelectKBest....</font>"
   ]
  },
  {
   "cell_type": "code",
   "execution_count": 7,
   "metadata": {
    "collapsed": false,
    "deletable": true,
    "editable": true,
    "hideCode": false,
    "hidePrompt": false
   },
   "outputs": [
    {
     "name": "stdout",
     "output_type": "stream",
     "text": [
      "Feature                   Score     \n",
      "-------------------------------\n",
      "exercised_stock_options   24.82\n",
      "total_stock_value         24.18\n",
      "bonus                     20.79\n",
      "salary                    18.29\n",
      "deferred_income           11.46\n",
      "long_term_incentive       9.92\n",
      "restricted_stock          9.21\n",
      "total_payments            8.77\n",
      "shared_receipt_with_poi   8.59\n",
      "loan_advances             7.18\n",
      "expenses                  6.09\n",
      "poi_email_fraction        5.4\n",
      "from_poi_to_this_person   5.24\n",
      "other                     4.19\n",
      "from_this_person_to_poi   2.38\n",
      "director_fees             2.13\n",
      "to_messages               1.65\n",
      "restricted_stock_fraction 1.09\n",
      "deferral_payments         0.22\n",
      "from_messages             0.17\n",
      "restricted_stock_deferred 0.07\n"
     ]
    }
   ],
   "source": [
    "X = data_df.fillna(value=0).select_dtypes(include=[np.number])\n",
    "y = data_df['poi']\n",
    "\n",
    "selector = SelectKBest(k=X.shape[1])\n",
    "selector.fit(X, y)\n",
    "\n",
    "features = X[selector.get_support(indices=True)].columns.values\n",
    "scores = selector.scores_\n",
    "score_list = sorted([(f, s) for f, s in zip(features, scores)], key=lambda tup: tup[1], reverse=True)\n",
    "\n",
    "print(\"{:<25} {:<10}\".format(\"Feature\", \"Score\"))\n",
    "print(\"-------------------------------\")\n",
    "for tup in score_list:\n",
    "    print(\"{:<25} {}\".format(tup[0], round(tup[1], 2)))"
   ]
  },
  {
   "cell_type": "markdown",
   "metadata": {
    "deletable": true,
    "editable": true,
    "hideCode": false,
    "hidePrompt": false
   },
   "source": [
    "Nine of top ten features come from the financial data and only `shared_receipt_with_poi` comes from the emails. Before moving on, I also looked at these features in more detail by plotting them. An excerpt from that procedure can be found in the scatter matrix of the top five features below."
   ]
  },
  {
   "cell_type": "code",
   "execution_count": 8,
   "metadata": {
    "collapsed": false,
    "deletable": true,
    "editable": true,
    "hideCode": false,
    "hidePrompt": false
   },
   "outputs": [
    {
     "data": {
      "image/png": "[encoded data removed]",
      "text/plain": [
       "<matplotlib.figure.Figure at 0x2908b875f8>"
      ]
     },
     "metadata": {},
     "output_type": "display_data"
    }
   ],
   "source": [
    "# create scatter matrix of the top 5 features\n",
    "top_5_features = [f for (f, s) in list(score_list)[:5]]\n",
    "\n",
    "# add 'poi' to include this feature in the plotting dataframe\n",
    "plot_features = top_5_features\n",
    "plot_features.append('poi')\n",
    "\n",
    "# create dataframe copy with the desired columns for plotting\n",
    "data_df_plot = data_df.loc[:, plot_features].fillna(value=0)\n",
    "\n",
    "# scale all features except for 'poi'\n",
    "scaler = MinMaxScaler()\n",
    "data_df_plot[top_5_features[:-1]] = scaler.fit_transform(data_df_plot[top_5_features[:-1]])\n",
    "\n",
    "# create 'label' feature as 'hue' input for sns.pairplot() \n",
    "data_df_plot['label'] = 0\n",
    "data_df_plot.loc[data_df_plot['poi'] == True, 'label'] = 'poi'\n",
    "data_df_plot.loc[data_df_plot['poi'] == False, 'label'] = 'non poi'\n",
    "\n",
    "# remove 'poi' feature\n",
    "data_df_plot.drop(['poi'], axis=1, inplace=True)\n",
    "\n",
    "# create pairplot\n",
    "fig = sns.pairplot(data_df_plot, hue=\"label\", diag_kind=\"hist\")  \n",
    "\n",
    "# format axes\n",
    "for i, axes in enumerate(fig.axes):\n",
    "    for j, ax in enumerate(axes):\n",
    "        ax.set(xlim=[-0.05, 1.05], ylim=[-0.05, 1.05])\n",
    "        ax.set_xticklabels([0, 1])\n",
    "        ax.set_xticks([0, 1])\n",
    "        ax.set_yticklabels([0, 1])\n",
    "        ax.set_yticks([0, 1])\n",
    "\n",
    "plt.show()"
   ]
  },
  {
   "cell_type": "markdown",
   "metadata": {
    "deletable": true,
    "editable": true,
    "hideCode": false,
    "hidePrompt": false
   },
   "source": [
    "<font size=\"5\" color=\"red\">\n",
    "interpretation scatter matrix\n",
    "\n",
    "\n",
    "only use 'exercised_stock_options' or 'total_stock_value', strong correlation between these two features as expected\n",
    "\n",
    "deferred_income is negative -> most values around 1\n",
    "\n",
    "'loan_advances' contains only 3 non zero values \n",
    "\n",
    "replacement with 'expenses' and 'poi_email_fraction'\n",
    "</font>"
   ]
  },
  {
   "cell_type": "code",
   "execution_count": 9,
   "metadata": {
    "collapsed": false,
    "deletable": true,
    "editable": true,
    "hideCode": false,
    "hidePrompt": false
   },
   "outputs": [],
   "source": [
    "# store top 10 features in a list\n",
    "top_10_features = [f for (f, s) in list(score_list)[:10]]\n",
    "top_10_features.extend(['expenses', 'poi_email_fraction'])\n",
    "top_10_features = [i for i in top_10_features if i not in ['total_stock_value', 'loan_advances']]"
   ]
  },
  {
   "cell_type": "markdown",
   "metadata": {
    "deletable": true,
    "editable": true,
    "hideCode": false,
    "hidePrompt": false
   },
   "source": [
    "## Algorithm Selection and Tuning\n",
    "\n",
    "\n",
    "A lot of different classification algorithms could be applied to the identification of the POI labels. I focused on the following classifiers: \n",
    "\n",
    "* Logistic Regression\n",
    "* Gaussian Naive Bayes\n",
    "* Support Vector Classifier\n",
    "* KNeighbors Classifier\n",
    "* Decision Tree Classifier\n",
    "* Random Forest Classifier\n",
    "* AdaBoost Classifier\n",
    "\n",
    "Since the dataset for this project is imbalanced, meaning that there are a lot more non-POI data points than POI ones, I used the `StratifiedShuffleSplit` method to create 100 random folds of different training and test sets with a test size of 33 %. The results in the table printed out below are the mean values of the 100 folds.\n",
    "\n",
    "\n",
    "<font size=\"5\" color=\"red\">...expand on StratifiedShuffleSplit.... what does stratified do? keep ration between non-POI/POI constant...</font>"
   ]
  },
  {
   "cell_type": "code",
   "execution_count": 10,
   "metadata": {
    "collapsed": false,
    "deletable": true,
    "editable": true,
    "hideCode": false,
    "hidePrompt": false
   },
   "outputs": [
    {
     "name": "stdout",
     "output_type": "stream",
     "text": [
      "Classifier                Accuracy   Precision  Recall\n",
      "------------------------------------------------------\n",
      "Logistic Regression       0.87       0.22       0.05\n",
      "Gaussian Naive Bayes      0.84       0.38       0.34\n",
      "Support Vector Classifier 0.88       0.0        0.0\n",
      "KNeighbors Classifier     0.86       0.11       0.03\n",
      "Decision Tree Classifier  0.81       0.28       0.3\n",
      "Random Forest Classifier  0.87       0.29       0.12\n",
      "AdaBoost Classifier       0.84       0.3        0.23\n"
     ]
    }
   ],
   "source": [
    "# data preparation\n",
    "X = data_df.loc[:, top_10_features]\n",
    "scaler = MinMaxScaler()\n",
    "X[top_10_features] = scaler.fit_transform(X[top_10_features].fillna(value=0))\n",
    "X = X.values\n",
    "\n",
    "y = data_df['poi'].astype(int).values\n",
    "\n",
    "# classifier names and objects    \n",
    "names = ['Logistic Regression', 'Gaussian Naive Bayes', 'Support Vector Classifier', 'KNeighbors Classifier', \n",
    "         'Decision Tree Classifier', 'Random Forest Classifier', 'AdaBoost Classifier']\n",
    "classifiers =[LogisticRegression(random_state=42),\n",
    "              GaussianNB(),\n",
    "              SVC(random_state=42),\n",
    "              KNeighborsClassifier(),\n",
    "              DecisionTreeClassifier(random_state=42),\n",
    "              RandomForestClassifier(random_state=42),\n",
    "              AdaBoostClassifier(random_state=42)]\n",
    "\n",
    "print_score_table(names, classifiers, X, y, random_state=42)"
   ]
  },
  {
   "cell_type": "markdown",
   "metadata": {
    "deletable": true,
    "editable": true,
    "hideCode": false,
    "hidePrompt": false
   },
   "source": [
    "For the evaluation of our machine learning algorithms I used three different metrics. The 'Accuracy' stands for the number of correct predictions in relation to all predictions. As there are a lot of non-POI data points accuracy tends to be rather high for all the different models and we need to consider different scoring approaches. \n",
    "\n",
    "The 'Recall' score counts the number of POI data points that were actually caught by the model. 'Precision' corresponds with the fraction of POI predicitons that were correctly made.\n",
    "\n",
    "<font size=\"5\" color=\"red\">...explaing recall and precision better...</font>\n",
    "\n",
    "<font size=\"5\" color=\"red\">...interpret values for the different models...</font>\n",
    "\n",
    "After just looking at the algorithm performances for the top 10 features I visualized the model performances as a function of the number of input features in the plot below."
   ]
  },
  {
   "cell_type": "code",
   "execution_count": 11,
   "metadata": {
    "collapsed": false,
    "deletable": true,
    "editable": true
   },
   "outputs": [],
   "source": [
    "# data preparation\n",
    "X = data_df.loc[:, top_10_features]\n",
    "scaler = MinMaxScaler()\n",
    "X[top_10_features] = scaler.fit_transform(X[top_10_features].fillna(value=0))\n",
    "\n",
    "y = data_df['poi'].astype(int)\n",
    "\n",
    "# dictionary to store all results\n",
    "clf_results = {} \n",
    "for n in names:\n",
    "    clf_results[n] = {}\n",
    "    for i in range(1, len(top_10_features) + 1):\n",
    "        clf_results[n][i] = {'accuracy': [], 'precision': [], 'recall': []}\n",
    "\n",
    "# loop trough features\n",
    "for i in range(1, len(top_10_features) + 1):\n",
    "    features = top_10_features[:i]\n",
    "    X_i = X.loc[:, features]\n",
    "    \n",
    "    # training and test set split\n",
    "    sss = StratifiedShuffleSplit(n_splits=100, test_size=0.33, random_state=42)\n",
    "    for train_ixs, test_ixs in sss.split(X_i, y):\n",
    "        X_i_train, X_i_test = X_i.iloc[train_ixs].values, X_i.iloc[test_ixs].values\n",
    "        y_train, y_test = y.iloc[train_ixs].values, y.iloc[test_ixs].values\n",
    "\n",
    "        for n, clf in zip(names, classifiers):\n",
    "            clf.fit(X_i_train, y_train)\n",
    "            pred = clf.predict(X_i_test)\n",
    "            \n",
    "            accuracy = clf.score(X_i_test, y_test)\n",
    "            precision = precision_score(y_test, pred)\n",
    "            recall = recall_score(y_test, pred)\n",
    "            \n",
    "            clf_results[n][i]['accuracy'].append(accuracy)\n",
    "            clf_results[n][i]['precision'].append(precision)\n",
    "            clf_results[n][i]['recall'].append(recall)\n",
    "\n",
    "# reformat results dictionary for easier plotting\n",
    "clf_results_plot = {}\n",
    "for n in names:\n",
    "    clf_results_plot[n] = {\"accuracy\": [], 'precision': [], 'recall': []}\n",
    "    \n",
    "    for i in range(1, len(top_10_features) + 1):\n",
    "        accuracy_cv = np.mean(clf_results[n][i]['accuracy'])\n",
    "        precision_cv = np.mean(clf_results[n][i]['precision'])\n",
    "        recall_cv = np.mean(clf_results[n][i]['recall'])\n",
    "        \n",
    "        clf_results_plot[n]['accuracy'].append(accuracy_cv)\n",
    "        clf_results_plot[n]['precision'].append(precision_cv)\n",
    "        clf_results_plot[n]['recall'].append(recall_cv)"
   ]
  },
  {
   "cell_type": "code",
   "execution_count": 12,
   "metadata": {
    "collapsed": false,
    "deletable": true,
    "editable": true
   },
   "outputs": [
    {
     "data": {
      "image/png": "[encoded data removed]",
      "text/plain": [
       "<matplotlib.figure.Figure at 0x291076c5c0>"
      ]
     },
     "metadata": {},
     "output_type": "display_data"
    }
   ],
   "source": [
    "# visualize metrics for all algorithms\n",
    "fig, axs = plt.subplots(1, len(names), figsize=(15, 6))\n",
    "n_features = np.arange(1, len(top_10_features) + 1)\n",
    "\n",
    "for ax, title in zip(axs, names):\n",
    "    for m in clf_results_plot[title].keys():\n",
    "        ax.plot(n_features, clf_results_plot[title][m], label=m, marker='o', alpha=0.5)\n",
    "        ax.set(xlim=[0.5, 10.5], xticks=n_features, ylim=[0.0, 1.0], yticks=np.arange(0, 1, 0.25))\n",
    "        ax.set_xlabel(\"Number of Features\", fontsize=10)\n",
    "        ax.set_title(title, fontsize=10)\n",
    "        ax.tick_params(axis='both', which='major', labelsize=8, direction='in', pad=1)\n",
    "\n",
    "plt.legend(loc='upper right', bbox_to_anchor=(1.9, 0.6))\n",
    "plt.show()"
   ]
  },
  {
   "cell_type": "markdown",
   "metadata": {
    "deletable": true,
    "editable": true,
    "hideCode": false,
    "hidePrompt": false
   },
   "source": [
    "The plot above shows that 'Logistic Regression', 'Support Vector Classifier' and 'KNeighbors Classifier' in general tend to show the weakest performance independently of the number of input features. The 'Gaussian Naive Bayes', 'Decision Tree', and 'Random Forest' models show their best results with the top two to top six features, Most plots display an optimum performance for a low number of features used and only the 'AdaBoost Classifier' delivers good resuts for a low as well as a high number of input features.\n",
    "\n",
    "<font size=\"5\" color=\"red\">...optimizing model parameters using gridsearchcv...</font>"
   ]
  },
  {
   "cell_type": "code",
   "execution_count": 13,
   "metadata": {
    "collapsed": false,
    "deletable": true,
    "editable": true,
    "hideCode": false,
    "hidePrompt": false
   },
   "outputs": [
    {
     "name": "stdout",
     "output_type": "stream",
     "text": [
      "Classifier                Precision  Parameters\n",
      "------------------------------------------------\n",
      "Support Vector Classifier 0.24       {'C': 100}\n",
      "Logistic Regression       0.35       {'C': 10}\n",
      "Gaussian Naive Bayes      0.38       {}\n",
      "KNeighbors Classifier     0.31       {'algorithm': 'ball_tree', 'n_neighbors': 1}\n",
      "Random Forest Classifier  0.36       {'min_samples_split': 5, 'criterion': 'gini', 'n_estimators': 20}\n",
      "Decision Tree Classifier  0.3        {'min_samples_split': 5, 'criterion': 'gini'}\n",
      "AdaBoost Classifier       0.34       {'n_estimators': 2}\n",
      "\n",
      "Classifier                Recall     Parameters\n",
      "------------------------------------------------\n",
      "Support Vector Classifier 0.09       {'C': 1000}\n",
      "Logistic Regression       0.15       {'C': 1000}\n",
      "Gaussian Naive Bayes      0.34       {}\n",
      "KNeighbors Classifier     0.26       {'algorithm': 'ball_tree', 'n_neighbors': 1}\n",
      "Random Forest Classifier  0.27       {'min_samples_split': 2, 'criterion': 'entropy', 'n_estimators': 1}\n",
      "Decision Tree Classifier  0.3        {'min_samples_split': 2, 'criterion': 'gini'}\n",
      "AdaBoost Classifier       0.24       {'n_estimators': 20}\n"
     ]
    }
   ],
   "source": [
    "# data preparation\n",
    "X = data_df.loc[:, top_10_features]\n",
    "scaler = MinMaxScaler()\n",
    "X[top_10_features] = scaler.fit_transform(X[top_10_features].fillna(value=0))\n",
    "X = X.values\n",
    "\n",
    "y = data_df['poi'].astype(int).values\n",
    "        \n",
    "# parameter tuning\n",
    "param_grid = {'Logistic Regression': {'C': [0.001, 0.01, 0.1, 1, 10, 100, 1000]},\n",
    "              'Gaussian Naive Bayes': {}, # GaussianNB has no parameters\n",
    "              'Support Vector Classifier': {'C': [0.001, 0.01, 0.1, 1, 10, 100, 1000]}, # 'kernel': ['linear', 'poly', 'rbf', 'sigmoid', 'precomputed']\n",
    "              'KNeighbors Classifier': {'n_neighbors': [1, 2, 5, 10, 20],\n",
    "                                        'algorithm': ['ball_tree', 'kd_tree', 'brute']},\n",
    "              'Decision Tree Classifier': {'criterion': ['gini', 'entropy'], \n",
    "                                           'min_samples_split': [2, 5, 10, 20]},\n",
    "              'Random Forest Classifier': {'n_estimators': [1, 2, 5, 10, 20], \n",
    "                                           'criterion': ['gini', 'entropy'], \n",
    "                                           'min_samples_split': [2, 5, 10, 20]},\n",
    "              'AdaBoost Classifier': {'n_estimators': [1, 2, 5, 10, 20]}}\n",
    "\n",
    "# optimize precision\n",
    "precision_scores = find_best_parameters(names, classifiers, X, y, param_grid, score='precision', random_state=42)\n",
    "print_score_parameter_table(names, precision_scores)\n",
    "print()\n",
    "\n",
    "# optimize recall\n",
    "recall_scores = find_best_parameters(names, classifiers, X, y, param_grid, score='recall', random_state=42)\n",
    "print_score_parameter_table(names, recall_scores)"
   ]
  },
  {
   "cell_type": "markdown",
   "metadata": {
    "deletable": true,
    "editable": true
   },
   "source": [
    "Optimizing the model parameters confirmed the results from varying the number of input features. The 'Logistic Regression', 'Support Vector Classifier' and 'KNeighbors Classifier' models were dropped and not considered further for the rest of my analysis.\n",
    "\n",
    "In a next step I tried to optimize the number of input features as well as the parameters simultaneously for the remaining four classifiers.\n",
    "\n",
    "tune parameters and number of features together for four best algorithms\n",
    "-> probably different best number of features for each algorithm"
   ]
  },
  {
   "cell_type": "code",
   "execution_count": 14,
   "metadata": {
    "collapsed": false,
    "deletable": true,
    "editable": true
   },
   "outputs": [],
   "source": [
    "# select best classifiers\n",
    "top_ixs = [1, 4, 5, 6]\n",
    "names_top = [n for i, n in enumerate(names) if i in top_ixs]\n",
    "classifiers_top = [clf for i, clf in enumerate(classifiers) if i in top_ixs]\n",
    "\n",
    "param_grid_top = {k: v for k, v in param_grid.items() if k not in ['Logistic Regression', 'Support Vector Classifier', \n",
    "                                                                   'KNeighbors Classifier']}\n",
    "\n",
    "# data preparation\n",
    "X = data_df.loc[:, top_10_features]\n",
    "scaler = MinMaxScaler()\n",
    "X[top_10_features] = scaler.fit_transform(X[top_10_features].fillna(value=0))\n",
    "\n",
    "y = data_df['poi'].astype(int).values"
   ]
  },
  {
   "cell_type": "markdown",
   "metadata": {
    "deletable": true,
    "editable": true
   },
   "source": [
    "\n",
    "    "
   ]
  },
  {
   "cell_type": "code",
   "execution_count": 94,
   "metadata": {
    "collapsed": false
   },
   "outputs": [],
   "source": [
    "def optimize_features_and_parameters(names, classifiers, X, y, top_features, param_grid, score='accuracy', random_state=None):\n",
    "    \"\"\"\n",
    "    \"\"\"\n",
    "    # perform parameter optimization for varying number of input features\n",
    "    clf_scores = {}\n",
    "    for i in range(1, len(top_features) + 1):\n",
    "        features = top_features[:i]\n",
    "        X_i = X.loc[:, features].values\n",
    "        \n",
    "        scores = find_best_parameters(names, classifiers, X_i, y, param_grid, score=score, random_state=random_state)\n",
    "        clf_scores[i] = scores\n",
    "    \n",
    "    # select best results for each classifier\n",
    "    clf_best_scores = {}\n",
    "    for n in names:\n",
    "        best_score, best_i, best_params = 0, 0, None\n",
    "        \n",
    "        for i, v in clf_scores.items():\n",
    "            for k, v in v.items():\n",
    "                if k == n:\n",
    "                    if v[score] > best_score:\n",
    "                        best_score = v[score]\n",
    "                        best_i = i\n",
    "                        best_params = v['parameters']\n",
    "        \n",
    "        clf_best_scores[n] = {score: best_score, 'input features': best_i, 'parameters': best_params}\n",
    "            \n",
    "    return clf_best_scores"
   ]
  },
  {
   "cell_type": "code",
   "execution_count": 95,
   "metadata": {
    "collapsed": false
   },
   "outputs": [
    {
     "name": "stdout",
     "output_type": "stream",
     "text": [
      "{'Gaussian Naive Bayes': {'parameters': {}, 'input features': 4, 'precision': 0.53053571428571411}, 'Decision Tree Classifier': {'parameters': {'min_samples_split': 20, 'criterion': 'gini'}, 'input features': 1, 'precision': 0.39969047619047621}, 'Random Forest Classifier': {'parameters': {'min_samples_split': 5, 'criterion': 'gini', 'n_estimators': 10}, 'input features': 2, 'precision': 0.62024206349206346}, 'AdaBoost Classifier': {'parameters': {'n_estimators': 1}, 'input features': 1, 'precision': 0.58911904761904765}}\n"
     ]
    }
   ],
   "source": [
    "#names_1 = names_top[:2]\n",
    "#classifiers_1 = classifiers_top[:2]\n",
    "#param_grid_1 = {k: v for k, v in param_grid.items() if k in ['Gaussian Naive Bayes', 'Decision Tree Classifier']}\n",
    "\n",
    "precision_scores = optimize_features_and_parameters(names_top, classifiers_top, X, y, top_10_features, param_grid_top, \n",
    "                                                    score='precision', random_state=42)"
   ]
  },
  {
   "cell_type": "code",
   "execution_count": 101,
   "metadata": {
    "collapsed": false
   },
   "outputs": [
    {
     "name": "stdout",
     "output_type": "stream",
     "text": [
      "Classifier                Parameters                                                         Input Features  Precision       \n",
      "-----------------------------------------------------------------------------------------------------------------------------\n",
      "Gaussian Naive Bayes      {}                                                                 4               0.530535714286  \n",
      "Decision Tree Classifier  {'min_samples_split': 20, 'criterion': 'gini'}                     1               0.39969047619   \n",
      "Random Forest Classifier  {'min_samples_split': 5, 'criterion': 'gini', 'n_estimators': 10}  2               0.620242063492  \n",
      "AdaBoost Classifier       {'n_estimators': 1}                                                1               0.589119047619  \n"
     ]
    }
   ],
   "source": [
    "def print_classifier_table(scores):\n",
    "    \"\"\"\n",
    "    \n",
    "    \"\"\"\n",
    "    \n",
    "    # get column names\n",
    "    col_headers = [\"Classifier\"]\n",
    "    for k in next(iter(scores.values())).keys():\n",
    "        col_headers.append(k.title())\n",
    "    \n",
    "    # get row data\n",
    "    rows = []\n",
    "    for clf in scores.keys():\n",
    "        row = [v for v in scores[clf].values()]\n",
    "        row.insert(0, clf)\n",
    "        rows.append(row)\n",
    "    \n",
    "    # find longest string for each column, determines column width\n",
    "    cols = [list(x) for x in zip(*rows)]\n",
    "    cols = [[str(x) for x in l1] for l1 in cols]\n",
    "    \n",
    "    col_widths = []\n",
    "    for c in cols:\n",
    "        col_widths.append(max(len(x) for x in c) + 2)\n",
    "    \n",
    "    # check if header itself is longer than longest column value, if so replace the width value\n",
    "    col_widths = [w if w >= len(h) - 2 else len(h) + 2 for h, w in zip(col_headers, col_widths)] # if/else list comprehension\n",
    "    \n",
    "    # print out results table header\n",
    "    header_str = \"\"\n",
    "    for h, w in zip(col_headers, col_widths):\n",
    "        header_str += \"{col_header: <{width}}\".format(col_header=h, width=w)\n",
    "    \n",
    "    print(header_str)\n",
    "    print(\"-\" * len(header_str))\n",
    "    \n",
    "    # print out table rows\n",
    "    for r in rows:\n",
    "        row_str = \"\"\n",
    "        for v, w in zip(r, col_widths):\n",
    "            row_str += \"{val: <{width}}\".format(val=str(v), width=w)\n",
    "        print(row_str)\n",
    "\n",
    "print_classifier_table(precision_scores)"
   ]
  },
  {
   "cell_type": "code",
   "execution_count": null,
   "metadata": {
    "collapsed": false
   },
   "outputs": [],
   "source": [
    "recall_scores = optimize_features_and_parameters(names_top, classifiers_top, X, y, top_10_features, param_grid_top, \n",
    "                                                    score='recall', random_state=42)\n",
    "print(recall_scores)"
   ]
  },
  {
   "cell_type": "code",
   "execution_count": 78,
   "metadata": {
    "collapsed": false
   },
   "outputs": [
    {
     "data": {
      "text/plain": [
       "8"
      ]
     },
     "execution_count": 78,
     "metadata": {},
     "output_type": "execute_result"
    }
   ],
   "source": [
    "import math"
   ]
  },
  {
   "cell_type": "markdown",
   "metadata": {},
   "source": [
    "top 2 optimal configurations:\n",
    "\n",
    "\n"
   ]
  },
  {
   "cell_type": "markdown",
   "metadata": {},
   "source": [
    "cross-validation for train/test split -> stratifiedkfold -> best model\n"
   ]
  },
  {
   "cell_type": "code",
   "execution_count": null,
   "metadata": {
    "collapsed": true
   },
   "outputs": [],
   "source": []
  },
  {
   "cell_type": "markdown",
   "metadata": {
    "deletable": true,
    "editable": true,
    "hideCode": false,
    "hidePrompt": false
   },
   "source": [
    "## PCA Approach\n",
    "\n",
    "Instead of selecting the features that influence target labels the most one can use principal component analysis (PCA) to condense all..."
   ]
  },
  {
   "cell_type": "code",
   "execution_count": null,
   "metadata": {
    "collapsed": false,
    "deletable": true,
    "editable": true
   },
   "outputs": [],
   "source": [
    "# data preparation\n",
    "X = data_df.fillna(value=0).select_dtypes(include=[np.number])\n",
    "y = data_df['poi'].astype(int).values\n",
    "\n",
    "# pca\n",
    "pca = PCA(n_components=3)\n",
    "X_pca = pca.fit_transform(X.values)\n",
    "\n",
    "print_score_table(names, classifiers, X_pca, y, random_state=42)"
   ]
  },
  {
   "cell_type": "markdown",
   "metadata": {},
   "source": [
    "do for 2 and 3 principal components\n",
    "\n",
    "plot decision boundaries for 2 components\n",
    "\n",
    "show that parameter tuning and train/test crossval still deliver worse results than the models above"
   ]
  },
  {
   "cell_type": "code",
   "execution_count": null,
   "metadata": {
    "collapsed": true
   },
   "outputs": [],
   "source": []
  },
  {
   "cell_type": "code",
   "execution_count": null,
   "metadata": {
    "collapsed": false,
    "deletable": true,
    "editable": true
   },
   "outputs": [],
   "source": [
    "# parameter tuning\n",
    "best_parameter_search(names, classifiers, X, y, param_grid, score='precision', random_state=42)\n",
    "print()\n",
    "best_parameter_search(names, classifiers, X, y, param_grid, score='recall', random_state=42)"
   ]
  },
  {
   "cell_type": "markdown",
   "metadata": {
    "deletable": true,
    "editable": true,
    "hideCode": false,
    "hidePrompt": false
   },
   "source": [
    "## Conclusion\n",
    "\n",
    "best model...\n"
   ]
  },
  {
   "cell_type": "markdown",
   "metadata": {
    "deletable": true,
    "editable": true,
    "hideCode": false,
    "hidePrompt": false
   },
   "source": []
  }
 ],
 "metadata": {
  "anaconda-cloud": {},
  "celltoolbar": "Hide code",
  "hide_code_all_hidden": false,
  "kernelspec": {
   "display_name": "Python [Root]",
   "language": "python",
   "name": "Python [Root]"
  },
  "language_info": {
   "codemirror_mode": {
    "name": "ipython",
    "version": 3
   },
   "file_extension": ".py",
   "mimetype": "text/x-python",
   "name": "python",
   "nbconvert_exporter": "python",
   "pygments_lexer": "ipython3",
   "version": "3.5.2"
  }
 },
 "nbformat": 4,
 "nbformat_minor": 0
}
