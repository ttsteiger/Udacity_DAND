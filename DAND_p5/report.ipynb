{
 "cells": [
  {
   "cell_type": "markdown",
   "metadata": {},
   "source": [
    "# Identify Persons of Interest in the Enron Corpus Dataset\n",
    "\n",
    "## Introduction\n",
    "\n",
    "\n",
    "## Data Exploration\n",
    "\n",
    "### Dataset Description"
   ]
  },
  {
   "cell_type": "code",
   "execution_count": 3,
   "metadata": {
    "collapsed": true
   },
   "outputs": [],
   "source": [
    "# import packages\n",
    "import matplotlib.pyplot as plt\n",
    "%matplotlib inline\n",
    "import numpy as np\n",
    "import pandas as pd\n",
    "import pickle\n",
    "from sklearn.preprocessing import MinMaxScaler"
   ]
  },
  {
   "cell_type": "code",
   "execution_count": 4,
   "metadata": {
    "collapsed": true
   },
   "outputs": [],
   "source": [
    "def convert_dict_to_df(dictionary, features, remove_NaN=True, \n",
    "                        remove_all_zeroes=True, remove_any_zeroes=False, \n",
    "                        sort_keys=False):\n",
    "    \"\"\"\n",
    "    Convert dictionary to a pandas data frame of features.\n",
    "    \n",
    "    Args:\n",
    "        dictionary: Dictionary containing the feature names as keys and the \n",
    "            corresponding values.\n",
    "        features: List of feature names. First feature passed needs to be 'poi'.\n",
    "        remove_NaN: True converts all \"NaN\" strings to 0.\n",
    "        remove_all_zeroes: True omits all 0 data points.\n",
    "        remove_any_zeroes: True omits single 0 data points.\n",
    "        sort_keys: True sorts the dictionary keys in alphabetical order before\n",
    "            adding the data points to the data frame.\n",
    "\n",
    "    Returns:\n",
    "        Function returns a pandas data frame with each row representing a data \n",
    "        point with the specified features in its columns.\n",
    "    \"\"\"\n",
    "\n",
    "    # check that first feature passed is 'poi'\n",
    "    assert (features[0] == 'poi'), \"The first feature needs to be 'poi'!\"\n",
    "\n",
    "    # data frame to store the data points as individual rows\n",
    "    df = pd.DataFrame(columns=['name'] + features)\n",
    "\n",
    "    # sort keys alphabetically if sort_keys is set to True\n",
    "    if sort_keys:\n",
    "        keys = sorted(dictionary.keys())\n",
    "    else:\n",
    "        keys = dictionary.keys()\n",
    "\n",
    "    # loop trough the data dictionary \n",
    "    for key in keys:\n",
    "        \n",
    "        val_dict = {'name': key} # first entry of data point is the name of the person\n",
    "\n",
    "        for feature in features:\n",
    "            # check if specified feature exists, throw a warning if not and \n",
    "            # stop the function\n",
    "            try:\n",
    "                val = dictionary[key][feature]\n",
    "            except KeyError:\n",
    "                print(\"error: key \", feature, \" not present\")\n",
    "                return\n",
    "\n",
    "            val = dictionary[key][feature]\n",
    "\n",
    "            # set 'NaN' strings to np.NaN values\n",
    "            if val == \"NaN\" and not remove_NaN:\n",
    "                val = np.NaN\n",
    "            # set NaN values to 0 if remove_NaN is set to True\n",
    "            elif val == \"NaN\" and remove_NaN:\n",
    "                val = 0\n",
    "\n",
    "            val_dict[feature] = val\n",
    "\n",
    "        # do not add all zero data points if remove_all_zeroes is set to True\n",
    "        if remove_all_zeroes:\n",
    "            append = False\n",
    "            for _, val in val_dict.items(): \n",
    "                if val != 0 and val != \"NaN\":\n",
    "                    append = True\n",
    "                    break\n",
    "        \n",
    "        # don not add single zero data points if remove_any_zeroes is set to \n",
    "        # True\n",
    "        elif remove_any_zeroes:\n",
    "            append = True\n",
    "            if 0 in val_list[1:] or \"NaN\" in val_list[1:]: # exclude 'poi' from criteria????\n",
    "                append = False\n",
    "        \n",
    "        # all data points are added \n",
    "        else:\n",
    "            append = True\n",
    "\n",
    "        # append data point if it is flagged for addition\n",
    "        if append:\n",
    "            df = df.append(val_dict, ignore_index=True)\n",
    "        \n",
    "        # convert the 'poi' column from boolean to numerical\n",
    "        #df['poi'] = df['poi'].astype(int)\n",
    "        \n",
    "    return df"
   ]
  },
  {
   "cell_type": "code",
   "execution_count": 9,
   "metadata": {
    "collapsed": false
   },
   "outputs": [
    {
     "name": "stdout",
     "output_type": "stream",
     "text": [
      "(146, 22)\n",
      "['name' 'poi' 'bonus' 'deferral_payments' 'deferred_income' 'director_fees'\n",
      " 'exercised_stock_options' 'expenses' 'loan_advances' 'long_term_incentive'\n",
      " 'other' 'restricted_stock' 'restricted_stock_deferred' 'salary'\n",
      " 'total_payments' 'total_stock_value' 'email_address' 'from_messages'\n",
      " 'from_poi_to_this_person' 'from_this_person_to_poi'\n",
      " 'shared_receipt_with_poi' 'to_messages']\n"
     ]
    }
   ],
   "source": [
    "# load dictionary containing the dataset\n",
    "with open(\"final_project_dataset.pkl\", \"rb\") as data_file:\n",
    "    data_dict = pickle.load(data_file)\n",
    "\n",
    "# feature list\n",
    "features = ['poi', 'bonus', 'deferral_payments', 'deferred_income', \n",
    "            'director_fees', 'exercised_stock_options', 'expenses', \n",
    "            'loan_advances', 'long_term_incentive', 'other', 'restricted_stock', \n",
    "            'restricted_stock_deferred', 'salary', 'total_payments', \n",
    "            'total_stock_value', 'email_address', 'from_messages', \n",
    "            'from_poi_to_this_person', 'from_this_person_to_poi', \n",
    "            'shared_receipt_with_poi', 'to_messages']\n",
    "\n",
    "# convert specified features to data frame\n",
    "data_df = convert_dict_to_df(data_dict, features, remove_NaN=True, \n",
    "                        remove_all_zeroes=True, remove_any_zeroes=False, \n",
    "                        sort_keys=True)\n",
    "\n",
    "print(data_df.shape)\n",
    "print(data_df.columns.values)"
   ]
  },
  {
   "cell_type": "markdown",
   "metadata": {},
   "source": [
    "| Feature                   | Type        |\n",
    "|-------------------------- | ----------- |\n",
    "| poi                       | categorical |\n",
    "| bonus                     | numerical   |\n",
    "| deferral_payments         | numerical   |  ab  |\n",
    "| deferred_income           | numerical       |  ab  |\n",
    "| director_fees             | numerical       |  ab  |\n",
    "| exercised_stock_options   | numerical       |  ab  |\n",
    "| expenses                  | numerical       |  ab  |\n",
    "| loan_advances             | numerical       |  ab  |\n",
    "| long_term_incentive       | numerical       |  ab  |\n",
    "| other                     | numerical       |  ab  |\n",
    "| restricted_stock          | numerical       |  ab  |\n",
    "| restricted_stock_deferred | numerical       |  ab  |\n",
    "| salary                    | numerical       |  ab  |\n",
    "| total_payments            | numerical       |  ab  |\n",
    "| total_stock_value         | numerical       |  ab  |\n",
    "| email_address             | text       |  ab  |\n",
    "| from_messages             | numerical       |  ab  |\n",
    "| from_poi_to_this_person   | numerical       |  ab  |\n",
    "| from_this_person_to_poi   | numerical       |  ab  |\n",
    "| shared_receipt_with_poi   | numerical       |  ab  |\n",
    "| to_messages               | numerical       |  ab  |\n"
   ]
  },
  {
   "cell_type": "markdown",
   "metadata": {},
   "source": [
    "### Outliers\n",
    "\n"
   ]
  },
  {
   "cell_type": "code",
   "execution_count": null,
   "metadata": {
    "collapsed": true
   },
   "outputs": [],
   "source": [
    "# drop 'TOTAL' row\n",
    "data_df = data_df[data_df['name'] != 'TOTAL']"
   ]
  },
  {
   "cell_type": "markdown",
   "metadata": {},
   "source": [
    "## Feature Selection and Engineering\n"
   ]
  },
  {
   "cell_type": "markdown",
   "metadata": {},
   "source": [
    "## Algorithm Selection\n"
   ]
  },
  {
   "cell_type": "markdown",
   "metadata": {},
   "source": [
    "## Validation and Evaluation\n"
   ]
  },
  {
   "cell_type": "markdown",
   "metadata": {},
   "source": [
    "## Conclusion"
   ]
  }
 ],
 "metadata": {
  "celltoolbar": "Edit Metadata",
  "kernelspec": {
   "display_name": "Python [Root]",
   "language": "python",
   "name": "Python [Root]"
  },
  "language_info": {
   "codemirror_mode": {
    "name": "ipython",
    "version": 3
   },
   "file_extension": ".py",
   "mimetype": "text/x-python",
   "name": "python",
   "nbconvert_exporter": "python",
   "pygments_lexer": "ipython3",
   "version": "3.5.2"
  }
 },
 "nbformat": 4,
 "nbformat_minor": 0
}
