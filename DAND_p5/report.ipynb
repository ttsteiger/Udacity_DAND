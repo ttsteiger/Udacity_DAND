{
 "cells": [
  {
   "cell_type": "code",
   "execution_count": 12,
   "metadata": {
    "collapsed": false,
    "deletable": true,
    "editable": true,
    "hideCode": false,
    "hidePrompt": false
   },
   "outputs": [
    {
     "data": {
      "text/html": [
       "<!-- left align tables -->\n",
       "<style>\n",
       "table {margin-left: 0 !important;}\n",
       "</style>"
      ],
      "text/plain": [
       "<IPython.core.display.HTML object>"
      ]
     },
     "metadata": {},
     "output_type": "display_data"
    }
   ],
   "source": [
    "%%html\n",
    "<!-- left align tables -->\n",
    "<style>\n",
    "table {margin-left: 0 !important;}\n",
    "</style>"
   ]
  },
  {
   "cell_type": "markdown",
   "metadata": {
    "deletable": true,
    "editable": true,
    "hideCode": false,
    "hidePrompt": false
   },
   "source": [
    "# Identify Persons of Interest in the Enron Corpus Dataset\n",
    "\n",
    "## Introduction\n",
    "\n",
    "\n",
    "## Data Exploration\n",
    "\n",
    "### Dataset Description\n",
    "\n",
    "email\n",
    "https://www.cs.cmu.edu/~./enron/\n",
    "\n",
    "finance\n",
    "http://news.findlaw.com/hdocs/docs/enron/enron61702insiderpay.pdf"
   ]
  },
  {
   "cell_type": "code",
   "execution_count": 13,
   "metadata": {
    "collapsed": false,
    "deletable": true,
    "editable": true,
    "hideCode": false,
    "hideOutput": true,
    "hidePrompt": false
   },
   "outputs": [],
   "source": [
    "# import packages\n",
    "import warnings\n",
    "warnings.filterwarnings(\"ignore\")\n",
    "\n",
    "import matplotlib.pyplot as plt\n",
    "%matplotlib inline\n",
    "import numpy as np\n",
    "import os\n",
    "import pandas as pd\n",
    "import pickle\n",
    "import re\n",
    "import seaborn as sns\n",
    "\n",
    "from sklearn.feature_selection import SelectKBest\n",
    "from sklearn.model_selection import StratifiedKFold\n",
    "from sklearn.model_selection import train_test_split\n",
    "from sklearn.preprocessing import MinMaxScaler\n",
    "\n",
    "from sklearn.tree import DecisionTreeClassifier\n",
    "from sklearn.ensemble import RandomForestClassifier, AdaBoostClassifier\n",
    "from sklearn.naive_bayes import GaussianNB\n",
    "from sklearn.linear_model import LogisticRegression\n",
    "from sklearn.neighbors import KNeighborsClassifier\n",
    "from sklearn.svm import SVC\n",
    "\n",
    "from sklearn.metrics import precision_score\n",
    "from sklearn.metrics import recall_score\n",
    "from sklearn.model_selection import StratifiedShuffleSplit"
   ]
  },
  {
   "cell_type": "code",
   "execution_count": 14,
   "metadata": {
    "collapsed": true,
    "deletable": true,
    "editable": true,
    "hideCode": false,
    "hideOutput": true,
    "hidePrompt": false
   },
   "outputs": [],
   "source": [
    "# helper functions\n",
    "def convert_dict_to_df(dictionary, features, remove_NaN=True, \n",
    "                        remove_all_zeroes=True, remove_any_zeroes=False, \n",
    "                        sort_keys=False):\n",
    "    \"\"\"\n",
    "    Convert dictionary to a pandas data frame of features.\n",
    "    \n",
    "    Args:\n",
    "        dictionary: Dictionary containing the feature names as keys and the \n",
    "            corresponding values.\n",
    "        features: List of feature names. First feature passed needs to be 'poi'.\n",
    "        remove_NaN: True converts all \"NaN\" strings to 0.\n",
    "        remove_all_zeroes: True omits all 0 data points.\n",
    "        remove_any_zeroes: True omits single 0 data points.\n",
    "        sort_keys: True sorts the dictionary keys in alphabetical order before\n",
    "            adding the data points to the data frame.\n",
    "\n",
    "    Returns:\n",
    "        Function returns a pandas data frame with each row representing a data \n",
    "        point with the specified features in its columns.\n",
    "    \"\"\"\n",
    "\n",
    "    # check that first feature passed is 'poi'\n",
    "    assert (features[0] == 'poi'), \"The first feature needs to be 'poi'!\"\n",
    "\n",
    "    # data frame to store the data points as individual rows\n",
    "    df = pd.DataFrame(columns=['name'] + features)\n",
    "\n",
    "    # sort keys alphabetically if sort_keys is set to True\n",
    "    if sort_keys:\n",
    "        keys = sorted(dictionary.keys())\n",
    "    else:\n",
    "        keys = dictionary.keys()\n",
    "\n",
    "    # loop trough the data dictionary \n",
    "    for key in keys:\n",
    "        \n",
    "        val_dict = {'name': key} # first entry of data point is the name of the person\n",
    "\n",
    "        for feature in features:\n",
    "            # check if specified feature exists, throw a warning if not and \n",
    "            # stop the function\n",
    "            try:\n",
    "                val = dictionary[key][feature]\n",
    "            except KeyError:\n",
    "                print(\"error: key \", feature, \" not present\")\n",
    "                return\n",
    "\n",
    "            val = dictionary[key][feature]\n",
    "\n",
    "            # set 'NaN' strings to np.NaN values\n",
    "            if val == \"NaN\" and not remove_NaN:\n",
    "                val = np.NaN\n",
    "            # set NaN values to 0 if remove_NaN is set to True\n",
    "            elif val == \"NaN\" and remove_NaN:\n",
    "                val = 0\n",
    "\n",
    "            val_dict[feature] = val\n",
    "\n",
    "        # do not add all zero data points if remove_all_zeroes is set to True\n",
    "        if remove_all_zeroes:       \n",
    "            append = False\n",
    "            for key, val in val_dict.items(): \n",
    "                if key != 'poi' and key != 'name': # exclude 'poi' and 'name' from criteria\n",
    "                    if val != 0 and val != \"NaN\":\n",
    "                        append = True\n",
    "                        break\n",
    "        \n",
    "        # don not add single zero data points if remove_any_zeroes is set to \n",
    "        # True\n",
    "        elif remove_any_zeroes:\n",
    "            append = True\n",
    "            keys =  [f for f in features if f not in ('poi', 'name')] # exclude 'poi' and 'name' from criteria\n",
    "            val_list = [val_dict.get(k) for k in keys] # list containing values of remaining features\n",
    "\n",
    "            if 0 in val_list or \"NaN\" in val_list:\n",
    "                append = False\n",
    "        \n",
    "        # all data points are added \n",
    "        else:\n",
    "            append = True\n",
    "    \n",
    "        \n",
    "        # append data point if it is flagged for addition\n",
    "        if append:\n",
    "            df = df.append(val_dict, ignore_index=True)\n",
    "        \n",
    "    return df\n",
    "\n",
    "\n",
    "def scatter_plot(df, x, y, normalize=True):\n",
    "    \"\"\"\n",
    "    \n",
    "    \"\"\"\n",
    "    poi_df = df[df['poi'] == True]\n",
    "    x_poi = poi_df[x].fillna(value=0).values.reshape(-1, 1)\n",
    "    y_poi = poi_df[y].fillna(value=0).values.reshape(-1, 1)\n",
    "    \n",
    "    non_poi_df = df[df['poi'] == False]\n",
    "    x_non_poi = non_poi_df[x].fillna(value=0).values.reshape(-1, 1)\n",
    "    y_non_poi = non_poi_df[y].fillna(value=0).values.reshape(-1, 1)\n",
    "    \n",
    "    if normalize:\n",
    "        x_poi = MinMaxScaler().fit_transform(x_poi)\n",
    "        y_poi = MinMaxScaler().fit_transform(y_poi)\n",
    "        \n",
    "        x_non_poi = MinMaxScaler().fit_transform(x_non_poi)\n",
    "        y_non_poi = MinMaxScaler().fit_transform(y_non_poi)\n",
    "    \n",
    "    # create plot\n",
    "    fig, ax = plt.subplots(1, 1, figsize=(8, 8))\n",
    "    ax.scatter(x_poi, y_poi, color=\"red\", label=\"poi\")\n",
    "    ax.scatter(x_non_poi, y_non_poi, color=\"blue\", label=\"non poi\")\n",
    "    ax.set(title=\"{} vs. {}\".format(x, y), xlabel=x, xlim=[-0.02, 1.02], ylabel=y, ylim=[-0.02, 1.02])\n",
    "    plt.legend()\n",
    "    \n",
    "    plt.show()"
   ]
  },
  {
   "cell_type": "code",
   "execution_count": 15,
   "metadata": {
    "collapsed": false,
    "deletable": true,
    "editable": true,
    "hideCode": false,
    "hidePrompt": false
   },
   "outputs": [
    {
     "name": "stdout",
     "output_type": "stream",
     "text": [
      "(146, 22)\n",
      "22\n",
      "18\n"
     ]
    }
   ],
   "source": [
    "# load dictionary containing the dataset\n",
    "with open(\"enron_dataset.pkl\", \"rb\") as data_file:\n",
    "    data_dict = pickle.load(data_file)\n",
    "\n",
    "# feature list\n",
    "features = ['poi', 'bonus', 'deferral_payments', 'deferred_income', \n",
    "            'director_fees', 'exercised_stock_options', 'expenses', \n",
    "            'loan_advances', 'long_term_incentive', 'other', 'restricted_stock', \n",
    "            'restricted_stock_deferred', 'salary', 'total_payments', \n",
    "            'total_stock_value', 'email_address', 'from_messages', \n",
    "            'from_poi_to_this_person', 'from_this_person_to_poi', \n",
    "            'shared_receipt_with_poi', 'to_messages']\n",
    "\n",
    "# convert specified features to data frame\n",
    "data_df = convert_dict_to_df(data_dict, features, remove_NaN=False, \n",
    "                        remove_all_zeroes=True, remove_any_zeroes=False, \n",
    "                        sort_keys=True)\n",
    "\n",
    "print(data_df.shape)\n",
    "print(len(list(data_df.columns.values)))\n",
    "print(data_df['poi'].sum())"
   ]
  },
  {
   "cell_type": "markdown",
   "metadata": {
    "deletable": true,
    "editable": true,
    "hideCode": false,
    "hidePrompt": false
   },
   "source": [
    "The underlying dataset for this project is a combination of Enron email and financial data. The data is present in the `enron_dataset.pkl` file where it is stored in a dictionary structure. Each key-value pair in the dictionary corresponds to one person. The dictionary key is the person's name, and the value is another dictionary, which contains the names of all the features and their values for that person. \n",
    "\n",
    "The data contains three major feature categories: POI labels, financial features and email features. The 21 feature names and their type are described in the table below.\n",
    "\n",
    "| Feature                   | Type        |\n",
    "|-------------------------- | ----------- |\n",
    "| poi                       | categorical |\n",
    "| bonus                     | numerical   |\n",
    "| deferral_payments         | numerical   |\n",
    "| deferred_income           | numerical   |\n",
    "| director_fees             | numerical   |\n",
    "| exercised_stock_options   | numerical   |\n",
    "| expenses                  | numerical   |\n",
    "| loan_advances             | numerical   |\n",
    "| long_term_incentive       | numerical   |\n",
    "| other                     | numerical   |\n",
    "| restricted_stock          | numerical   |\n",
    "| restricted_stock_deferred | numerical   |\n",
    "| salary                    | numerical   |\n",
    "| total_payments            | numerical   |\n",
    "| total_stock_value         | numerical   |\n",
    "| email_address             | text        |\n",
    "| from_messages             | numerical   |\n",
    "| from_poi_to_this_person   | numerical   |\n",
    "| from_this_person_to_poi   | numerical   |\n",
    "| shared_receipt_with_poi   | numerical   |\n",
    "| to_messages               | numerical   |\n",
    "\n",
    "The dataset contains information about 146 different data points. Of those, 18 are marked as POI.\n",
    "\n",
    "Missing values..."
   ]
  },
  {
   "cell_type": "code",
   "execution_count": 16,
   "metadata": {
    "collapsed": false,
    "deletable": true,
    "editable": true,
    "hideCode": false,
    "hidePrompt": false
   },
   "outputs": [
    {
     "name": "stdout",
     "output_type": "stream",
     "text": [
      "Number of NaN values in each columns:\n",
      "-------------------------------------\n",
      "name                           0\n",
      "poi                            0\n",
      "bonus                         64\n",
      "deferral_payments            107\n",
      "deferred_income               97\n",
      "director_fees                129\n",
      "exercised_stock_options       44\n",
      "expenses                      51\n",
      "loan_advances                142\n",
      "long_term_incentive           80\n",
      "other                         53\n",
      "restricted_stock              36\n",
      "restricted_stock_deferred    128\n",
      "salary                        51\n",
      "total_payments                21\n",
      "total_stock_value             20\n",
      "email_address                 35\n",
      "from_messages                 60\n",
      "from_poi_to_this_person       60\n",
      "from_this_person_to_poi       60\n",
      "shared_receipt_with_poi       60\n",
      "to_messages                   60\n",
      "dtype: int64\n"
     ]
    }
   ],
   "source": [
    "# count number of NaN values in each column\n",
    "print(\"Number of NaN values in each columns:\")\n",
    "print(\"-------------------------------------\")\n",
    "print(data_df.isnull().sum())"
   ]
  },
  {
   "cell_type": "markdown",
   "metadata": {
    "deletable": true,
    "editable": true,
    "hideCode": false,
    "hidePrompt": false
   },
   "source": [
    "The dataset contains a lot of features with missing values. One can see that it is based on the finacial data and that only for 86 point a connection to the email dataset could be made (60 data points without email data). For the features 'deferral_payments', 'director_fees', 'loan_advances' and 'restricted_stock_deferred' the fewest amount of  data is available."
   ]
  },
  {
   "cell_type": "markdown",
   "metadata": {
    "deletable": true,
    "editable": true,
    "hideCode": false,
    "hidePrompt": false
   },
   "source": [
    "### Outliers\n",
    "\n",
    "In the financial data a strange outlier was found. This data point had the largest values for all the different financial feature and was identified as the total column from the spreadsheet. Futhermore, I discovered the key 'THE TRAVEL AGENCY IN THE PARK' which is not the name of a person as well as the data point of 'LOCKHART EUGENE E' that consists of all zero values. These lines were dropped and not considered further."
   ]
  },
  {
   "cell_type": "code",
   "execution_count": 17,
   "metadata": {
    "collapsed": false,
    "deletable": true,
    "editable": true,
    "hideCode": false,
    "hideOutput": true,
    "hidePrompt": false
   },
   "outputs": [
    {
     "name": "stdout",
     "output_type": "stream",
     "text": [
      "(143, 22)\n"
     ]
    }
   ],
   "source": [
    "# drop 'TOTAL' row\n",
    "for n in ['TOTAL', 'THE TRAVEL AGENCY IN THE PARK', 'LOCKHART EUGENE E']:\n",
    "    data_df = data_df[data_df['name'] != n]\n",
    "\n",
    "print(data_df.shape)"
   ]
  },
  {
   "cell_type": "markdown",
   "metadata": {
    "deletable": true,
    "editable": true,
    "hideCode": false,
    "hidePrompt": false
   },
   "source": [
    "log scaling of skewed distributions???\n",
    "\n",
    "### Feature Engineering\n",
    "\n",
    "Before selecting the features that influence 'poi' labelling the most I created two new features. First of all, I thought about looking at the ratio between 'restricted_stock' and 'total_stock_value'. As POIs in general had higher stock options maybe they also tried to prevent those from being restricted leading to low values for the 'poi_email_fraction'. Secondly, I created a new variable comparing the number of emails received from and sent to POIs with the total number of email received and sent by each pearson. I would expect POIs to communicate more frequently with other POIs and thus having higher 'poi_email_fraction' values."
   ]
  },
  {
   "cell_type": "code",
   "execution_count": 18,
   "metadata": {
    "collapsed": false,
    "deletable": true,
    "editable": true,
    "hideCode": false,
    "hidePrompt": false
   },
   "outputs": [
    {
     "data": {
      "image/png": "[encoded data removed]",
      "text/plain": [
       "<matplotlib.figure.Figure at 0x7fd8dc558908>"
      ]
     },
     "metadata": {},
     "output_type": "display_data"
    }
   ],
   "source": [
    "# poi fraction\n",
    "data_df['restricted_stock_fraction'] = data_df['restricted_stock'] / data_df['total_stock_value']\n",
    "data_df['poi_email_fraction'] = (data_df['from_poi_to_this_person'] + data_df['from_this_person_to_poi']) / (data_df['from_messages'] + data_df['to_messages'])\n",
    "\n",
    "# visualization\n",
    "scatter_plot(data_df, 'restricted_stock_fraction', 'poi_email_fraction')"
   ]
  },
  {
   "cell_type": "markdown",
   "metadata": {
    "collapsed": true,
    "deletable": true,
    "editable": true,
    "hideCode": false,
    "hidePrompt": false
   },
   "source": [
    "By visualizing these new featuers one can see that all but one POI have a 'poi_email_fraction' larger than 0.2. The point that breaks ranks occurs as there is no email data for that person available. Most POIs have 'restricted_stock_fractions' between 0.2 and 0.7 but there are three data points that have all their stocks restircted.\n",
    "\n",
    "### Feature Selection\n",
    "\n",
    "\n",
    "\n",
    "SelectKBest\n",
    "\n",
    "scales features for meaningful comparison"
   ]
  },
  {
   "cell_type": "code",
   "execution_count": 19,
   "metadata": {
    "collapsed": false,
    "deletable": true,
    "editable": true,
    "hideCode": false,
    "hidePrompt": false
   },
   "outputs": [
    {
     "name": "stdout",
     "output_type": "stream",
     "text": [
      "exercised_stock_options: 24.815079733218194\n",
      "total_stock_value: 24.18289867856688\n",
      "bonus: 20.792252047181535\n",
      "salary: 18.289684043404513\n",
      "deferred_income: 11.458476579280369\n",
      "long_term_incentive: 9.922186013189823\n",
      "restricted_stock: 9.2128106219771\n",
      "total_payments: 8.772777730091676\n",
      "shared_receipt_with_poi: 8.589420731682381\n",
      "loan_advances: 7.184055658288725\n",
      "expenses: 6.094173310638945\n",
      "poi_email_fraction: 5.399370288094401\n",
      "from_poi_to_this_person: 5.243449713374958\n",
      "other: 4.187477506995375\n",
      "from_this_person_to_poi: 2.382612108227674\n",
      "director_fees: 2.1263278020077054\n",
      "to_messages: 1.6463411294420076\n",
      "restricted_stock_fraction: 1.090157169632843\n",
      "deferral_payments: 0.2246112747360099\n",
      "from_messages: 0.16970094762175533\n",
      "restricted_stock_deferred: 0.06549965290994214\n"
     ]
    }
   ],
   "source": [
    "X = data_df.fillna(value=0).select_dtypes(include=[np.number])\n",
    "y = data_df['poi']\n",
    "\n",
    "selector = SelectKBest(k=X.shape[1])\n",
    "selector.fit(X, y)\n",
    "\n",
    "features = X[selector.get_support(indices=True)].columns.values\n",
    "scores = selector.scores_\n",
    "score_list = sorted([(f, s) for f, s in zip(features, scores)], key=lambda tup: tup[1], reverse=True)\n",
    "\n",
    "for tup in score_list:\n",
    "    print(\"{}: {}\".format(tup[0], tup[1]))"
   ]
  },
  {
   "cell_type": "markdown",
   "metadata": {
    "hideCode": false,
    "hidePrompt": false
   },
   "source": [
    "For the rest of project we will focus on the ten features with the highest scores. Nine of these come from the financial data and only 'shared_receipt_with_poi' comes from the emails. Below, one can see the top five features visualized in a scatter matrix."
   ]
  },
  {
   "cell_type": "code",
   "execution_count": 20,
   "metadata": {
    "collapsed": false,
    "hideCode": false,
    "hidePrompt": false
   },
   "outputs": [
    {
     "data": {
      "image/png": "[encoded data removed]",
      "text/plain": [
       "<matplotlib.figure.Figure at 0x7fd8dc4e4cf8>"
      ]
     },
     "metadata": {},
     "output_type": "display_data"
    }
   ],
   "source": [
    "# create scatter matrix of the top 5 features\n",
    "top_5_features = [f for (f, s) in list(score_list)[:5]]\n",
    "\n",
    "# add 'poi' to include this feature in the plotting dataframe\n",
    "plot_features = top_5_features\n",
    "plot_features.append('poi')\n",
    "\n",
    "# create dataframe copy with the desired columns for plotting\n",
    "data_df_plot = data_df.loc[:, plot_features].fillna(value=0)\n",
    "\n",
    "# scale all features except for 'poi'\n",
    "scaler = MinMaxScaler()\n",
    "data_df_plot[top_5_features[:-1]] = scaler.fit_transform(data_df_plot[top_5_features[:-1]])\n",
    "\n",
    "# create 'label' feature as 'hue' input for sns.pairplot() \n",
    "data_df_plot['label'] = 0\n",
    "data_df_plot.loc[data_df_plot['poi'] == True, 'label'] = 'poi'\n",
    "data_df_plot.loc[data_df_plot['poi'] == False, 'label'] = 'non poi'\n",
    "\n",
    "# remove 'poi' feature\n",
    "data_df_plot.drop(['poi'], axis=1, inplace=True)\n",
    "\n",
    "# create pairplot\n",
    "fig = sns.pairplot(data_df_plot, hue=\"label\", diag_kind=\"hist\")  \n",
    "\n",
    "# format axes\n",
    "for i, axes in enumerate(fig.axes):\n",
    "    for j, ax in enumerate(axes):\n",
    "        ax.set(xlim=[-0.05, 1.05], ylim=[-0.05, 1.05])\n",
    "        ax.set_xticklabels([0, 1])\n",
    "        ax.set_xticks([0, 1])\n",
    "        ax.set_yticklabels([0, 1])\n",
    "        ax.set_yticks([0, 1])\n",
    "\n",
    "plt.show()"
   ]
  },
  {
   "cell_type": "markdown",
   "metadata": {
    "hideCode": false,
    "hidePrompt": false
   },
   "source": [
    "interpretation scatter matrix\n",
    "\n",
    "\n",
    "only use 'exercised_stock_options' or 'total_stock_value', strong correlation between these two features as expected\n",
    "\n",
    "deferred_income is negative -> most values around 1\n",
    "\n",
    "'loan_advances' contains only 3 non zero values \n",
    "\n",
    "\n",
    "replacement with 'expenses' and 'poi_email_fraction'"
   ]
  },
  {
   "cell_type": "code",
   "execution_count": 21,
   "metadata": {
    "collapsed": false,
    "hideCode": false,
    "hidePrompt": false
   },
   "outputs": [],
   "source": [
    "# store top 10 features in a list\n",
    "top_10_features = [f for (f, s) in list(score_list)[:10]]\n",
    "top_10_features.extend(['expenses', 'poi_email_fraction'])\n",
    "top_10_features = [i for i in top_10_features if i not in ['total_stock_value', 'loan_advances']]"
   ]
  },
  {
   "cell_type": "markdown",
   "metadata": {
    "deletable": true,
    "editable": true,
    "hideCode": false,
    "hidePrompt": false
   },
   "source": [
    "## Algorithm Selection\n",
    "\n",
    "\n",
    "Random Forest Classifer, Support Vector Machine & Logistic Regression\n",
    "\n",
    "`StratifiedShuffleSplit` because data is imbalanced and sensitive to input so we use kfold crossvalidation\n",
    "\n",
    "still very  sensitive results, vary strongly each run\n",
    "\n",
    "\n"
   ]
  },
  {
   "cell_type": "code",
   "execution_count": 36,
   "metadata": {
    "collapsed": false,
    "hideCode": false,
    "hidePrompt": false
   },
   "outputs": [
    {
     "name": "stdout",
     "output_type": "stream",
     "text": [
      "Classifier                Accuracy   Precision  Recall\n",
      "------------------------------------------------------\n",
      "Logistic Regression       0.89       0.6        0.12\n",
      "Gaussian Naive Bayes      0.84       0.42       0.38\n",
      "Support Vector Classifier 0.88       0.0        0.0\n",
      "KNeighbors Classifier     0.86       0.15       0.03\n",
      "Decision Tree Classifier  0.83       0.29       0.28\n",
      "Random Forest Classifier  0.86       0.22       0.08\n",
      "AdaBoost Classifier       0.82       0.25       0.2\n"
     ]
    }
   ],
   "source": [
    "# data wrangling\n",
    "X = data_df.loc[:, top_10_features]\n",
    "scaler = MinMaxScaler()\n",
    "X[top_10_features] = scaler.fit_transform(X[top_10_features].fillna(value=0))\n",
    "\n",
    "y = data_df['poi'].astype(int)\n",
    "\n",
    "# classifier names and objects    \n",
    "names = ['Logistic Regression', 'Gaussian Naive Bayes', 'Support Vector Classifier', 'KNeighbors Classifier', \n",
    "         'Decision Tree Classifier', 'Random Forest Classifier', 'AdaBoost Classifier']\n",
    "classifiers =[LogisticRegression(),\n",
    "              GaussianNB(),\n",
    "              SVC(),\n",
    "              KNeighborsClassifier(),\n",
    "              DecisionTreeClassifier(),\n",
    "              RandomForestClassifier(),\n",
    "              AdaBoostClassifier()]\n",
    "\n",
    "# dictionary to store results of all validation runs\n",
    "clf_results = {} \n",
    "for n in names:\n",
    "    clf_results[n] = {'accuracy': [], 'precision': [], 'recall': []}\n",
    "\n",
    "sss = StratifiedShuffleSplit(n_splits=10, test_size=0.33)\n",
    "\n",
    "for train_ixs, test_ixs in sss.split(X, y):\n",
    "    X_train, X_test = X.iloc[train_ixs], X.iloc[test_ixs]\n",
    "    y_train, y_test = y.iloc[train_ixs], y.iloc[test_ixs]\n",
    "    \n",
    "    for n, clf in zip(names, classifiers):      \n",
    "        clf.fit(X_train, y_train)\n",
    "        pred = clf.predict(X_test)\n",
    "            \n",
    "        accuracy = clf.score(X_test, y_test)\n",
    "        precision = precision_score(y_test, pred)\n",
    "        recall = recall_score(y_test, pred)\n",
    "        \n",
    "        clf_results[n]['accuracy'].append(accuracy)\n",
    "        clf_results[n]['precision'].append(precision)\n",
    "        clf_results[n]['recall'].append(recall)\n",
    "        \n",
    "print(\"{:<25} {:<10} {:<10} {}\".format(\"Classifier\", \"Accuracy\", \"Precision\", \"Recall\"))\n",
    "print(\"------------------------------------------------------\")\n",
    "for n in names:\n",
    "    accuracy = round(np.mean(clf_results[n]['accuracy']), 2)\n",
    "    precision = round(np.mean(clf_results[n]['precision']), 2)\n",
    "    recall = round(np.mean(clf_results[n]['recall']), 2)\n",
    "    \n",
    "    print(\"{:<25} {:<10} {:<10} {}\".format(n, accuracy, precision, recall))"
   ]
  },
  {
   "cell_type": "markdown",
   "metadata": {
    "deletable": true,
    "editable": true,
    "hideCode": false,
    "hidePrompt": false
   },
   "source": [
    "three different metrics, accuracy is generally high because of the imbalace in the data und thus all models predict a large amount of non-POI correctly. Precision... . Recall... .\n",
    "warning because classifier predicted no POI in the test set correctly"
   ]
  },
  {
   "cell_type": "markdown",
   "metadata": {
    "hideCode": false,
    "hidePrompt": false
   },
   "source": [
    "vary number of input features, from 1 to 10 based on feature selection ranking\n",
    "\n",
    "'Stratified"
   ]
  },
  {
   "cell_type": "code",
   "execution_count": 37,
   "metadata": {
    "collapsed": false,
    "hideCode": false,
    "hidePrompt": false
   },
   "outputs": [
    {
     "data": {
      "image/png": "[encoded data removed]",
      "text/plain": [
       "<matplotlib.figure.Figure at 0x7fd8dbf3add8>"
      ]
     },
     "metadata": {},
     "output_type": "display_data"
    }
   ],
   "source": [
    "# vary number of input features and cross-validate train/test sample sizes\n",
    "clf_results = {}   \n",
    "for n, clf in zip(names, classifiers):\n",
    "    clf_results[n] = {'accuracy': [], 'precision': [], 'recall': []}\n",
    "    \n",
    "    for i in range(1, len(top_10_features) + 1):\n",
    "        accuracies, precisions, recalls = [], [], []\n",
    "        features = top_10_features[:i]\n",
    "        skf = StratifiedKFold(n_splits=20, shuffle=True)\n",
    "        \n",
    "        for train_ixs, test_ixs in skf.split(X, y):\n",
    "            X_train, X_test = X.iloc[train_ixs], X.iloc[test_ixs]\n",
    "            y_train, y_test = y.iloc[train_ixs], y.iloc[test_ixs]\n",
    "\n",
    "            clf.fit(X_train, y_train)\n",
    "            pred = clf.predict(X_test)\n",
    "            \n",
    "            accuracy = clf.score(X_test, y_test)\n",
    "            precison = precision_score(y_test, pred)\n",
    "            recall = recall_score(y_test, pred)\n",
    "            \n",
    "            accuracies.append(accuracy)\n",
    "            precisions.append(precison)\n",
    "            recalls.append(recall)\n",
    "        \n",
    "        accuracy_cv = np.mean(accuracies)\n",
    "        precision_cv = np.mean(precisions)\n",
    "        recall_cv = np.mean(recalls)\n",
    "        \n",
    "        clf_results[n]['accuracy'].append(accuracy_cv)\n",
    "        clf_results[n]['precision'].append(precision_cv)\n",
    "        clf_results[n]['recall'].append(recall_cv)\n",
    "\n",
    "# visualize metrics for all algorithms\n",
    "fig, axs = plt.subplots(1, len(names), figsize=(15, 6))\n",
    "n_features = np.arange(1, len(top_10_features) + 1)\n",
    "\n",
    "for ax, title in zip(axs, names):\n",
    "    for m in clf_results[title].keys():\n",
    "        ax.plot(n_features, clf_results[title][m], label=m, marker='o', alpha=0.5)\n",
    "        ax.set(xlim=[0.5, 10.5], xticks=n_features, ylim=[0.0, 1.0])\n",
    "        ax.set_title(title, fontsize= 10)\n",
    "        ax.tick_params(axis='both', which='major', labelsize=8)\n",
    "\n",
    "plt.legend(loc='upper right', bbox_to_anchor=(1.9, 0.6))\n",
    "plt.show()"
   ]
  },
  {
   "cell_type": "code",
   "execution_count": 41,
   "metadata": {
    "collapsed": false
   },
   "outputs": [
    {
     "name": "stdout",
     "output_type": "stream",
     "text": [
      "{'Decision Tree Classifier': {'accuracy': {1: [0.75, 0.875, 0.8571428571428571, 0.75, 0.875, 0.8571428571428571, 1.0, 0.8571428571428571, 0.7142857142857143, 1.0, 0.8571428571428571, 0.5714285714285714, 0.8571428571428571, 1.0, 0.8571428571428571, 0.8571428571428571, 0.8571428571428571, 0.7142857142857143, 1.0, 1.0], 2: [0.75, 1.0, 0.75, 0.75, 0.75, 1.0, 0.7142857142857143, 0.7142857142857143, 0.5714285714285714, 1.0, 0.5714285714285714, 0.7142857142857143, 0.7142857142857143, 0.8571428571428571, 0.8571428571428571, 0.7142857142857143, 1.0, 0.8571428571428571, 1.0, 0.7142857142857143], 3: [0.875, 0.875, 0.875, 0.75, 0.875, 0.8571428571428571, 0.8571428571428571, 0.5714285714285714, 0.2857142857142857, 0.83333333333333337, 0.8571428571428571, 0.5714285714285714, 0.8571428571428571, 0.7142857142857143, 0.83333333333333337, 0.8571428571428571, 0.42857142857142855, 1.0, 0.8571428571428571, 0.8571428571428571], 4: [0.875, 0.875, 1.0, 0.875, 0.75, 1.0, 1.0, 0.8571428571428571, 0.7142857142857143, 0.5714285714285714, 0.7142857142857143, 0.8571428571428571, 0.8571428571428571, 0.42857142857142855, 0.8571428571428571, 0.8571428571428571, 0.8571428571428571, 0.8571428571428571, 0.7142857142857143, 0.7142857142857143], 5: [0.8571428571428571, 0.875, 0.875, 0.875, 0.875, 0.7142857142857143, 0.42857142857142855, 0.8571428571428571, 0.7142857142857143, 0.8571428571428571, 0.7142857142857143, 0.7142857142857143, 0.7142857142857143, 0.7142857142857143, 0.7142857142857143, 0.5714285714285714, 0.42857142857142855, 0.7142857142857143, 0.5714285714285714, 1.0], 6: [0.875, 0.75, 0.875, 0.875, 0.875, 0.7142857142857143, 0.8571428571428571, 0.7142857142857143, 0.7142857142857143, 0.8571428571428571, 0.5714285714285714, 0.7142857142857143, 0.8571428571428571, 0.7142857142857143, 0.8571428571428571, 1.0, 1.0, 0.7142857142857143, 0.8571428571428571, 1.0], 7: [0.625, 0.625, 0.75, 1.0, 0.875, 0.66666666666666663, 1.0, 0.7142857142857143, 0.7142857142857143, 1.0, 0.42857142857142855, 0.8571428571428571, 0.8571428571428571, 0.8571428571428571, 1.0, 0.8571428571428571, 0.8571428571428571, 0.8571428571428571, 0.7142857142857143, 0.8571428571428571], 8: [1.0, 0.875, 0.75, 0.875, 0.8571428571428571, 0.8571428571428571, 0.8571428571428571, 0.7142857142857143, 0.7142857142857143, 0.8571428571428571, 0.8571428571428571, 1.0, 1.0, 0.8571428571428571, 0.8571428571428571, 0.5714285714285714, 0.7142857142857143, 0.7142857142857143, 0.7142857142857143, 0.8571428571428571], 9: [0.75, 0.875, 0.75, 0.875, 0.75, 0.8571428571428571, 0.8571428571428571, 1.0, 1.0, 0.7142857142857143, 0.5714285714285714, 0.5714285714285714, 0.8571428571428571, 0.7142857142857143, 0.8571428571428571, 0.7142857142857143, 0.8571428571428571, 0.7142857142857143, 0.83333333333333337, 0.5714285714285714], 10: [1.0, 1.0, 0.75, 0.875, 0.875, 0.7142857142857143, 1.0, 1.0, 0.8571428571428571, 0.8571428571428571, 0.7142857142857143, 0.8571428571428571, 0.7142857142857143, 0.8571428571428571, 0.7142857142857143, 0.7142857142857143, 1.0, 0.5714285714285714, 0.66666666666666663, 0.8571428571428571]}, 'recall': {1: [], 2: [], 3: [], 4: [], 5: [], 6: [], 7: [], 8: [], 9: [], 10: []}, 'precision': {1: [], 2: [], 3: [], 4: [], 5: [], 6: [], 7: [], 8: [], 9: [], 10: []}}, 'KNeighbors Classifier': {'accuracy': {1: [0.875, 0.875, 1.0, 0.875, 0.875, 0.8571428571428571, 1.0, 0.8571428571428571, 0.8571428571428571, 1.0, 0.8571428571428571, 0.8571428571428571, 0.8571428571428571, 0.8571428571428571, 0.8571428571428571, 0.8571428571428571, 0.8571428571428571, 0.7142857142857143, 1.0, 0.8571428571428571], 2: [1.0, 1.0, 0.875, 0.875, 0.75, 0.83333333333333337, 0.8571428571428571, 0.8571428571428571, 0.5714285714285714, 1.0, 0.8571428571428571, 0.8571428571428571, 0.8571428571428571, 1.0, 1.0, 0.8571428571428571, 1.0, 0.8571428571428571, 0.8571428571428571, 1.0], 3: [0.875, 0.875, 0.875, 0.875, 0.875, 0.8571428571428571, 0.8571428571428571, 0.8571428571428571, 0.7142857142857143, 1.0, 0.8571428571428571, 0.8571428571428571, 0.8571428571428571, 0.8571428571428571, 1.0, 0.8571428571428571, 0.8571428571428571, 0.8571428571428571, 0.8571428571428571, 0.8571428571428571], 4: [0.875, 0.875, 0.875, 0.875, 0.875, 1.0, 1.0, 0.8571428571428571, 0.8571428571428571, 1.0, 0.8571428571428571, 0.8571428571428571, 0.8571428571428571, 0.5714285714285714, 0.8571428571428571, 0.8571428571428571, 0.8571428571428571, 0.8571428571428571, 0.8571428571428571, 0.8571428571428571], 5: [0.8571428571428571, 0.875, 0.875, 0.875, 0.875, 0.8571428571428571, 0.7142857142857143, 0.8571428571428571, 0.8571428571428571, 0.8571428571428571, 0.8571428571428571, 0.8571428571428571, 0.8571428571428571, 0.8571428571428571, 0.8571428571428571, 1.0, 0.7142857142857143, 0.8571428571428571, 0.8571428571428571, 1.0], 6: [0.875, 0.625, 0.875, 0.875, 0.875, 0.8571428571428571, 0.8571428571428571, 0.8571428571428571, 0.8571428571428571, 0.8571428571428571, 1.0, 0.8571428571428571, 0.8571428571428571, 0.8571428571428571, 0.8571428571428571, 1.0, 0.8571428571428571, 0.8571428571428571, 0.8571428571428571, 1.0], 7: [0.75, 0.75, 0.875, 1.0, 0.875, 1.0, 0.8571428571428571, 0.8571428571428571, 0.8571428571428571, 0.8571428571428571, 1.0, 0.8571428571428571, 0.8571428571428571, 0.8571428571428571, 0.8571428571428571, 0.8571428571428571, 0.8571428571428571, 0.8571428571428571, 0.8571428571428571, 0.8571428571428571], 8: [0.875, 0.875, 0.875, 0.875, 1.0, 0.8571428571428571, 0.8571428571428571, 0.7142857142857143, 0.7142857142857143, 0.8571428571428571, 0.5714285714285714, 0.8571428571428571, 1.0, 0.7142857142857143, 0.8571428571428571, 0.7142857142857143, 0.7142857142857143, 0.8571428571428571, 0.8571428571428571, 0.8571428571428571], 9: [0.75, 0.875, 0.875, 0.875, 0.875, 0.8571428571428571, 1.0, 0.8571428571428571, 1.0, 0.8571428571428571, 0.8571428571428571, 0.8571428571428571, 0.8571428571428571, 0.8571428571428571, 0.8571428571428571, 0.8571428571428571, 0.8571428571428571, 0.8571428571428571, 1.0, 0.7142857142857143], 10: [0.875, 1.0, 0.875, 0.875, 0.875, 0.8571428571428571, 0.8571428571428571, 0.8571428571428571, 0.8571428571428571, 0.8571428571428571, 0.8571428571428571, 0.8571428571428571, 0.8571428571428571, 0.8571428571428571, 0.8571428571428571, 0.8571428571428571, 0.8571428571428571, 0.8571428571428571, 0.83333333333333337, 0.8571428571428571]}, 'recall': {1: [], 2: [], 3: [], 4: [], 5: [], 6: [], 7: [], 8: [], 9: [], 10: []}, 'precision': {1: [], 2: [], 3: [], 4: [], 5: [], 6: [], 7: [], 8: [], 9: [], 10: []}}, 'Logistic Regression': {'accuracy': {1: [0.875, 0.875, 1.0, 0.875, 0.875, 0.8571428571428571, 1.0, 0.8571428571428571, 0.8571428571428571, 0.8571428571428571, 0.8571428571428571, 0.8571428571428571, 0.8571428571428571, 0.8571428571428571, 0.8571428571428571, 0.8571428571428571, 0.8571428571428571, 0.8571428571428571, 0.8571428571428571, 0.8571428571428571], 2: [0.875, 1.0, 0.875, 0.875, 0.875, 1.0, 0.8571428571428571, 0.8571428571428571, 0.8571428571428571, 0.8571428571428571, 0.8571428571428571, 0.8571428571428571, 0.8571428571428571, 1.0, 0.8571428571428571, 0.8571428571428571, 0.8571428571428571, 0.8571428571428571, 0.8571428571428571, 0.8571428571428571], 3: [0.875, 1.0, 0.875, 0.875, 0.875, 0.8571428571428571, 0.8571428571428571, 0.8571428571428571, 0.8571428571428571, 1.0, 0.8571428571428571, 0.8571428571428571, 0.8571428571428571, 0.8571428571428571, 1.0, 0.8571428571428571, 0.8571428571428571, 1.0, 0.8571428571428571, 0.8571428571428571], 4: [1.0, 0.875, 0.875, 0.875, 0.875, 1.0, 1.0, 0.8571428571428571, 0.8571428571428571, 0.8571428571428571, 0.8571428571428571, 0.8571428571428571, 0.8571428571428571, 0.7142857142857143, 0.8571428571428571, 0.8571428571428571, 0.8571428571428571, 0.8571428571428571, 1.0, 0.8571428571428571], 5: [0.8571428571428571, 1.0, 0.875, 0.875, 0.875, 0.8571428571428571, 0.8571428571428571, 0.8571428571428571, 0.8571428571428571, 0.8571428571428571, 0.8571428571428571, 0.8571428571428571, 0.8571428571428571, 0.8571428571428571, 0.8571428571428571, 0.8571428571428571, 0.8571428571428571, 1.0, 0.8571428571428571, 1.0], 6: [0.875, 0.875, 0.875, 0.875, 1.0, 0.8571428571428571, 0.8571428571428571, 0.8571428571428571, 0.8571428571428571, 0.8571428571428571, 0.8571428571428571, 0.8571428571428571, 0.8571428571428571, 0.8571428571428571, 0.8571428571428571, 1.0, 0.8571428571428571, 0.8571428571428571, 0.8571428571428571, 1.0], 7: [0.75, 0.875, 0.875, 1.0, 0.875, 1.0, 1.0, 0.8571428571428571, 0.8571428571428571, 1.0, 0.8571428571428571, 0.8571428571428571, 0.8571428571428571, 0.8571428571428571, 0.8571428571428571, 0.8571428571428571, 0.8571428571428571, 0.8571428571428571, 0.8571428571428571, 0.8571428571428571], 8: [1.0, 0.875, 0.875, 0.875, 1.0, 0.8571428571428571, 0.8571428571428571, 0.8571428571428571, 0.8571428571428571, 0.8571428571428571, 0.7142857142857143, 0.8571428571428571, 1.0, 1.0, 0.8571428571428571, 0.8571428571428571, 0.8571428571428571, 0.8571428571428571, 0.8571428571428571, 0.8571428571428571], 9: [0.875, 0.875, 0.875, 1.0, 0.875, 0.8571428571428571, 0.8571428571428571, 0.8571428571428571, 1.0, 0.8571428571428571, 0.7142857142857143, 0.8571428571428571, 0.8571428571428571, 0.8571428571428571, 0.8571428571428571, 0.8571428571428571, 1.0, 0.8571428571428571, 1.0, 0.8571428571428571], 10: [1.0, 1.0, 0.875, 1.0, 0.875, 0.7142857142857143, 0.8571428571428571, 0.8571428571428571, 0.8571428571428571, 0.8571428571428571, 0.8571428571428571, 0.8571428571428571, 0.8571428571428571, 0.8571428571428571, 0.8571428571428571, 0.8571428571428571, 0.8571428571428571, 0.8571428571428571, 1.0, 0.8571428571428571]}, 'recall': {1: [], 2: [], 3: [], 4: [], 5: [], 6: [], 7: [], 8: [], 9: [], 10: []}, 'precision': {1: [], 2: [], 3: [], 4: [], 5: [], 6: [], 7: [], 8: [], 9: [], 10: []}}, 'Random Forest Classifier': {'accuracy': {1: [0.75, 0.875, 1.0, 0.875, 0.875, 0.8571428571428571, 1.0, 0.8571428571428571, 0.7142857142857143, 1.0, 0.8571428571428571, 0.7142857142857143, 0.8571428571428571, 0.8571428571428571, 0.8571428571428571, 0.8571428571428571, 0.8571428571428571, 0.7142857142857143, 1.0, 1.0], 2: [1.0, 1.0, 0.875, 0.75, 0.75, 1.0, 0.8571428571428571, 0.8571428571428571, 0.5714285714285714, 1.0, 0.7142857142857143, 0.8571428571428571, 0.7142857142857143, 1.0, 1.0, 0.8571428571428571, 1.0, 0.7142857142857143, 1.0, 0.8571428571428571], 3: [0.875, 1.0, 0.875, 1.0, 1.0, 0.8571428571428571, 0.8571428571428571, 0.8571428571428571, 0.7142857142857143, 1.0, 1.0, 0.7142857142857143, 0.8571428571428571, 0.8571428571428571, 1.0, 0.8571428571428571, 0.8571428571428571, 0.8571428571428571, 0.8571428571428571, 0.8571428571428571], 4: [1.0, 0.875, 0.875, 0.75, 1.0, 1.0, 1.0, 0.8571428571428571, 0.8571428571428571, 0.8571428571428571, 0.7142857142857143, 0.8571428571428571, 0.8571428571428571, 0.5714285714285714, 0.8571428571428571, 0.8571428571428571, 0.8571428571428571, 0.8571428571428571, 1.0, 0.7142857142857143], 5: [0.8571428571428571, 1.0, 0.875, 0.875, 0.875, 0.8571428571428571, 0.8571428571428571, 1.0, 0.8571428571428571, 0.8571428571428571, 0.8571428571428571, 0.8571428571428571, 0.8571428571428571, 0.8571428571428571, 0.8571428571428571, 0.8571428571428571, 0.7142857142857143, 1.0, 0.8571428571428571, 1.0], 6: [0.875, 0.75, 0.875, 0.875, 0.875, 0.8571428571428571, 1.0, 0.7142857142857143, 0.7142857142857143, 0.8571428571428571, 0.8571428571428571, 0.8571428571428571, 1.0, 0.7142857142857143, 0.8571428571428571, 0.83333333333333337, 0.8571428571428571, 0.8571428571428571, 0.8571428571428571, 1.0], 7: [0.625, 0.75, 0.875, 1.0, 0.875, 1.0, 0.8571428571428571, 0.8571428571428571, 0.8571428571428571, 0.8571428571428571, 1.0, 0.8571428571428571, 0.8571428571428571, 0.8571428571428571, 0.8571428571428571, 0.8571428571428571, 1.0, 0.8571428571428571, 0.8571428571428571, 0.8571428571428571], 8: [1.0, 0.875, 0.875, 0.875, 1.0, 0.8571428571428571, 0.8571428571428571, 0.8571428571428571, 0.8571428571428571, 1.0, 0.7142857142857143, 0.8571428571428571, 1.0, 0.8571428571428571, 0.8571428571428571, 0.8571428571428571, 0.8571428571428571, 0.8571428571428571, 0.8571428571428571, 0.8571428571428571], 9: [0.75, 0.875, 0.875, 1.0, 0.875, 0.8571428571428571, 0.8571428571428571, 1.0, 1.0, 0.8571428571428571, 0.7142857142857143, 0.7142857142857143, 0.8571428571428571, 0.8571428571428571, 0.8571428571428571, 0.8571428571428571, 1.0, 0.8571428571428571, 1.0, 0.8571428571428571], 10: [0.875, 1.0, 0.875, 1.0, 0.875, 0.7142857142857143, 0.8571428571428571, 0.8571428571428571, 0.8571428571428571, 0.8571428571428571, 0.8571428571428571, 0.8571428571428571, 0.8571428571428571, 0.8571428571428571, 0.8571428571428571, 0.8571428571428571, 0.8571428571428571, 0.7142857142857143, 1.0, 0.8571428571428571]}, 'recall': {1: [], 2: [], 3: [], 4: [], 5: [], 6: [], 7: [], 8: [], 9: [], 10: []}, 'precision': {1: [], 2: [], 3: [], 4: [], 5: [], 6: [], 7: [], 8: [], 9: [], 10: []}}, 'AdaBoost Classifier': {'accuracy': {1: [0.875, 0.875, 0.8571428571428571, 0.875, 0.875, 0.8571428571428571, 1.0, 0.8571428571428571, 0.7142857142857143, 1.0, 0.8571428571428571, 0.8571428571428571, 0.8571428571428571, 1.0, 0.8571428571428571, 0.8571428571428571, 0.8571428571428571, 0.7142857142857143, 1.0, 1.0], 2: [0.875, 1.0, 0.75, 0.75, 0.875, 1.0, 0.7142857142857143, 0.8571428571428571, 0.5714285714285714, 1.0, 0.8571428571428571, 0.8571428571428571, 0.5714285714285714, 0.8571428571428571, 0.8571428571428571, 0.7142857142857143, 1.0, 0.8571428571428571, 1.0, 0.8571428571428571], 3: [0.875, 0.75, 0.75, 1.0, 1.0, 0.8571428571428571, 0.8571428571428571, 0.8571428571428571, 0.5714285714285714, 0.83333333333333337, 0.8571428571428571, 0.5714285714285714, 0.8571428571428571, 0.7142857142857143, 1.0, 0.8571428571428571, 0.8571428571428571, 0.8571428571428571, 0.7142857142857143, 1.0], 4: [1.0, 0.875, 0.625, 0.875, 0.875, 1.0, 1.0, 1.0, 0.8571428571428571, 0.7142857142857143, 0.7142857142857143, 0.8571428571428571, 0.7142857142857143, 0.42857142857142855, 1.0, 0.7142857142857143, 0.8571428571428571, 0.8571428571428571, 0.8571428571428571, 0.7142857142857143], 5: [0.8571428571428571, 1.0, 1.0, 0.875, 0.875, 0.8571428571428571, 0.7142857142857143, 0.7142857142857143, 0.8571428571428571, 0.8571428571428571, 0.8571428571428571, 0.7142857142857143, 0.7142857142857143, 0.7142857142857143, 0.8571428571428571, 0.8571428571428571, 0.7142857142857143, 1.0, 0.7142857142857143, 1.0], 6: [0.875, 0.875, 0.875, 1.0, 0.875, 0.8571428571428571, 0.7142857142857143, 0.8571428571428571, 0.7142857142857143, 0.8571428571428571, 1.0, 0.7142857142857143, 0.8571428571428571, 0.7142857142857143, 0.8571428571428571, 1.0, 0.8571428571428571, 0.7142857142857143, 0.8571428571428571, 1.0], 7: [0.75, 0.75, 0.875, 1.0, 0.875, 1.0, 1.0, 0.5714285714285714, 0.8571428571428571, 1.0, 0.5714285714285714, 0.8571428571428571, 0.8571428571428571, 0.8571428571428571, 0.8571428571428571, 0.8571428571428571, 0.8571428571428571, 0.8571428571428571, 0.8571428571428571, 1.0], 8: [1.0, 0.75, 0.875, 1.0, 1.0, 0.8571428571428571, 1.0, 0.7142857142857143, 0.7142857142857143, 1.0, 0.8571428571428571, 0.7142857142857143, 1.0, 0.8571428571428571, 0.8571428571428571, 0.5714285714285714, 0.7142857142857143, 0.7142857142857143, 0.8571428571428571, 0.7142857142857143], 9: [0.875, 0.75, 0.75, 1.0, 0.875, 1.0, 0.8571428571428571, 0.8571428571428571, 1.0, 0.7142857142857143, 0.5714285714285714, 0.7142857142857143, 1.0, 0.8571428571428571, 1.0, 0.8571428571428571, 1.0, 0.8571428571428571, 1.0, 0.5714285714285714], 10: [0.875, 0.8571428571428571, 0.875, 1.0, 1.0, 0.5714285714285714, 0.7142857142857143, 0.8571428571428571, 0.8571428571428571, 0.7142857142857143, 0.7142857142857143, 0.8571428571428571, 0.8571428571428571, 0.8571428571428571, 0.8571428571428571, 0.7142857142857143, 0.8571428571428571, 0.8571428571428571, 0.83333333333333337, 0.8571428571428571]}, 'recall': {1: [], 2: [], 3: [], 4: [], 5: [], 6: [], 7: [], 8: [], 9: [], 10: []}, 'precision': {1: [], 2: [], 3: [], 4: [], 5: [], 6: [], 7: [], 8: [], 9: [], 10: []}}, 'Gaussian Naive Bayes': {'accuracy': {1: [0.875, 0.875, 0.8571428571428571, 0.875, 0.875, 0.8571428571428571, 1.0, 0.8571428571428571, 0.7142857142857143, 1.0, 0.8571428571428571, 0.8571428571428571, 0.8571428571428571, 1.0, 0.7142857142857143, 0.8571428571428571, 0.8571428571428571, 0.7142857142857143, 1.0, 1.0], 2: [0.875, 1.0, 0.875, 0.875, 0.875, 1.0, 0.8571428571428571, 0.8571428571428571, 0.8571428571428571, 1.0, 0.8571428571428571, 0.8571428571428571, 0.5714285714285714, 1.0, 0.8571428571428571, 0.7142857142857143, 0.8571428571428571, 0.8571428571428571, 1.0, 0.7142857142857143], 3: [0.875, 1.0, 0.875, 0.75, 1.0, 0.7142857142857143, 0.8571428571428571, 0.7142857142857143, 0.8571428571428571, 0.83333333333333337, 0.8571428571428571, 0.8571428571428571, 1.0, 0.8571428571428571, 0.83333333333333337, 0.8571428571428571, 0.8571428571428571, 0.8571428571428571, 0.7142857142857143, 1.0], 4: [1.0, 0.875, 0.75, 0.875, 1.0, 1.0, 1.0, 1.0, 1.0, 1.0, 0.7142857142857143, 0.8571428571428571, 0.8571428571428571, 0.5714285714285714, 0.8571428571428571, 0.8571428571428571, 0.8571428571428571, 0.7142857142857143, 1.0, 0.7142857142857143], 5: [0.8571428571428571, 0.75, 1.0, 0.875, 0.875, 0.8571428571428571, 0.7142857142857143, 1.0, 0.8571428571428571, 0.8571428571428571, 0.7142857142857143, 0.8571428571428571, 0.8571428571428571, 0.8571428571428571, 0.8571428571428571, 0.8571428571428571, 0.7142857142857143, 1.0, 0.8571428571428571, 1.0], 6: [0.875, 0.75, 0.75, 0.875, 1.0, 0.8571428571428571, 0.8571428571428571, 0.8571428571428571, 0.8571428571428571, 0.8571428571428571, 1.0, 0.8571428571428571, 1.0, 0.7142857142857143, 0.8571428571428571, 0.83333333333333337, 0.8571428571428571, 1.0, 0.7142857142857143, 1.0], 7: [0.625, 0.875, 0.75, 1.0, 0.875, 0.83333333333333337, 0.8571428571428571, 0.8571428571428571, 0.7142857142857143, 1.0, 0.7142857142857143, 0.8571428571428571, 0.8571428571428571, 0.8571428571428571, 0.8571428571428571, 0.8571428571428571, 0.8571428571428571, 0.8571428571428571, 0.8571428571428571, 1.0], 8: [0.875, 0.75, 0.875, 1.0, 1.0, 1.0, 0.8571428571428571, 0.8571428571428571, 0.8571428571428571, 1.0, 0.8571428571428571, 0.8571428571428571, 1.0, 1.0, 0.7142857142857143, 0.5714285714285714, 0.7142857142857143, 0.7142857142857143, 0.7142857142857143, 0.5714285714285714], 9: [0.875, 0.875, 0.75, 1.0, 0.875, 1.0, 0.8571428571428571, 0.8571428571428571, 1.0, 0.7142857142857143, 0.8571428571428571, 0.7142857142857143, 0.8571428571428571, 0.7142857142857143, 1.0, 0.8571428571428571, 0.8571428571428571, 0.8571428571428571, 0.66666666666666663, 0.5714285714285714], 10: [0.875, 1.0, 0.875, 0.875, 0.75, 0.7142857142857143, 0.8571428571428571, 0.7142857142857143, 0.8571428571428571, 0.7142857142857143, 0.8571428571428571, 1.0, 1.0, 1.0, 0.8571428571428571, 0.8571428571428571, 0.8571428571428571, 0.7142857142857143, 0.66666666666666663, 0.8571428571428571]}, 'recall': {1: [], 2: [], 3: [], 4: [], 5: [], 6: [], 7: [], 8: [], 9: [], 10: []}, 'precision': {1: [], 2: [], 3: [], 4: [], 5: [], 6: [], 7: [], 8: [], 9: [], 10: []}}, 'Support Vector Classifier': {'accuracy': {1: [0.875, 0.875, 1.0, 0.875, 0.875, 0.8571428571428571, 1.0, 0.8571428571428571, 0.8571428571428571, 0.8571428571428571, 0.8571428571428571, 0.8571428571428571, 0.8571428571428571, 0.8571428571428571, 0.8571428571428571, 0.8571428571428571, 0.8571428571428571, 0.8571428571428571, 0.8571428571428571, 0.8571428571428571], 2: [0.875, 1.0, 0.875, 0.875, 0.875, 1.0, 0.8571428571428571, 0.8571428571428571, 0.8571428571428571, 0.8571428571428571, 0.8571428571428571, 0.8571428571428571, 0.8571428571428571, 0.8571428571428571, 0.8571428571428571, 0.8571428571428571, 0.8571428571428571, 0.8571428571428571, 0.8571428571428571, 0.8571428571428571], 3: [0.875, 0.875, 0.875, 0.875, 0.875, 0.8571428571428571, 0.8571428571428571, 0.8571428571428571, 0.8571428571428571, 1.0, 0.8571428571428571, 0.8571428571428571, 0.8571428571428571, 0.8571428571428571, 1.0, 0.8571428571428571, 0.8571428571428571, 0.8571428571428571, 0.8571428571428571, 0.8571428571428571], 4: [0.875, 0.875, 0.875, 0.875, 0.875, 1.0, 1.0, 0.8571428571428571, 0.8571428571428571, 0.8571428571428571, 0.8571428571428571, 0.8571428571428571, 0.8571428571428571, 0.8571428571428571, 0.8571428571428571, 0.8571428571428571, 0.8571428571428571, 0.8571428571428571, 0.8571428571428571, 0.8571428571428571], 5: [1.0, 0.875, 0.875, 0.875, 0.875, 0.8571428571428571, 0.8571428571428571, 0.8571428571428571, 0.8571428571428571, 0.8571428571428571, 0.8571428571428571, 0.8571428571428571, 0.8571428571428571, 0.8571428571428571, 0.8571428571428571, 0.8571428571428571, 0.8571428571428571, 0.8571428571428571, 0.8571428571428571, 1.0], 6: [0.875, 0.875, 0.875, 0.875, 0.875, 0.8571428571428571, 0.8571428571428571, 0.8571428571428571, 0.8571428571428571, 0.8571428571428571, 0.8571428571428571, 0.8571428571428571, 0.8571428571428571, 0.8571428571428571, 0.8571428571428571, 1.0, 0.8571428571428571, 0.8571428571428571, 0.8571428571428571, 1.0], 7: [0.875, 0.875, 0.875, 1.0, 0.875, 1.0, 0.8571428571428571, 0.8571428571428571, 0.8571428571428571, 0.8571428571428571, 0.8571428571428571, 0.8571428571428571, 0.8571428571428571, 0.8571428571428571, 0.8571428571428571, 0.8571428571428571, 0.8571428571428571, 0.8571428571428571, 0.8571428571428571, 0.8571428571428571], 8: [0.875, 0.875, 0.875, 0.875, 1.0, 0.8571428571428571, 0.8571428571428571, 0.8571428571428571, 0.8571428571428571, 0.8571428571428571, 0.8571428571428571, 0.8571428571428571, 1.0, 0.8571428571428571, 0.8571428571428571, 0.8571428571428571, 0.8571428571428571, 0.8571428571428571, 0.8571428571428571, 0.8571428571428571], 9: [0.875, 0.875, 0.875, 0.875, 0.875, 0.8571428571428571, 0.8571428571428571, 0.8571428571428571, 1.0, 0.8571428571428571, 0.8571428571428571, 0.8571428571428571, 0.8571428571428571, 0.8571428571428571, 0.8571428571428571, 0.8571428571428571, 0.8571428571428571, 0.8571428571428571, 1.0, 0.8571428571428571], 10: [0.875, 1.0, 0.875, 0.875, 0.875, 0.8571428571428571, 0.8571428571428571, 0.8571428571428571, 0.8571428571428571, 0.8571428571428571, 0.8571428571428571, 0.8571428571428571, 0.8571428571428571, 0.8571428571428571, 0.8571428571428571, 0.8571428571428571, 0.8571428571428571, 0.8571428571428571, 1.0, 0.8571428571428571]}, 'recall': {1: [], 2: [], 3: [], 4: [], 5: [], 6: [], 7: [], 8: [], 9: [], 10: []}, 'precision': {1: [], 2: [], 3: [], 4: [], 5: [], 6: [], 7: [], 8: [], 9: [], 10: []}}}\n"
     ]
    },
    {
     "data": {
      "text/plain": [
       "\"\\n# visualize metrics for all algorithms\\nfig, axs = plt.subplots(1, len(names), figsize=(15, 6))\\nn_features = np.arange(1, len(top_10_features) + 1)\\n\\nfor ax, title in zip(axs, names):\\n    for m in clf_results[title].keys():\\n        ax.plot(n_features, clf_results[title][m], label=m, marker='o', alpha=0.5)\\n        ax.set(xlim=[0.5, 10.5], xticks=n_features, ylim=[0.0, 1.0])\\n        ax.set_title(title, fontsize= 10)\\n        ax.tick_params(axis='both', which='major', labelsize=8)\\n\\nplt.legend(loc='upper right', bbox_to_anchor=(1.9, 0.6))\\nplt.show()\\n\""
      ]
     },
     "execution_count": 41,
     "metadata": {},
     "output_type": "execute_result"
    }
   ],
   "source": [
    "\n",
    "\"\"\"\n",
    "# vary number of input features and cross-validate train/test sample sizes\n",
    "clf_results = {}   \n",
    "for n, clf in zip(names, classifiers):\n",
    "    clf_results[n] = {'accuracy': [], 'precision': [], 'recall': []}\n",
    "    \n",
    "    for i in range(1, len(top_10_features) + 1):\n",
    "        accuracies, precisions, recalls = [], [], []\n",
    "        features = top_10_features[:i]\n",
    "        skf = StratifiedKFold(n_splits=20, shuffle=True)\n",
    "        \n",
    "        for train_ixs, test_ixs in skf.split(X, y):\n",
    "            X_train, X_test = X.iloc[train_ixs], X.iloc[test_ixs]\n",
    "            y_train, y_test = y.iloc[train_ixs], y.iloc[test_ixs]\n",
    "\n",
    "            clf.fit(X_train, y_train)\n",
    "            pred = clf.predict(X_test)\n",
    "            \n",
    "            accuracy = clf.score(X_test, y_test)\n",
    "            precison = precision_score(y_test, pred)\n",
    "            recall = recall_score(y_test, pred)\n",
    "            \n",
    "            accuracies.append(accuracy)\n",
    "            precisions.append(precison)\n",
    "            recalls.append(recall)\n",
    "        \n",
    "        accuracy_cv = np.mean(accuracies)\n",
    "        precision_cv = np.mean(precisions)\n",
    "        recall_cv = np.mean(recalls)\n",
    "        \n",
    "        clf_results[n]['accuracy'].append(accuracy_cv)\n",
    "        clf_results[n]['precision'].append(precision_cv)\n",
    "        clf_results[n]['recall'].append(recall_cv)\n",
    "\n",
    "\"\"\"\n",
    "clf_results = {} \n",
    "for n in names:\n",
    "    clf_results[n] = {'accuracy': {}, 'precision': {}, 'recall': {}}\n",
    "    \n",
    "for key, vals in clf_results.items():\n",
    "    for val in vals.keys():\n",
    "        for i in range(1, len(top_10_features) + 1):\n",
    "            clf_results[key][val][i] = []\n",
    "        \n",
    "for i in range(1, len(top_10_features) + 1):\n",
    "    features = top_10_features[:i]\n",
    "    X_i = X.loc[:, features]\n",
    "    \n",
    "    skf = StratifiedKFold(n_splits=20, shuffle=True)\n",
    "    for train_ixs, test_ixs in skf.split(X, y):\n",
    "        X_train, X_test = X_i.iloc[train_ixs], X_i.iloc[test_ixs]\n",
    "        y_train, y_test = y.iloc[train_ixs], y.iloc[test_ixs]\n",
    "        \n",
    "        \n",
    "        accuracies, precisions, recalls = [], [], []\n",
    "        for n, clf in zip(names, classifiers):\n",
    "            clf.fit(X_train, y_train)\n",
    "            pred = clf.predict(X_test)\n",
    "            \n",
    "            accuracy = clf.score(X_test, y_test)\n",
    "            precison = precision_score(y_test, pred)\n",
    "            recall = recall_score(y_test, pred)\n",
    "            \n",
    "            clf_results[n]['accuracy'][i].append(accuracy)\n",
    "\n",
    "print(clf_results)\n",
    "\"\"\"\n",
    "# visualize metrics for all algorithms\n",
    "fig, axs = plt.subplots(1, len(names), figsize=(15, 6))\n",
    "n_features = np.arange(1, len(top_10_features) + 1)\n",
    "\n",
    "for ax, title in zip(axs, names):\n",
    "    for m in clf_results[title].keys():\n",
    "        ax.plot(n_features, clf_results[title][m], label=m, marker='o', alpha=0.5)\n",
    "        ax.set(xlim=[0.5, 10.5], xticks=n_features, ylim=[0.0, 1.0])\n",
    "        ax.set_title(title, fontsize= 10)\n",
    "        ax.tick_params(axis='both', which='major', labelsize=8)\n",
    "\n",
    "plt.legend(loc='upper right', bbox_to_anchor=(1.9, 0.6))\n",
    "plt.show()\n",
    "\"\"\""
   ]
  },
  {
   "cell_type": "markdown",
   "metadata": {
    "hideCode": false,
    "hidePrompt": false
   },
   "source": [
    "GaussianNB, Decision Tree, Random Forest and AdaBoost seem to perform the best, focus on these four for the remaining analysis, no major influence of feature number on performance visible, stick with top 10\n",
    "\n",
    "GridSeachCV for parameter optimization\n",
    "\n",
    "GaussianNB: -\n",
    "\n",
    "\n",
    "Decision Tree: criterion -> 'gini', 'entropy', min_samples_split -> 2, 5, 10\n",
    "\n",
    "\n",
    "Random Forest: n_estimators -> 5, 10, 15, 20, criterion -> 'gini', 'entropy', min_samples_split -> 2, 5, 10\n",
    "\n",
    "\n",
    "AdaBoost: n_estimators -> 20, 50, 100\n",
    "\n"
   ]
  },
  {
   "cell_type": "code",
   "execution_count": null,
   "metadata": {
    "collapsed": true,
    "hideCode": false,
    "hideOutput": true,
    "hidePrompt": false
   },
   "outputs": [],
   "source": [
    "# remove SVC and KNeighbors from classifier lists\n",
    "names = [n for n in names if n not in ['Logistic Regression', 'Support Vector Classifier', 'KNeighbors Classifier']]\n",
    "\n",
    "ixs = [0, 2, 3]\n",
    "for ix in sorted(ixs, reverse=True):\n",
    "    del classifiers[ix]"
   ]
  },
  {
   "cell_type": "code",
   "execution_count": null,
   "metadata": {
    "collapsed": true,
    "hideCode": false,
    "hidePrompt": false
   },
   "outputs": [],
   "source": [
    "parameters = [{}, # GaussianNB has no parameters\n",
    "              {'criterion': ['gini', 'entropy'], 'min_samples_split': {2, 5, 10}},\n",
    "              {'n_estimators': [5, 10, 15, 20], 'criterion': ['gini', 'entropy'], 'min_samples_split': {2, 5, 10}},\n",
    "              {'n_estimators' {20, 50, 100}}]\n",
    "\n",
    "for n, clf in zip(names, classifiers):\n",
    "clf = GridSearchCV(SVC(C=1), tuned_parameters, cv=5,\n",
    "                       scoring='%s_macro' % score)\n"
   ]
  },
  {
   "cell_type": "markdown",
   "metadata": {
    "hideCode": false,
    "hidePrompt": false
   },
   "source": [
    "## Validation and Evaluation"
   ]
  },
  {
   "cell_type": "markdown",
   "metadata": {
    "deletable": true,
    "editable": true,
    "hideCode": false,
    "hidePrompt": false
   },
   "source": [
    "## Conclusion\n",
    "\n",
    "best model...\n"
   ]
  },
  {
   "cell_type": "markdown",
   "metadata": {
    "deletable": true,
    "editable": true,
    "hideCode": false,
    "hidePrompt": false
   },
   "source": []
  },
  {
   "cell_type": "markdown",
   "metadata": {
    "deletable": true,
    "editable": true,
    "hideCode": false,
    "hidePrompt": false
   },
   "source": [
    "## Find new features in emails.....??"
   ]
  },
  {
   "cell_type": "code",
   "execution_count": null,
   "metadata": {
    "collapsed": false,
    "deletable": true,
    "editable": true,
    "hideCode": false,
    "hidePrompt": false
   },
   "outputs": [],
   "source": [
    "def get_email_from_filename(filename, start, end):\n",
    "    \"\"\"\n",
    "    \n",
    "    \"\"\"\n",
    "    email_address = \"\"\n",
    "    \n",
    "    m = re.search(\"{}(.*){}\".format(start, end), filename)\n",
    "    if m:\n",
    "        email_address = m.group(1)\n",
    "    \n",
    "    return email_address\n",
    "\n",
    "def get_path_from_fileline():\n",
    "    pass\n",
    "\n",
    "data_df[(data_df['poi'] == True)][['name', 'from_messages']]"
   ]
  },
  {
   "cell_type": "code",
   "execution_count": null,
   "metadata": {
    "collapsed": false,
    "deletable": true,
    "editable": true,
    "hideCode": false,
    "hidePrompt": false
   },
   "outputs": [],
   "source": [
    "dir_path = \"./emails_by_address/\"\n",
    "\n",
    "#from_poi_deleted_dict = {}\n",
    "\n",
    "for filename in os.listdir(dir_path):\n",
    "    # only check files with emails to that address\n",
    "    if filename.startswith(\"to_\"):\n",
    "        # extract email from filename   \n",
    "        email = get_email_from_filename(filename, \"to\\_\", \"\\.txt\")\n",
    "        \n",
    "        #from_poi_deleted_dict[email] = 0\n",
    "        \n",
    "        with open(os.path.join(dir_path, filename), 'r') as file:\n",
    "            \n",
    "            # loop trough lines in the file\n",
    "            for line in file:\n",
    "                path = line\n",
    "                \n",
    "                with open() as email:\n",
    "                    \n",
    "                \n",
    "                \"\"\"\n",
    "                print(sender)\n",
    "                folder = get_folder_from_fileline(line)\n",
    "                \n",
    "                if sender in poi_list and folder == \"deleted_items\":\n",
    "                    from_poi_deleted_dict[email] += 1\n",
    "\n",
    "\"\"\"\n",
    "            \n",
    "    "
   ]
  },
  {
   "cell_type": "markdown",
   "metadata": {
    "deletable": true,
    "editable": true,
    "hideCode": false,
    "hidePrompt": false
   },
   "source": [
    "\n"
   ]
  },
  {
   "cell_type": "markdown",
   "metadata": {
    "deletable": true,
    "editable": true,
    "hideCode": false,
    "hidePrompt": false
   },
   "source": [
    "\n"
   ]
  },
  {
   "cell_type": "markdown",
   "metadata": {
    "deletable": true,
    "editable": true,
    "hideCode": false,
    "hidePrompt": false
   },
   "source": []
  }
 ],
 "metadata": {
  "celltoolbar": "Hide code",
  "hide_code_all_hidden": false,
  "kernelspec": {
   "display_name": "Python 3",
   "language": "python",
   "name": "python3"
  },
  "language_info": {
   "codemirror_mode": {
    "name": "ipython",
    "version": 3
   },
   "file_extension": ".py",
   "mimetype": "text/x-python",
   "name": "python",
   "nbconvert_exporter": "python",
   "pygments_lexer": "ipython3",
   "version": "3.5.2"
  }
 },
 "nbformat": 4,
 "nbformat_minor": 0
}
