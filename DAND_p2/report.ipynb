{
 "cells": [
  {
   "cell_type": "markdown",
   "metadata": {},
   "source": [
    "# Analysis of Titanic Survival Data"
   ]
  },
  {
   "cell_type": "markdown",
   "metadata": {},
   "source": [
    "## Introduction\n",
    "\n",
    "The Titanic sank on April 15, 1912 during her maiden voyage. After colliding with an iceberg, 1502 of its 2224 passengers died. The data set investigated in the following sections contains detailed information about 891 passengers.\n",
    "\n",
    "\n",
    "### Feature description\n",
    "\n",
    "The data set contains the following parameters for each individual passenger:\n",
    "\n",
    "| Variable\t  | Definition\t                             | Key                                            |\n",
    "|-------------|------------------------------------------|------------------------------------------------|\n",
    "| PassengerID | Unique passenger ID                      | -                                              |                           \n",
    "| Survived\t  | Survival\t                             | 0 = No, 1 = Yes                                |\n",
    "| Pclass\t  | Ticket class\t                         | 1 = 1st, 2 = 2nd, 3 = 3rd                      |\n",
    "| Name        | Passenger name                           | -                                              |\n",
    "| Sex\t      | Sex                                      | male <br> female                               |\n",
    "| Age\t      | Age in years\t                         | -                                              |\n",
    "| SibSp       | # of siblings/spouses aboard the Titanic | -                                              |\n",
    "| ParCh       | # of parents/children aboard the Titanic | -                                              |\n",
    "| Ticket      | Ticket number                            | -                                              |\n",
    "| Fare\t      | Passenger fare                           | -                                              |\t\n",
    "| Cabin\t      | Cabin number                             | -                                              |\t\n",
    "| Embarked\t  | Port of Embarkation                      | C = Cherbourg, Q = Queenstown, S = Southampton |\n",
    "\n",
    "Both, categorical (variable that can take on one of a limited number of possible values) and numerical (continuous variable) features are present in the data set.\n",
    "\n",
    "### Questions to answer\n",
    "\n",
    "While luck might have been a large factor in the survival of some passengers, I would expect some passenger groups to have higher survival rates than others. The goal of this project is to answer the following questions:\n",
    "\n",
    "* Which features influenced passenger survival the most?\n",
    "\n",
    "* Are the survival rates of women, children and the upper-class higher than those of other groups?"
   ]
  },
  {
   "cell_type": "markdown",
   "metadata": {},
   "source": [
    "## Data wrangling\n",
    "\n",
    "First, I import all the Python packages required for the data analysis process. Pandas and Numpy are used for data handling and vectorized computations. The re module will be used for some pattern matching later on. Some of the results obtained will be visualized using Matplotlib and Seaborn. The magic jupyter command allows to display graphs within the notebook itself."
   ]
  },
  {
   "cell_type": "code",
   "execution_count": 1,
   "metadata": {
    "collapsed": true
   },
   "outputs": [],
   "source": [
    "# data analysis and wrangling\n",
    "import numpy as np\n",
    "import pandas as pd\n",
    "import re\n",
    "\n",
    "# visualization\n",
    "import matplotlib.pyplot as plt\n",
    "%matplotlib inline\n",
    "import seaborn as sns"
   ]
  },
  {
   "cell_type": "markdown",
   "metadata": {},
   "source": [
    "The `read_csv()` function loads the data into a Pandas DataFrame. To get a first a look at the data table, the first five lines are printed out."
   ]
  },
  {
   "cell_type": "code",
   "execution_count": 2,
   "metadata": {
    "collapsed": false
   },
   "outputs": [
    {
     "data": {
      "text/html": [
       "<div>\n",
       "<table border=\"1\" class=\"dataframe\">\n",
       "  <thead>\n",
       "    <tr style=\"text-align: right;\">\n",
       "      <th></th>\n",
       "      <th>PassengerId</th>\n",
       "      <th>Survived</th>\n",
       "      <th>Pclass</th>\n",
       "      <th>Name</th>\n",
       "      <th>Sex</th>\n",
       "      <th>Age</th>\n",
       "      <th>SibSp</th>\n",
       "      <th>ParCh</th>\n",
       "      <th>Ticket</th>\n",
       "      <th>Fare</th>\n",
       "      <th>Cabin</th>\n",
       "      <th>Embarked</th>\n",
       "    </tr>\n",
       "  </thead>\n",
       "  <tbody>\n",
       "    <tr>\n",
       "      <th>0</th>\n",
       "      <td>1</td>\n",
       "      <td>0</td>\n",
       "      <td>3</td>\n",
       "      <td>Braund, Mr. Owen Harris</td>\n",
       "      <td>male</td>\n",
       "      <td>22.0</td>\n",
       "      <td>1</td>\n",
       "      <td>0</td>\n",
       "      <td>A/5 21171</td>\n",
       "      <td>7.2500</td>\n",
       "      <td>NaN</td>\n",
       "      <td>S</td>\n",
       "    </tr>\n",
       "    <tr>\n",
       "      <th>1</th>\n",
       "      <td>2</td>\n",
       "      <td>1</td>\n",
       "      <td>1</td>\n",
       "      <td>Cumings, Mrs. John Bradley (Florence Briggs Th...</td>\n",
       "      <td>female</td>\n",
       "      <td>38.0</td>\n",
       "      <td>1</td>\n",
       "      <td>0</td>\n",
       "      <td>PC 17599</td>\n",
       "      <td>71.2833</td>\n",
       "      <td>C85</td>\n",
       "      <td>C</td>\n",
       "    </tr>\n",
       "    <tr>\n",
       "      <th>2</th>\n",
       "      <td>3</td>\n",
       "      <td>1</td>\n",
       "      <td>3</td>\n",
       "      <td>Heikkinen, Miss. Laina</td>\n",
       "      <td>female</td>\n",
       "      <td>26.0</td>\n",
       "      <td>0</td>\n",
       "      <td>0</td>\n",
       "      <td>STON/O2. 3101282</td>\n",
       "      <td>7.9250</td>\n",
       "      <td>NaN</td>\n",
       "      <td>S</td>\n",
       "    </tr>\n",
       "    <tr>\n",
       "      <th>3</th>\n",
       "      <td>4</td>\n",
       "      <td>1</td>\n",
       "      <td>1</td>\n",
       "      <td>Futrelle, Mrs. Jacques Heath (Lily May Peel)</td>\n",
       "      <td>female</td>\n",
       "      <td>35.0</td>\n",
       "      <td>1</td>\n",
       "      <td>0</td>\n",
       "      <td>113803</td>\n",
       "      <td>53.1000</td>\n",
       "      <td>C123</td>\n",
       "      <td>S</td>\n",
       "    </tr>\n",
       "    <tr>\n",
       "      <th>4</th>\n",
       "      <td>5</td>\n",
       "      <td>0</td>\n",
       "      <td>3</td>\n",
       "      <td>Allen, Mr. William Henry</td>\n",
       "      <td>male</td>\n",
       "      <td>35.0</td>\n",
       "      <td>0</td>\n",
       "      <td>0</td>\n",
       "      <td>373450</td>\n",
       "      <td>8.0500</td>\n",
       "      <td>NaN</td>\n",
       "      <td>S</td>\n",
       "    </tr>\n",
       "  </tbody>\n",
       "</table>\n",
       "</div>"
      ],
      "text/plain": [
       "   PassengerId  Survived  Pclass  \\\n",
       "0            1         0       3   \n",
       "1            2         1       1   \n",
       "2            3         1       3   \n",
       "3            4         1       1   \n",
       "4            5         0       3   \n",
       "\n",
       "                                                Name     Sex   Age  SibSp  \\\n",
       "0                            Braund, Mr. Owen Harris    male  22.0      1   \n",
       "1  Cumings, Mrs. John Bradley (Florence Briggs Th...  female  38.0      1   \n",
       "2                             Heikkinen, Miss. Laina  female  26.0      0   \n",
       "3       Futrelle, Mrs. Jacques Heath (Lily May Peel)  female  35.0      1   \n",
       "4                           Allen, Mr. William Henry    male  35.0      0   \n",
       "\n",
       "   ParCh            Ticket     Fare Cabin Embarked  \n",
       "0      0         A/5 21171   7.2500   NaN        S  \n",
       "1      0          PC 17599  71.2833   C85        C  \n",
       "2      0  STON/O2. 3101282   7.9250   NaN        S  \n",
       "3      0            113803  53.1000  C123        S  \n",
       "4      0            373450   8.0500   NaN        S  "
      ]
     },
     "execution_count": 2,
     "metadata": {},
     "output_type": "execute_result"
    }
   ],
   "source": [
    "# import data\n",
    "filename = 'titanic_data.csv'\n",
    "\n",
    "titanic_df = pd.read_csv(filename, delimiter=',')\n",
    "\n",
    "# display the first five rows of the data set\n",
    "titanic_df.head(5)"
   ]
  },
  {
   "cell_type": "markdown",
   "metadata": {},
   "source": [
    "Next we look at a few characteristics of the data. Namely its size and the data types used for the different features."
   ]
  },
  {
   "cell_type": "code",
   "execution_count": 3,
   "metadata": {
    "collapsed": false
   },
   "outputs": [
    {
     "name": "stdout",
     "output_type": "stream",
     "text": [
      "Number of columns: 12, Number of rows: 891\n",
      "\n"
     ]
    },
    {
     "data": {
      "text/plain": [
       "PassengerId      int64\n",
       "Survived         int64\n",
       "Pclass           int64\n",
       "Name            object\n",
       "Sex             object\n",
       "Age            float64\n",
       "SibSp            int64\n",
       "ParCh            int64\n",
       "Ticket          object\n",
       "Fare           float64\n",
       "Cabin           object\n",
       "Embarked        object\n",
       "dtype: object"
      ]
     },
     "execution_count": 3,
     "metadata": {},
     "output_type": "execute_result"
    }
   ],
   "source": [
    "# size of the data set\n",
    "print(\"Number of columns: {}, Number of rows: {}\".format(titanic_df.shape[1], titanic_df.shape[0]))\n",
    "print()\n",
    "\n",
    "# data types of the different variables\n",
    "titanic_df.dtypes"
   ]
  },
  {
   "cell_type": "markdown",
   "metadata": {
    "collapsed": false
   },
   "source": [
    "The size of the data frame corresponds with the 12 features for 891 individual passengers. Most columns contain numerical data types (PassengerID, Survived, Pclass, Age, SibSp, ParCh, Fare) denoted as \"int64\" or \"float64\" and few contain strings (Name, Sex, Ticket, Cabin, Embarked) marked as \"object\".\n",
    "\n",
    "Next, the `describe()` method is used to generate summary statistics of the different features. As most calculations only make sense for numerical data, the `include` parameter is used to generate a separate report for the categorical features"
   ]
  },
  {
   "cell_type": "code",
   "execution_count": 4,
   "metadata": {
    "collapsed": false
   },
   "outputs": [
    {
     "data": {
      "text/html": [
       "<div>\n",
       "<table border=\"1\" class=\"dataframe\">\n",
       "  <thead>\n",
       "    <tr style=\"text-align: right;\">\n",
       "      <th></th>\n",
       "      <th>PassengerId</th>\n",
       "      <th>Survived</th>\n",
       "      <th>Pclass</th>\n",
       "      <th>Age</th>\n",
       "      <th>SibSp</th>\n",
       "      <th>ParCh</th>\n",
       "      <th>Fare</th>\n",
       "    </tr>\n",
       "  </thead>\n",
       "  <tbody>\n",
       "    <tr>\n",
       "      <th>count</th>\n",
       "      <td>891.000000</td>\n",
       "      <td>891.000000</td>\n",
       "      <td>891.000000</td>\n",
       "      <td>714.000000</td>\n",
       "      <td>891.000000</td>\n",
       "      <td>891.000000</td>\n",
       "      <td>891.000000</td>\n",
       "    </tr>\n",
       "    <tr>\n",
       "      <th>mean</th>\n",
       "      <td>446.000000</td>\n",
       "      <td>0.383838</td>\n",
       "      <td>2.308642</td>\n",
       "      <td>29.699118</td>\n",
       "      <td>0.523008</td>\n",
       "      <td>0.381594</td>\n",
       "      <td>32.204208</td>\n",
       "    </tr>\n",
       "    <tr>\n",
       "      <th>std</th>\n",
       "      <td>257.353842</td>\n",
       "      <td>0.486592</td>\n",
       "      <td>0.836071</td>\n",
       "      <td>14.526497</td>\n",
       "      <td>1.102743</td>\n",
       "      <td>0.806057</td>\n",
       "      <td>49.693429</td>\n",
       "    </tr>\n",
       "    <tr>\n",
       "      <th>min</th>\n",
       "      <td>1.000000</td>\n",
       "      <td>0.000000</td>\n",
       "      <td>1.000000</td>\n",
       "      <td>0.420000</td>\n",
       "      <td>0.000000</td>\n",
       "      <td>0.000000</td>\n",
       "      <td>0.000000</td>\n",
       "    </tr>\n",
       "    <tr>\n",
       "      <th>25%</th>\n",
       "      <td>223.500000</td>\n",
       "      <td>0.000000</td>\n",
       "      <td>2.000000</td>\n",
       "      <td>20.125000</td>\n",
       "      <td>0.000000</td>\n",
       "      <td>0.000000</td>\n",
       "      <td>7.910400</td>\n",
       "    </tr>\n",
       "    <tr>\n",
       "      <th>50%</th>\n",
       "      <td>446.000000</td>\n",
       "      <td>0.000000</td>\n",
       "      <td>3.000000</td>\n",
       "      <td>28.000000</td>\n",
       "      <td>0.000000</td>\n",
       "      <td>0.000000</td>\n",
       "      <td>14.454200</td>\n",
       "    </tr>\n",
       "    <tr>\n",
       "      <th>75%</th>\n",
       "      <td>668.500000</td>\n",
       "      <td>1.000000</td>\n",
       "      <td>3.000000</td>\n",
       "      <td>38.000000</td>\n",
       "      <td>1.000000</td>\n",
       "      <td>0.000000</td>\n",
       "      <td>31.000000</td>\n",
       "    </tr>\n",
       "    <tr>\n",
       "      <th>max</th>\n",
       "      <td>891.000000</td>\n",
       "      <td>1.000000</td>\n",
       "      <td>3.000000</td>\n",
       "      <td>80.000000</td>\n",
       "      <td>8.000000</td>\n",
       "      <td>6.000000</td>\n",
       "      <td>512.329200</td>\n",
       "    </tr>\n",
       "  </tbody>\n",
       "</table>\n",
       "</div>"
      ],
      "text/plain": [
       "       PassengerId    Survived      Pclass         Age       SibSp  \\\n",
       "count   891.000000  891.000000  891.000000  714.000000  891.000000   \n",
       "mean    446.000000    0.383838    2.308642   29.699118    0.523008   \n",
       "std     257.353842    0.486592    0.836071   14.526497    1.102743   \n",
       "min       1.000000    0.000000    1.000000    0.420000    0.000000   \n",
       "25%     223.500000    0.000000    2.000000   20.125000    0.000000   \n",
       "50%     446.000000    0.000000    3.000000   28.000000    0.000000   \n",
       "75%     668.500000    1.000000    3.000000   38.000000    1.000000   \n",
       "max     891.000000    1.000000    3.000000   80.000000    8.000000   \n",
       "\n",
       "            ParCh        Fare  \n",
       "count  891.000000  891.000000  \n",
       "mean     0.381594   32.204208  \n",
       "std      0.806057   49.693429  \n",
       "min      0.000000    0.000000  \n",
       "25%      0.000000    7.910400  \n",
       "50%      0.000000   14.454200  \n",
       "75%      0.000000   31.000000  \n",
       "max      6.000000  512.329200  "
      ]
     },
     "execution_count": 4,
     "metadata": {},
     "output_type": "execute_result"
    }
   ],
   "source": [
    "# summary of numerical data\n",
    "titanic_df.describe()"
   ]
  },
  {
   "cell_type": "code",
   "execution_count": 5,
   "metadata": {
    "collapsed": false
   },
   "outputs": [
    {
     "name": "stdout",
     "output_type": "stream",
     "text": [
      "                                               Name   Sex    Ticket  \\\n",
      "count                                           891   891       891   \n",
      "unique                                          891     2       681   \n",
      "top     Hart, Mrs. Benjamin (Esther Ada Bloomfield)  male  CA. 2343   \n",
      "freq                                              1   577         7   \n",
      "\n",
      "              Cabin Embarked  \n",
      "count           204      889  \n",
      "unique          147        3  \n",
      "top     C23 C25 C27        S  \n",
      "freq              4      644  \n"
     ]
    }
   ],
   "source": [
    "# summary of categorical data\n",
    "print(titanic_df.describe(include=['O']))"
   ]
  },
  {
   "cell_type": "markdown",
   "metadata": {},
   "source": [
    "The print-out of the `describe()` function already reveals some interesting information about the data set:\n",
    "\n",
    "* Since the `describe()` function excludes NaN values, the \"count\" values show that the Age, Cabin and Embarked columns have missing values. \n",
    "\n",
    "* About 38 % of all passengers included in the data set survived the accident which is close of the overall survival rate of 32 %.\n",
    "\n",
    "* More than 50 % of the passengers travelled in 3rd class.\n",
    "\n",
    "* The age feature contains decimal number so rounding might be an appropriate measure.\n",
    "\n",
    "* Around 25 % of the passengers travelled with a sibling or spouse.\n",
    "\n",
    "* Most passengers (> 75 %) travelled without children or parents.\n",
    "\n",
    "* The data contains 891 unique names.\n",
    "\n",
    "* About 65 % of the passengers were male.\n",
    "\n",
    "* Since the number of unique tickets is below 891, some passengers must have shared the same ticket number.\n",
    "\n",
    "### Dropping columns\n",
    "\n",
    "The dataset contains information that will not be useful for the analysis. These are the \"PassengerID\" and the \"Ticket\" columns. Both of these will be dropped. Since the \"Cabin\" column contains so many \"NaN\" values, I also remove this one from the data frame."
   ]
  },
  {
   "cell_type": "code",
   "execution_count": 6,
   "metadata": {
    "collapsed": false
   },
   "outputs": [
    {
     "name": "stdout",
     "output_type": "stream",
     "text": [
      "['Survived' 'Pclass' 'Name' 'Sex' 'Age' 'SibSp' 'ParCh' 'Fare' 'Embarked']\n"
     ]
    }
   ],
   "source": [
    "# drop unwanted columns\n",
    "titanic_df.drop(['PassengerId', 'Ticket', 'Cabin'], axis=1, inplace=True)\n",
    "\n",
    "# check if it worked properly by displaying the remaining column headers\n",
    "print(titanic_df.columns.values)"
   ]
  },
  {
   "cell_type": "markdown",
   "metadata": {},
   "source": [
    "### Data Cleaning\n",
    "\n",
    "The only feature that needs cleaning is the passenger age. To get rid of the the floating point numbers, all values are rounded up to the closest integer. For this purpose the `ceil()` function from the Numpy module is used."
   ]
  },
  {
   "cell_type": "code",
   "execution_count": 7,
   "metadata": {
    "collapsed": false
   },
   "outputs": [],
   "source": [
    "# round up age to the closest integer\n",
    "titanic_df['Age'] = np.ceil(titanic_df['Age'])"
   ]
  },
  {
   "cell_type": "markdown",
   "metadata": {},
   "source": [
    "### Filling missing values\n",
    "\n",
    "The age column contains many missing values. To fill these, we select random numbers x from the following interval:\n",
    "\n",
    "$ \\mu_{Age} - \\sigma_{Age} \\le x \\le \\mu_{Age} + \\sigma_{Age} $\n",
    "\n"
   ]
  },
  {
   "cell_type": "code",
   "execution_count": 8,
   "metadata": {
    "collapsed": false
   },
   "outputs": [
    {
     "name": "stdout",
     "output_type": "stream",
     "text": [
      "Remaining NaN values: 0\n"
     ]
    }
   ],
   "source": [
    "age_mean = titanic_df['Age'].mean()\n",
    "age_std = titanic_df['Age'].std()\n",
    "\n",
    "# count the number of missing values in the age column\n",
    "age_nan_count = titanic_df['Age'].isnull().sum()\n",
    "\n",
    "# create a vector containing the same number of values from the interval specified above\n",
    "nan_replacement = np.random.randint(age_mean - age_std, age_mean + age_std, size=age_nan_count)\n",
    "\n",
    "# replace the missing values with the random numbers\n",
    "titanic_df.loc[titanic_df['Age'].isnull(), 'Age'] = nan_replacement\n",
    "\n",
    "# check if all values have been replaced\n",
    "print(\"Remaining NaN values: {}\".format(titanic_df['Age'].isnull().sum()))"
   ]
  },
  {
   "cell_type": "markdown",
   "metadata": {},
   "source": [
    "The embarked column misses only 2 values. To replace these, we use the most common port which is by far (about 72 %)  Southampton."
   ]
  },
  {
   "cell_type": "code",
   "execution_count": 9,
   "metadata": {
    "collapsed": false
   },
   "outputs": [
    {
     "name": "stdout",
     "output_type": "stream",
     "text": [
      "Remaining NaN values: 0\n"
     ]
    }
   ],
   "source": [
    "# replace NaN values with S\n",
    "titanic_df['Embarked'] = titanic_df['Embarked'].fillna('S')\n",
    "\n",
    "# check if all values have been replaced\n",
    "print(\"Remaining NaN values: {}\".format(titanic_df['Embarked'].isnull().sum()))"
   ]
  },
  {
   "cell_type": "markdown",
   "metadata": {},
   "source": [
    "### Feature mapping\n",
    "\n",
    "For easier handling the \"Sex\" and \"Embarked\" columns are mapped to numerical values."
   ]
  },
  {
   "cell_type": "code",
   "execution_count": 10,
   "metadata": {
    "collapsed": false
   },
   "outputs": [
    {
     "name": "stdout",
     "output_type": "stream",
     "text": [
      "Unique values 'Sex': [1 0]\n",
      "\n",
      "Unique values 'Embarked': [2 0 1]\n"
     ]
    }
   ],
   "source": [
    "# female equals 0 and male equals 1 in the sex column\n",
    "titanic_df['Sex'] = titanic_df['Sex'].map({'female': 0, 'male': 1})\n",
    "\n",
    "# C = 0, Q = 1, S = 2 in the embarked column\n",
    "titanic_df['Embarked'] = titanic_df['Embarked'].map({'C': 0, 'Q': 1, 'S': 2})\n",
    "\n",
    "# check if all the values have been remapped\n",
    "print(\"Unique values 'Sex': {}\".format(titanic_df['Sex'].unique()))\n",
    "print()\n",
    "print(\"Unique values 'Embarked': {}\".format(titanic_df['Embarked'].unique()))"
   ]
  },
  {
   "cell_type": "markdown",
   "metadata": {},
   "source": [
    "### Creation of new features\n",
    "\n",
    "Browsing through a few kernels on Kaggle, I stumbled upon the one created by [Sina](https://www.kaggle.com/sinakhorami/titanic/titanic-best-working-classifier). In this example, some new features were engineered from the data set. In this section I incorporated parts of her ideas and script into my code.\n",
    "\n",
    "A lot of names in the data set contain some sort of title. The following code extracts those from the passenger names and adds them to the new title column. Since all titles appear between a blank and a full stop, regex pattern matching is the optimal tool."
   ]
  },
  {
   "cell_type": "code",
   "execution_count": 11,
   "metadata": {
    "collapsed": false
   },
   "outputs": [
    {
     "name": "stdout",
     "output_type": "stream",
     "text": [
      "['Mr' 'Mrs' 'Miss' 'Master' 'Don' 'Rev' 'Dr' 'Mme' 'Ms' 'Major' 'Lady'\n",
      " 'Sir' 'Mlle' 'Col' 'Capt' 'Countess' 'Jonkheer']\n"
     ]
    }
   ],
   "source": [
    "def get_title(name):\n",
    "    \"\"\"Extract the title from the passenger name.\"\"\"\n",
    "    # try to find the pattern, returns None if nothing is found\n",
    "    title_search = re.search(' ([A-Za-z]+)\\.', name)\n",
    "    \n",
    "    # return the title if one is found\n",
    "    if title_search:\n",
    "        return title_search.group(1)\n",
    "    # return an empty string if no match has been found\n",
    "    else:\n",
    "        return \"\"\n",
    "\n",
    "# create the new feature column\n",
    "titanic_df['Title'] = titanic_df['Name'].apply(get_title)\n",
    "\n",
    "# print out all the different titles found\n",
    "print(titanic_df['Title'].unique())"
   ]
  },
  {
   "cell_type": "markdown",
   "metadata": {},
   "source": [
    "By conmbining the number of siblings/spouses and parents/children one can calculate the family size of each passenger. This new feature is added to the data in the \"FamSize\" column."
   ]
  },
  {
   "cell_type": "code",
   "execution_count": 12,
   "metadata": {
    "collapsed": false
   },
   "outputs": [],
   "source": [
    "# calculate the family size\n",
    "titanic_df['FamSize'] = titanic_df[\"SibSp\"] + titanic_df[\"ParCh\"] + 1"
   ]
  },
  {
   "cell_type": "markdown",
   "metadata": {},
   "source": [
    "## Data exploration\n",
    "\n",
    "To get a first overview and see how all the features with numerical values are related I create a correlation heatmap."
   ]
  },
  {
   "cell_type": "code",
   "execution_count": 13,
   "metadata": {
    "collapsed": false
   },
   "outputs": [
    {
     "data": {
      "image/png": "[encoded data removed]",
      "text/plain": [
       "<matplotlib.figure.Figure at 0xce70a25748>"
      ]
     },
     "metadata": {},
     "output_type": "display_data"
    }
   ],
   "source": [
    "# calculate the correlation matrix\n",
    "corr_mat = titanic_df.corr()\n",
    "\n",
    "# create the heatmap plot using seaborn\n",
    "fig, ax = plt.subplots(figsize=(12, 9))\n",
    "\n",
    "sns.heatmap(corr_mat, annot=True, square=True)\n",
    "\n",
    "plt.title(\"Correlation heatmap\", size=16)\n",
    "\n",
    "plt.show()"
   ]
  },
  {
   "cell_type": "markdown",
   "metadata": {},
   "source": [
    "The plot shows that only a few features seem to correlate with eachother which means that most columns carry some unique information. The strongest correlations can be found between family size and the number of siblings/spouses/parents/children and fare prize and passenger class which is expected but nevertheless I will keep all these columns in the data for the rest of the analysis.\n",
    "\n",
    "One can also see that the survival rate is mostly affected by the the passenger sex (-0.54), passenger class (-0.34) and the fare prize (0.26).\n",
    "\n",
    "So let us have a look at the individual features.\n",
    "\n",
    "For the categorical features (Pclass, Sex, Embarked) one can simply group the survival rates by the unique values and calculate their mean survival rate. For the features Sex and and Embarked the numerical values were mapped back to their categories for better readability."
   ]
  },
  {
   "cell_type": "code",
   "execution_count": 14,
   "metadata": {
    "collapsed": false
   },
   "outputs": [
    {
     "data": {
      "text/html": [
       "<div>\n",
       "<table border=\"1\" class=\"dataframe\">\n",
       "  <thead>\n",
       "    <tr style=\"text-align: right;\">\n",
       "      <th></th>\n",
       "      <th>Pclass</th>\n",
       "      <th>Survived</th>\n",
       "    </tr>\n",
       "  </thead>\n",
       "  <tbody>\n",
       "    <tr>\n",
       "      <th>0</th>\n",
       "      <td>1</td>\n",
       "      <td>0.629630</td>\n",
       "    </tr>\n",
       "    <tr>\n",
       "      <th>1</th>\n",
       "      <td>2</td>\n",
       "      <td>0.472826</td>\n",
       "    </tr>\n",
       "    <tr>\n",
       "      <th>2</th>\n",
       "      <td>3</td>\n",
       "      <td>0.242363</td>\n",
       "    </tr>\n",
       "  </tbody>\n",
       "</table>\n",
       "</div>"
      ],
      "text/plain": [
       "   Pclass  Survived\n",
       "0       1  0.629630\n",
       "1       2  0.472826\n",
       "2       3  0.242363"
      ]
     },
     "execution_count": 14,
     "metadata": {},
     "output_type": "execute_result"
    }
   ],
   "source": [
    "# Pclass\n",
    "titanic_df[['Pclass', 'Survived']].groupby('Pclass', as_index=False).mean()"
   ]
  },
  {
   "cell_type": "code",
   "execution_count": 15,
   "metadata": {
    "collapsed": false
   },
   "outputs": [
    {
     "data": {
      "text/html": [
       "<div>\n",
       "<table border=\"1\" class=\"dataframe\">\n",
       "  <thead>\n",
       "    <tr style=\"text-align: right;\">\n",
       "      <th></th>\n",
       "      <th>Sex</th>\n",
       "      <th>Survived</th>\n",
       "    </tr>\n",
       "  </thead>\n",
       "  <tbody>\n",
       "    <tr>\n",
       "      <th>0</th>\n",
       "      <td>female</td>\n",
       "      <td>0.742038</td>\n",
       "    </tr>\n",
       "    <tr>\n",
       "      <th>1</th>\n",
       "      <td>male</td>\n",
       "      <td>0.188908</td>\n",
       "    </tr>\n",
       "  </tbody>\n",
       "</table>\n",
       "</div>"
      ],
      "text/plain": [
       "      Sex  Survived\n",
       "0  female  0.742038\n",
       "1    male  0.188908"
      ]
     },
     "execution_count": 15,
     "metadata": {},
     "output_type": "execute_result"
    }
   ],
   "source": [
    "# Sex\n",
    "sex_survival = titanic_df[['Sex', 'Survived']].groupby('Sex', as_index=False).mean()\n",
    "\n",
    "# remapping\n",
    "sex_survival.loc[sex_survival['Sex'] == 0, 'Sex'] = 'female'\n",
    "sex_survival.loc[sex_survival['Sex'] == 1, 'Sex'] = 'male'\n",
    "\n",
    "sex_survival"
   ]
  },
  {
   "cell_type": "code",
   "execution_count": 16,
   "metadata": {
    "collapsed": false
   },
   "outputs": [
    {
     "data": {
      "text/html": [
       "<div>\n",
       "<table border=\"1\" class=\"dataframe\">\n",
       "  <thead>\n",
       "    <tr style=\"text-align: right;\">\n",
       "      <th></th>\n",
       "      <th>Embarked</th>\n",
       "      <th>Survived</th>\n",
       "    </tr>\n",
       "  </thead>\n",
       "  <tbody>\n",
       "    <tr>\n",
       "      <th>0</th>\n",
       "      <td>C</td>\n",
       "      <td>0.553571</td>\n",
       "    </tr>\n",
       "    <tr>\n",
       "      <th>1</th>\n",
       "      <td>Q</td>\n",
       "      <td>0.389610</td>\n",
       "    </tr>\n",
       "    <tr>\n",
       "      <th>2</th>\n",
       "      <td>S</td>\n",
       "      <td>0.339009</td>\n",
       "    </tr>\n",
       "  </tbody>\n",
       "</table>\n",
       "</div>"
      ],
      "text/plain": [
       "  Embarked  Survived\n",
       "0        C  0.553571\n",
       "1        Q  0.389610\n",
       "2        S  0.339009"
      ]
     },
     "execution_count": 16,
     "metadata": {},
     "output_type": "execute_result"
    }
   ],
   "source": [
    "# Embarked\n",
    "embarked_survival = titanic_df[['Embarked', 'Survived']].groupby('Embarked', as_index=False).mean()\n",
    "\n",
    "# remapping\n",
    "embarked_survival.loc[embarked_survival['Embarked'] == 0, 'Embarked'] = 'C'\n",
    "embarked_survival.loc[embarked_survival['Embarked'] == 1, 'Embarked'] = 'Q'\n",
    "embarked_survival.loc[embarked_survival['Embarked'] == 2, 'Embarked'] = 'S'\n",
    "\n",
    "embarked_survival"
   ]
  },
  {
   "cell_type": "markdown",
   "metadata": {},
   "source": [
    "These calulations shows that passengeres from higher classes, women and people who embarked the Titanic in Cherbourg had higher survival rates than their counterparts.\n",
    "\n",
    "The first two results correspond with my expectations as high class cabin were closer to the deck and wealthy and female passengere were probably the first ones to enter the lifeboats.\n",
    "\n",
    "To explain the survival rate based on the embarkation port I further investigate the passengeres coming from Cherbourg."
   ]
  },
  {
   "cell_type": "code",
   "execution_count": 17,
   "metadata": {
    "collapsed": false
   },
   "outputs": [
    {
     "data": {
      "text/html": [
       "<div>\n",
       "<table border=\"1\" class=\"dataframe\">\n",
       "  <thead>\n",
       "    <tr style=\"text-align: right;\">\n",
       "      <th></th>\n",
       "      <th>Survived</th>\n",
       "      <th>Pclass</th>\n",
       "      <th>Sex</th>\n",
       "      <th>Age</th>\n",
       "      <th>SibSp</th>\n",
       "      <th>ParCh</th>\n",
       "      <th>Fare</th>\n",
       "      <th>Embarked</th>\n",
       "      <th>FamSize</th>\n",
       "    </tr>\n",
       "  </thead>\n",
       "  <tbody>\n",
       "    <tr>\n",
       "      <th>count</th>\n",
       "      <td>168.000000</td>\n",
       "      <td>168.000000</td>\n",
       "      <td>168.000000</td>\n",
       "      <td>168.000000</td>\n",
       "      <td>168.000000</td>\n",
       "      <td>168.000000</td>\n",
       "      <td>168.000000</td>\n",
       "      <td>168.0</td>\n",
       "      <td>168.000000</td>\n",
       "    </tr>\n",
       "    <tr>\n",
       "      <th>mean</th>\n",
       "      <td>0.553571</td>\n",
       "      <td>1.886905</td>\n",
       "      <td>0.565476</td>\n",
       "      <td>30.434524</td>\n",
       "      <td>0.386905</td>\n",
       "      <td>0.363095</td>\n",
       "      <td>59.954144</td>\n",
       "      <td>0.0</td>\n",
       "      <td>1.750000</td>\n",
       "    </tr>\n",
       "    <tr>\n",
       "      <th>std</th>\n",
       "      <td>0.498608</td>\n",
       "      <td>0.944100</td>\n",
       "      <td>0.497176</td>\n",
       "      <td>14.177506</td>\n",
       "      <td>0.557213</td>\n",
       "      <td>0.660481</td>\n",
       "      <td>83.912994</td>\n",
       "      <td>0.0</td>\n",
       "      <td>0.926974</td>\n",
       "    </tr>\n",
       "    <tr>\n",
       "      <th>min</th>\n",
       "      <td>0.000000</td>\n",
       "      <td>1.000000</td>\n",
       "      <td>0.000000</td>\n",
       "      <td>1.000000</td>\n",
       "      <td>0.000000</td>\n",
       "      <td>0.000000</td>\n",
       "      <td>4.012500</td>\n",
       "      <td>0.0</td>\n",
       "      <td>1.000000</td>\n",
       "    </tr>\n",
       "    <tr>\n",
       "      <th>25%</th>\n",
       "      <td>0.000000</td>\n",
       "      <td>1.000000</td>\n",
       "      <td>0.000000</td>\n",
       "      <td>21.000000</td>\n",
       "      <td>0.000000</td>\n",
       "      <td>0.000000</td>\n",
       "      <td>13.697950</td>\n",
       "      <td>0.0</td>\n",
       "      <td>1.000000</td>\n",
       "    </tr>\n",
       "    <tr>\n",
       "      <th>50%</th>\n",
       "      <td>1.000000</td>\n",
       "      <td>1.000000</td>\n",
       "      <td>1.000000</td>\n",
       "      <td>29.000000</td>\n",
       "      <td>0.000000</td>\n",
       "      <td>0.000000</td>\n",
       "      <td>29.700000</td>\n",
       "      <td>0.0</td>\n",
       "      <td>1.000000</td>\n",
       "    </tr>\n",
       "    <tr>\n",
       "      <th>75%</th>\n",
       "      <td>1.000000</td>\n",
       "      <td>3.000000</td>\n",
       "      <td>1.000000</td>\n",
       "      <td>39.000000</td>\n",
       "      <td>1.000000</td>\n",
       "      <td>1.000000</td>\n",
       "      <td>78.500025</td>\n",
       "      <td>0.0</td>\n",
       "      <td>2.000000</td>\n",
       "    </tr>\n",
       "    <tr>\n",
       "      <th>max</th>\n",
       "      <td>1.000000</td>\n",
       "      <td>3.000000</td>\n",
       "      <td>1.000000</td>\n",
       "      <td>71.000000</td>\n",
       "      <td>2.000000</td>\n",
       "      <td>3.000000</td>\n",
       "      <td>512.329200</td>\n",
       "      <td>0.0</td>\n",
       "      <td>5.000000</td>\n",
       "    </tr>\n",
       "  </tbody>\n",
       "</table>\n",
       "</div>"
      ],
      "text/plain": [
       "         Survived      Pclass         Sex         Age       SibSp       ParCh  \\\n",
       "count  168.000000  168.000000  168.000000  168.000000  168.000000  168.000000   \n",
       "mean     0.553571    1.886905    0.565476   30.434524    0.386905    0.363095   \n",
       "std      0.498608    0.944100    0.497176   14.177506    0.557213    0.660481   \n",
       "min      0.000000    1.000000    0.000000    1.000000    0.000000    0.000000   \n",
       "25%      0.000000    1.000000    0.000000   21.000000    0.000000    0.000000   \n",
       "50%      1.000000    1.000000    1.000000   29.000000    0.000000    0.000000   \n",
       "75%      1.000000    3.000000    1.000000   39.000000    1.000000    1.000000   \n",
       "max      1.000000    3.000000    1.000000   71.000000    2.000000    3.000000   \n",
       "\n",
       "             Fare  Embarked     FamSize  \n",
       "count  168.000000     168.0  168.000000  \n",
       "mean    59.954144       0.0    1.750000  \n",
       "std     83.912994       0.0    0.926974  \n",
       "min      4.012500       0.0    1.000000  \n",
       "25%     13.697950       0.0    1.000000  \n",
       "50%     29.700000       0.0    1.000000  \n",
       "75%     78.500025       0.0    2.000000  \n",
       "max    512.329200       0.0    5.000000  "
      ]
     },
     "execution_count": 17,
     "metadata": {},
     "output_type": "execute_result"
    }
   ],
   "source": [
    "# summary statistics for passengers from Cherbourg\n",
    "titanic_df[titanic_df['Embarked'] == 0].describe()"
   ]
  },
  {
   "cell_type": "markdown",
   "metadata": {},
   "source": [
    "Comparing this summary table with the statistics for the whole data set shows that passengers who embarked in Cherbourg had on average higher ticket classes and paid more for their fares which might explain the higher survival rate.\n",
    "\n",
    "To examine the influence of age on passenger survival, the data is summarized for different age groups. The `cut()` function splits the data into eight 10 year bins (because the oldest passenger is 80 years old). The corresponding age group for each passenger is added to the \"AgeGroup\" column.\n",
    "\n",
    "The `agg()` function allows to apply multiple functions at once. `mean()` returns the average survival rate for each age group, `count()` counts the total number of passengers in each group and `sum()` only accounts for the survivors. Afterwards the survivors and the dead passengers of each age group are compared in a bar chart."
   ]
  },
  {
   "cell_type": "code",
   "execution_count": 18,
   "metadata": {
    "collapsed": false
   },
   "outputs": [
    {
     "data": {
      "text/html": [
       "<div>\n",
       "<table border=\"1\" class=\"dataframe\">\n",
       "  <thead>\n",
       "    <tr style=\"text-align: right;\">\n",
       "      <th></th>\n",
       "      <th>Survival rate</th>\n",
       "      <th>Total</th>\n",
       "      <th>Survived</th>\n",
       "      <th>Died</th>\n",
       "    </tr>\n",
       "    <tr>\n",
       "      <th>AgeGroup</th>\n",
       "      <th></th>\n",
       "      <th></th>\n",
       "      <th></th>\n",
       "      <th></th>\n",
       "    </tr>\n",
       "  </thead>\n",
       "  <tbody>\n",
       "    <tr>\n",
       "      <th>1-10</th>\n",
       "      <td>0.593750</td>\n",
       "      <td>64</td>\n",
       "      <td>38</td>\n",
       "      <td>26</td>\n",
       "    </tr>\n",
       "    <tr>\n",
       "      <th>11-20</th>\n",
       "      <td>0.346154</td>\n",
       "      <td>156</td>\n",
       "      <td>54</td>\n",
       "      <td>102</td>\n",
       "    </tr>\n",
       "    <tr>\n",
       "      <th>21-30</th>\n",
       "      <td>0.358362</td>\n",
       "      <td>293</td>\n",
       "      <td>105</td>\n",
       "      <td>188</td>\n",
       "    </tr>\n",
       "    <tr>\n",
       "      <th>31-40</th>\n",
       "      <td>0.411483</td>\n",
       "      <td>209</td>\n",
       "      <td>86</td>\n",
       "      <td>123</td>\n",
       "    </tr>\n",
       "    <tr>\n",
       "      <th>41-50</th>\n",
       "      <td>0.352381</td>\n",
       "      <td>105</td>\n",
       "      <td>37</td>\n",
       "      <td>68</td>\n",
       "    </tr>\n",
       "    <tr>\n",
       "      <th>51-60</th>\n",
       "      <td>0.404762</td>\n",
       "      <td>42</td>\n",
       "      <td>17</td>\n",
       "      <td>25</td>\n",
       "    </tr>\n",
       "    <tr>\n",
       "      <th>61-70</th>\n",
       "      <td>0.235294</td>\n",
       "      <td>17</td>\n",
       "      <td>4</td>\n",
       "      <td>13</td>\n",
       "    </tr>\n",
       "    <tr>\n",
       "      <th>71-80</th>\n",
       "      <td>0.200000</td>\n",
       "      <td>5</td>\n",
       "      <td>1</td>\n",
       "      <td>4</td>\n",
       "    </tr>\n",
       "  </tbody>\n",
       "</table>\n",
       "</div>"
      ],
      "text/plain": [
       "          Survival rate  Total  Survived  Died\n",
       "AgeGroup                                      \n",
       "1-10           0.593750     64        38    26\n",
       "11-20          0.346154    156        54   102\n",
       "21-30          0.358362    293       105   188\n",
       "31-40          0.411483    209        86   123\n",
       "41-50          0.352381    105        37    68\n",
       "51-60          0.404762     42        17    25\n",
       "61-70          0.235294     17         4    13\n",
       "71-80          0.200000      5         1     4"
      ]
     },
     "execution_count": 18,
     "metadata": {},
     "output_type": "execute_result"
    }
   ],
   "source": [
    "# create a new age group column in the data frame\n",
    "titanic_df['AgeGroup'] = 0\n",
    "\n",
    "# labels for the different age groups\n",
    "age_groups = ['1-10', '11-20', '21-30', '31-40', '41-50', '51-60', '61-70', '71-80'] # age groups\n",
    "\n",
    "# split the passengers into age groups of 10 years\n",
    "titanic_df['AgeGroup'] = pd.cut(titanic_df['Age'], range(0, 90, 10), labels=age_groups)\n",
    "\n",
    "def age_group_summary(df, age_groups):\n",
    "    \"\"\"Create a result summary for the different age groups.\"\"\"\n",
    "    # calculate the survival rates and counts for the different age groups\n",
    "    age_survival = df[['AgeGroup', 'Survived']].groupby('AgeGroup').agg(['mean', 'count', 'sum'])\n",
    "    \n",
    "    # reindex to get the correct order in the calculated data frame\n",
    "    age_survival = age_survival.reindex(age_groups)\n",
    "    \n",
    "    # change the column headers\n",
    "    age_survival.columns = age_survival.columns.droplevel() # remove multilevel index\n",
    "    age_survival.columns = ['Survival rate', 'Total', 'Survived']\n",
    "    \n",
    "    # create a new column containing the number of passengers that died\n",
    "    age_survival['Died'] = age_survival['Total'] - age_survival['Survived']\n",
    "    \n",
    "    return age_survival\n",
    "    \n",
    "# calculate the survival rates for the different age groups\n",
    "age_survival = age_group_summary(titanic_df, age_groups)\n",
    "\n",
    "age_survival"
   ]
  },
  {
   "cell_type": "code",
   "execution_count": 19,
   "metadata": {
    "collapsed": false,
    "scrolled": true
   },
   "outputs": [
    {
     "data": {
      "image/png": "[encoded data removed]",
      "text/plain": [
       "<matplotlib.figure.Figure at 0xce716815c0>"
      ]
     },
     "metadata": {},
     "output_type": "display_data"
    }
   ],
   "source": [
    "# vector for the bar positions\n",
    "ind = np.arange(len(age_survival))\n",
    "\n",
    "# bar width\n",
    "width = 0.4\n",
    "\n",
    "# bar plot\n",
    "fig, ax = plt.subplots()\n",
    "\n",
    "survived = age_survival['Survived'].values\n",
    "bar1 = ax.bar(ind, survived, width=width, color='blue', label='Survived')\n",
    "\n",
    "died = age_survival['Died'].values\n",
    "bar2 = ax.bar(ind + width, died, width=width, color='red', \n",
    "              label='Died')\n",
    "\n",
    "# format plot\n",
    "ax.set(xlabel='Age', xticks=(ind + width), xticklabels=age_groups, ylabel='Number of passengers', \n",
    "       title='Survival by age group')\n",
    "plt.legend()\n",
    "\n",
    "plt.show()"
   ]
  },
  {
   "cell_type": "markdown",
   "metadata": {},
   "source": [
    "The results from the age group analysis show little children (1-10 years) had the highest chance of survival from all the groups. The lowest survival rates were observed for passengers between 21 - 30 years, 61 - 70 years and 71 - 80 years.\n",
    "\n",
    "To have a look at the influence of gender and age on passenger survival the data set is split into male and female passengers and the analysis for age groups from above is repeated."
   ]
  },
  {
   "cell_type": "code",
   "execution_count": 20,
   "metadata": {
    "collapsed": false
   },
   "outputs": [
    {
     "data": {
      "image/png": "[encoded data removed]",
      "text/plain": [
       "<matplotlib.figure.Figure at 0xce70ff1588>"
      ]
     },
     "metadata": {},
     "output_type": "display_data"
    }
   ],
   "source": [
    "# create two new data frames for each gender\n",
    "men_df = titanic_df.loc[titanic_df['Sex'] == 1]\n",
    "women_df = titanic_df.loc[titanic_df['Sex'] == 0]\n",
    "\n",
    "# calculate the survival rates for the different age groups for both genders\n",
    "male_age_survival = age_group_summary(men_df, age_groups)\n",
    "female_age_survival = age_group_summary(women_df, age_groups)\n",
    "\n",
    "# vectors for the bar positions\n",
    "ind = np.arange(len(male_age_survival))\n",
    "\n",
    "# bar width\n",
    "width = 0.4\n",
    "\n",
    "# create 2 subplots in the figure\n",
    "fig, (ax1, ax2) = plt.subplots(2, 1)\n",
    "\n",
    "# male bar plot\n",
    "survived = male_age_survival['Survived'].values\n",
    "bar11 = ax1.bar(ind, survived, width=width, color='blue', label='Survived')\n",
    "\n",
    "died = male_age_survival['Died'].values\n",
    "bar12 = ax1.bar(ind + width, died, width=width, color='red', \n",
    "              label='Died')\n",
    "\n",
    "# format male bar plot\n",
    "ax1.set(xticks=(ind + width), xticklabels=age_groups, ylabel='Number of male passengers', \n",
    "       title='Male survival by age group')\n",
    "ax1.legend()\n",
    "\n",
    "# female bar plot\n",
    "survived = female_age_survival['Survived'].values\n",
    "bar21 = ax2.bar(ind, survived, width=width, color='blue', label='Survived')\n",
    "\n",
    "died = female_age_survival['Died'].values\n",
    "bar22 = ax2.bar(ind + width, died, width=width, color='red', \n",
    "              label='Died')\n",
    "\n",
    "# format female bar plot\n",
    "ax2.set(xlabel='Age', xticks=(ind + width), xticklabels=age_groups, ylabel='Number of female passengers', ylim=[0, 180], \n",
    "       title='Female survival by age group')\n",
    "ax2.legend()\n",
    "\n",
    "plt.show()"
   ]
  },
  {
   "cell_type": "markdown",
   "metadata": {},
   "source": [
    "The visualisation shows the strong differences between the survival of male and female passengers. Children younger than 10 years had about equally high chances for survival independent of their gender. But for all the other age groups the gender has a big influence on survival. The plots show that passenger gender had a much stronger impact on survival than age.\n",
    "\n",
    "To show the influence of the family size on passenger survival I group the data using the family size and display the mean survival rate for each group in a bar chart."
   ]
  },
  {
   "cell_type": "code",
   "execution_count": 21,
   "metadata": {
    "collapsed": false
   },
   "outputs": [
    {
     "data": {
      "text/html": [
       "<div>\n",
       "<table border=\"1\" class=\"dataframe\">\n",
       "  <thead>\n",
       "    <tr style=\"text-align: right;\">\n",
       "      <th></th>\n",
       "      <th>Survived</th>\n",
       "    </tr>\n",
       "    <tr>\n",
       "      <th>FamSize</th>\n",
       "      <th></th>\n",
       "    </tr>\n",
       "  </thead>\n",
       "  <tbody>\n",
       "    <tr>\n",
       "      <th>1</th>\n",
       "      <td>0.303538</td>\n",
       "    </tr>\n",
       "    <tr>\n",
       "      <th>2</th>\n",
       "      <td>0.552795</td>\n",
       "    </tr>\n",
       "    <tr>\n",
       "      <th>3</th>\n",
       "      <td>0.578431</td>\n",
       "    </tr>\n",
       "    <tr>\n",
       "      <th>4</th>\n",
       "      <td>0.724138</td>\n",
       "    </tr>\n",
       "    <tr>\n",
       "      <th>5</th>\n",
       "      <td>0.200000</td>\n",
       "    </tr>\n",
       "    <tr>\n",
       "      <th>6</th>\n",
       "      <td>0.136364</td>\n",
       "    </tr>\n",
       "    <tr>\n",
       "      <th>7</th>\n",
       "      <td>0.333333</td>\n",
       "    </tr>\n",
       "    <tr>\n",
       "      <th>8</th>\n",
       "      <td>0.000000</td>\n",
       "    </tr>\n",
       "    <tr>\n",
       "      <th>11</th>\n",
       "      <td>0.000000</td>\n",
       "    </tr>\n",
       "  </tbody>\n",
       "</table>\n",
       "</div>"
      ],
      "text/plain": [
       "         Survived\n",
       "FamSize          \n",
       "1        0.303538\n",
       "2        0.552795\n",
       "3        0.578431\n",
       "4        0.724138\n",
       "5        0.200000\n",
       "6        0.136364\n",
       "7        0.333333\n",
       "8        0.000000\n",
       "11       0.000000"
      ]
     },
     "execution_count": 21,
     "metadata": {},
     "output_type": "execute_result"
    }
   ],
   "source": [
    "# calculate the survival rates for the different family sizes\n",
    "fam_survival = titanic_df[['FamSize', 'Survived']].groupby('FamSize').mean()\n",
    "\n",
    "fam_survival"
   ]
  },
  {
   "cell_type": "code",
   "execution_count": 22,
   "metadata": {
    "collapsed": false
   },
   "outputs": [
    {
     "data": {
      "image/png": "[encoded data removed]",
      "text/plain": [
       "<matplotlib.figure.Figure at 0xce7100c940>"
      ]
     },
     "metadata": {},
     "output_type": "display_data"
    }
   ],
   "source": [
    "# vector for the bar positions\n",
    "ind = np.arange(1, np.max(fam_survival.index.values) + 1) \n",
    "\n",
    "# add empty entries to the survival rates to get the same number of data points as in the bar position vector\n",
    "fam_survival = fam_survival.reindex(ind)\n",
    "\n",
    "# bar width\n",
    "width = 0.8\n",
    "\n",
    "# bar plot\n",
    "fig, ax = plt.subplots()\n",
    "\n",
    "survival_rates = fam_survival['Survived'].values\n",
    "ax.bar(ind, survival_rates, width)\n",
    "\n",
    "# format plot\n",
    "ax.set(xlabel='Family size', xticks=ind + width/2, xticklabels=ind.astype(int), xlim=[0.8, 12], ylabel='Survival rate', \n",
    "       title='Survival by family size')\n",
    "\n",
    "plt.show()"
   ]
  },
  {
   "cell_type": "markdown",
   "metadata": {},
   "source": [
    "It seems like family size also influenced survival rates. Survival rates increase up to family sizes of 4 people and then fall significantly for larger families.\n",
    "\n",
    "The next parameter I want to look at is the fare each passenger paid. As this feature correlates with the ticket class I would expect higher fares correspond to higher survival rates. To characterize the different fare classes the data is split into 10 equally-sized quantiles using the `qcut()`function and the results are plotted in a bar chart."
   ]
  },
  {
   "cell_type": "code",
   "execution_count": 23,
   "metadata": {
    "collapsed": false
   },
   "outputs": [
    {
     "data": {
      "image/png": "[encoded data removed]",
      "text/plain": [
       "<matplotlib.figure.Figure at 0xce70e6f2b0>"
      ]
     },
     "metadata": {},
     "output_type": "display_data"
    }
   ],
   "source": [
    "# create a new feature column containing the fare class\n",
    "titanic_df[\"FareClass\"] = pd.qcut(titanic_df['Fare'], 10)\n",
    "\n",
    "# calculate the mean survival rates for all fare classes\n",
    "fare_survival = titanic_df[['FareClass', 'Survived']].groupby(['FareClass']).mean()\n",
    "\n",
    "# vector for the bar positions\n",
    "ind = np.arange(len(fare_survival)) \n",
    "\n",
    "# bar width\n",
    "width = 0.8\n",
    "\n",
    "# bar plot\n",
    "fig, ax = plt.subplots()\n",
    "\n",
    "ax.bar(ind, fare_survival['Survived'], width, color='green')\n",
    "\n",
    "# format plot\n",
    "ax.set(xlabel='Fare class', xticks=(ind + width/2), xticklabels=np.arange(1, 11), ylabel='Survival rate', \n",
    "       title='Survival by fare class')\n",
    "\n",
    "plt.show()"
   ]
  },
  {
   "cell_type": "markdown",
   "metadata": {},
   "source": [
    "One can see that passengers with higher fares (which corresponds with a higher class) had better chances of survival in general.\n",
    "\n",
    "The last features I investigated during my analysis are the titles extracted from the passenger names. To do this, the data was grouped by the titles and the mean survival rates are calculated for each group. For better comparison the `sort_values()` method is used to sort the groups in descending order of their survival rates. The Sex column is used to show which genders are represented in which title group."
   ]
  },
  {
   "cell_type": "code",
   "execution_count": 24,
   "metadata": {
    "collapsed": false
   },
   "outputs": [
    {
     "data": {
      "text/html": [
       "<div>\n",
       "<table border=\"1\" class=\"dataframe\">\n",
       "  <thead>\n",
       "    <tr style=\"text-align: right;\">\n",
       "      <th></th>\n",
       "      <th>Sex</th>\n",
       "      <th>Survived</th>\n",
       "    </tr>\n",
       "    <tr>\n",
       "      <th>Title</th>\n",
       "      <th></th>\n",
       "      <th></th>\n",
       "    </tr>\n",
       "  </thead>\n",
       "  <tbody>\n",
       "    <tr>\n",
       "      <th>Sir</th>\n",
       "      <td>1.000000</td>\n",
       "      <td>1.000000</td>\n",
       "    </tr>\n",
       "    <tr>\n",
       "      <th>Countess</th>\n",
       "      <td>0.000000</td>\n",
       "      <td>1.000000</td>\n",
       "    </tr>\n",
       "    <tr>\n",
       "      <th>Ms</th>\n",
       "      <td>0.000000</td>\n",
       "      <td>1.000000</td>\n",
       "    </tr>\n",
       "    <tr>\n",
       "      <th>Mme</th>\n",
       "      <td>0.000000</td>\n",
       "      <td>1.000000</td>\n",
       "    </tr>\n",
       "    <tr>\n",
       "      <th>Lady</th>\n",
       "      <td>0.000000</td>\n",
       "      <td>1.000000</td>\n",
       "    </tr>\n",
       "    <tr>\n",
       "      <th>Mlle</th>\n",
       "      <td>0.000000</td>\n",
       "      <td>1.000000</td>\n",
       "    </tr>\n",
       "    <tr>\n",
       "      <th>Mrs</th>\n",
       "      <td>0.000000</td>\n",
       "      <td>0.792000</td>\n",
       "    </tr>\n",
       "    <tr>\n",
       "      <th>Miss</th>\n",
       "      <td>0.000000</td>\n",
       "      <td>0.697802</td>\n",
       "    </tr>\n",
       "    <tr>\n",
       "      <th>Master</th>\n",
       "      <td>1.000000</td>\n",
       "      <td>0.575000</td>\n",
       "    </tr>\n",
       "    <tr>\n",
       "      <th>Col</th>\n",
       "      <td>1.000000</td>\n",
       "      <td>0.500000</td>\n",
       "    </tr>\n",
       "    <tr>\n",
       "      <th>Major</th>\n",
       "      <td>1.000000</td>\n",
       "      <td>0.500000</td>\n",
       "    </tr>\n",
       "    <tr>\n",
       "      <th>Dr</th>\n",
       "      <td>0.857143</td>\n",
       "      <td>0.428571</td>\n",
       "    </tr>\n",
       "    <tr>\n",
       "      <th>Mr</th>\n",
       "      <td>1.000000</td>\n",
       "      <td>0.156673</td>\n",
       "    </tr>\n",
       "    <tr>\n",
       "      <th>Jonkheer</th>\n",
       "      <td>1.000000</td>\n",
       "      <td>0.000000</td>\n",
       "    </tr>\n",
       "    <tr>\n",
       "      <th>Don</th>\n",
       "      <td>1.000000</td>\n",
       "      <td>0.000000</td>\n",
       "    </tr>\n",
       "    <tr>\n",
       "      <th>Rev</th>\n",
       "      <td>1.000000</td>\n",
       "      <td>0.000000</td>\n",
       "    </tr>\n",
       "    <tr>\n",
       "      <th>Capt</th>\n",
       "      <td>1.000000</td>\n",
       "      <td>0.000000</td>\n",
       "    </tr>\n",
       "  </tbody>\n",
       "</table>\n",
       "</div>"
      ],
      "text/plain": [
       "               Sex  Survived\n",
       "Title                       \n",
       "Sir       1.000000  1.000000\n",
       "Countess  0.000000  1.000000\n",
       "Ms        0.000000  1.000000\n",
       "Mme       0.000000  1.000000\n",
       "Lady      0.000000  1.000000\n",
       "Mlle      0.000000  1.000000\n",
       "Mrs       0.000000  0.792000\n",
       "Miss      0.000000  0.697802\n",
       "Master    1.000000  0.575000\n",
       "Col       1.000000  0.500000\n",
       "Major     1.000000  0.500000\n",
       "Dr        0.857143  0.428571\n",
       "Mr        1.000000  0.156673\n",
       "Jonkheer  1.000000  0.000000\n",
       "Don       1.000000  0.000000\n",
       "Rev       1.000000  0.000000\n",
       "Capt      1.000000  0.000000"
      ]
     },
     "execution_count": 24,
     "metadata": {},
     "output_type": "execute_result"
    }
   ],
   "source": [
    "# calculate the mean survival rates for all title groups\n",
    "title_survival = titanic_df[['Title', 'Sex', 'Survived']].groupby(['Title']).mean().sort_values('Survived', ascending=False)\n",
    "title_survival"
   ]
  },
  {
   "cell_type": "markdown",
   "metadata": {
    "collapsed": true
   },
   "source": [
    "Again, these results show that passenger gender was the driving factor for survival. Except for the title \"Sir\" (which was only a single male passenger), female only groups had much higher chances of survial. \"Dr.\" was the only title carried by both genders (about 85 % male and 15 % female)."
   ]
  },
  {
   "cell_type": "markdown",
   "metadata": {},
   "source": [
    "## Conclusion\n",
    "\n",
    "In this section all the insights gained from the analysis above are consolidated to answer the questions initially posed.\n",
    "\n",
    "First, one can say that the detailed analysis confirmed the correlation heatmap and the most important factor for passengers survival seems gender. The mean survival rate calculations for the different passenger classes and the visualization of survival by fare class  showed that residing closer to the deck increased the chances of surviving the crash as well. The relation between fare/passenger class and gender has not been investigated in this report but I would expect gender to be more relevant, similar to the results found by investigating the different titles or the survival by age group. Age showed a slightly negative correlation with survival (the older the less likely to survive). But splitting the different age groups by gender again showed the discrepancy between male and female passengers. The family size feature showed a maximum survival rate for 4 people which decreased for lower and larger families.\n",
    "\n",
    "To conclude I would say that sex is the feature which influenced passengers survival the most. Passenger class/fare prize rank second and are followed by age and family size. I can also answer my second question with yes and confirm that women, children and the uppper-class had the highest chances of survival and were more likely to reach a life boat than other passenger groups."
   ]
  }
 ],
 "metadata": {
  "anaconda-cloud": {},
  "kernelspec": {
   "display_name": "Python [Root]",
   "language": "python",
   "name": "Python [Root]"
  },
  "language_info": {
   "codemirror_mode": {
    "name": "ipython",
    "version": 3
   },
   "file_extension": ".py",
   "mimetype": "text/x-python",
   "name": "python",
   "nbconvert_exporter": "python",
   "pygments_lexer": "ipython3",
   "version": "3.5.2"
  }
 },
 "nbformat": 4,
 "nbformat_minor": 0
}
